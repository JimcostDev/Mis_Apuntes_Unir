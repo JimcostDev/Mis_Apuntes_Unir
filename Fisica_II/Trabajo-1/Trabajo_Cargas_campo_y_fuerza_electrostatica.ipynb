{
  "cells": [
    {
      "cell_type": "markdown",
      "metadata": {
        "id": "8AwxNKLe4X5l"
      },
      "source": [
        "\n",
        "<font size=6 color=\"#0098CD\">\n",
        "Trabajo: cargas, campo y fuerza electrostática\n",
        "</font>"
      ]
    },
    {
      "cell_type": "markdown",
      "metadata": {
        "id": "xh9tvAh3YzHj"
      },
      "source": [
        "---\n",
        "**Asignatura:** Física II\n",
        "\n",
        "**Presentado por:** *Ronaldo Jimenéz Acosta*\n",
        "\n",
        "**Fecha:** 31 - Oct - 2022\n",
        "\n",
        "---"
      ]
    },
    {
      "cell_type": "markdown",
      "metadata": {
        "id": "nfPKzvR34wdM"
      },
      "source": [
        "### 1. Objetivos\n",
        "* Aplicar los conceptos abordados en los temas 1 y 2, específicamente, aquellos relacionados con el cálculo de la fuerza entre dos partículas cargadas y el potencial eléctrico debido a una carga puntual.\n",
        "* Utilizar el lenguaje de programación Python para realizar cálculos básicos e implementar funciones. \n",
        "* Familiarizarse con el uso de cuadernos de Google Colaboratory combinando celdas de texto, expresiones matemáticas en $\\LaTeX{}$ y código ejecutable, en un mismo documento."
      ]
    },
    {
      "cell_type": "markdown",
      "metadata": {
        "id": "G7j0EB7t5BYM"
      },
      "source": [
        "### 2. Descripción de la actividad y pautas de elaboración\n",
        "\n",
        "A continuación, se plantean dos problemas que deben resolverse aplicando los conceptos y procedimientos abordados en los temas 1 y 2. El informe debe desarrollarse sobre este cuaderno de Google Colaboratory. La entrega debe hacerse **únicamente en formato PDF**, usando la opción Archivo/Imprimir del entorno de desarrollo y realizando los ajustes necesarios para garantizar la correcta visualización de todo el documento. Extensión máxima: 10 páginas."
      ]
    },
    {
      "cell_type": "markdown",
      "metadata": {
        "id": "6imYq-Jcm1eN"
      },
      "source": [
        "---\n",
        "\n",
        "#### Problema 1. Fuerza entre dos partículas cargadas $\\color{green}{\\text{(4.5 puntos)}}$\n",
        "---\n",
        "\n",
        "Una partícula con una carga de $5~\\mu C$ se ubica en el plano cartesiano, en el punto $P(-2, 1)$. Una segunda partícula, con una carga de $-8~\\mu C$, se ubica en el punto\n",
        "$Q(1, 5)$. La distancia, tanto en el eje vertical como en el horizontal, se mide en centímetros."
      ]
    },
    {
      "cell_type": "markdown",
      "metadata": {
        "id": "FtJo4D-WMgMs"
      },
      "source": [
        "a) \tCalcula la magnitud de la fuerza ejercida por la primera partícula sobre la segunda. ¿La fuerza es de atracción o de repulsión? Explica tu respuesta."
      ]
    },
    {
      "cell_type": "markdown",
      "metadata": {
        "id": "yyXL0dl8sbVd"
      },
      "source": [
        "> **Solución:**\n",
        "> #### 1. Hallar distancia (r) y convertir a metros:\n",
        "> ![img_plano](https://user-images.githubusercontent.com/53100460/198018985-5f34a612-2951-43df-8b4b-135dacf34033.png)\n",
        "> Plano Cartesiano. (s. f.). GeoGebra. Recuperado 31 de octubre de 2022, de https://www.geogebra.org/m/Wk7Y7N6V\n",
        ">\n",
        "> **1.1 Variables**:\n",
        ">      \n",
        "> * $P(-2_{X_{1}}, 1_{Y_{1}})$\n",
        ">     \n",
        "> * $Q(1_{X_{2}}, 5_{Y_{2}})$\n",
        ">\n",
        "> $r = \\sqrt{(X_{2} - X_{1})^2 + (Y_{2} - Y_{1})^2}$\n",
        ">\n",
        "> $r = \\sqrt{(1-(-2))^2 + (5-1)^2}$\n",
        ">\n",
        "> $r = \\sqrt{25} = 5_{CM}$\n",
        ">\n",
        "> **1.2 Centimetros a metros**:\n",
        ">\n",
        "> * $5_{CM} . \\frac{1_{M}}{100_{CM}} = 0.05_{M}$\n",
        ">\n",
        "> #### 2. Hallar Fuerza (F) \n",
        ">\n",
        "> **2.1 Convertimos $\\mu C$ a $\\ C$**\n",
        "> * $5_{\\mu C} . \\frac{1~_{\\ C}}{1e+6~_{\\mu C}} = 5e-6_{C}$\n",
        "> * $-8_{\\mu C} . \\frac{1~_{\\ C}}{1e+6~_{\\mu C}} = -8e-6_{C}$\n",
        ">\n",
        "> **2.2 Variables:**\n",
        "> * $q_{1} =  5e-6_{C}$\n",
        "> * $q_{2} =  -8e-6_{C}$\n",
        "> * $r = 0.05_{M}$\n",
        "> * $k = 9e9_{N.M^2/C^2}$\n",
        ">\n",
        "> $F = k.\\frac{|q_{1}.q_{2}|}{r^2}$\n",
        ">\n",
        "> $F = 9e9_{N.M^2/C^2} .\\frac{|5e-6_{C}.-8e-6_{C}|}{(0.05_{M})^2}$\n",
        ">\n",
        "> $F = 143,8_{N}$, aproximando da $144_{N}$\n",
        ">\n",
        "> Al ser un valor absoluto (manigtud) el valor es de: $144_{N}$\n",
        "> \n",
        "> Las cargas se atraen cuando tienen distinto signo. Entonces la fuerza es de **atracción.**\n"
      ]
    },
    {
      "cell_type": "markdown",
      "metadata": {
        "id": "Vr5fUKIGg4kP"
      },
      "source": [
        "b) \tComprueba la respuesta del literal **a)** con ayuda del siguiente simulador. Incluye en el informe una impresión de pantalla de la simulación. \n",
        "\n",
        "**Nota**: si no puedes visualizar el simulador, ejecuta la celda a continuación."
      ]
    },
    {
      "cell_type": "code",
      "execution_count": null,
      "metadata": {
        "colab": {
          "base_uri": "https://localhost:8080/",
          "height": 621
        },
        "id": "qlKOwoYph2N6",
        "outputId": "4aedd149-7161-4a3d-c55f-65dadbfa441d"
      },
      "outputs": [],
      "source": [
        "from IPython.display import IFrame\n",
        "\n",
        "IFrame(src=\"https://phet.colorado.edu/sims/html/coulombs-law/latest/coulombs-law_en.html\",\n",
        "       width=1080, height=600)"
      ]
    },
    {
      "cell_type": "markdown",
      "metadata": {
        "id": "ngAxXLWdh1A-"
      },
      "source": [
        ">**Solución:**\n",
        ">![img_simulacion](https://user-images.githubusercontent.com/53100460/198023543-6cfedf57-601d-4720-80cf-458483acc867.png)\n",
        "> ‪Coulomb’s Law‬. (s. f.). Recuperado 31 de octubre de 2022, de https://phet.colorado.edu/sims/html/coulombs-law/latest/coulombs-law_en.html\n",
        "> \n",
        "> De acuerdo a la simulación observo que la fuerza $(F)$ ejercida es de atracción con un valor de  $143,8_{N}$ "
      ]
    },
    {
      "cell_type": "markdown",
      "metadata": {
        "id": "CHJCOoO5fs1Y"
      },
      "source": [
        "c) \tEscribe una función en Python que calcule la magnitud de la fuerza entre dos partículas cargadas. Usa como parámetros, la carga y la posición $(x, y)$ de cada partícula. La función debe emplear el Sistema Internacional de Unidades (SI). Comprueba la función con los datos del problema."
      ]
    },
    {
      "cell_type": "code",
      "execution_count": 1,
      "metadata": {},
      "outputs": [
        {
          "name": "stdout",
          "output_type": "stream",
          "text": [
            "La fuerza es de: 144.0N\n"
          ]
        }
      ],
      "source": [
        "\n",
        "\"\"\"\n",
        "q1 = carga 1 = 5e-6\n",
        "q2 = carga 2 = -8e-6\n",
        "r = distancia = 0.05\n",
        "\n",
        "Nota: los valores deben de estar en expresados en la unidad base (SI) \n",
        "\"\"\"\n",
        "def calcularFuerza(q1,q2,r):\n",
        "    try:\n",
        "        carga_1 = q1\n",
        "        carga_2 = q2\n",
        "        distantacia = r\n",
        "        k = 9e9\n",
        "        F = k * abs((carga_1 * carga_2)) / (distantacia * distantacia)\n",
        "        return F\n",
        "    except Exception as e:\n",
        "        print(f'Ocurrio una excepciíon en la ejecución del programa: {e}')\n",
        "    \n",
        "def run():\n",
        "    try:\n",
        "        q1 = float(input('Ingrese valor de la carga uno (q1) en coloumb:> '))\n",
        "        q2 = float(input('Ingrese valor de la carga dos (q2) en coloumb:> '))\n",
        "        r = float(input('Ingrese valor de la distancia (r) en metros:> '))\n",
        "        print (f'La fuerza es de: {calcularFuerza(q1,q2,r)}N')\n",
        "    except Exception as e:\n",
        "        print(f'Ocurrio una excepciíon en la ejecución del programa: {e}')\n",
        "\n",
        "if __name__ == '__main__':\n",
        "    run()"
      ]
    },
    {
      "cell_type": "markdown",
      "metadata": {
        "id": "pf8Jlw8K08y6"
      },
      "source": [
        "---\n",
        "\n",
        "#### Problema 2. Potencial eléctrico debido a una carga puntual  $\\color{green}{\\text{(4.5 puntos)}}$\n",
        "---\n",
        "\n",
        "Una partícula con una carga de $3~nC$ se ubica en el origen del plano cartesiano."
      ]
    },
    {
      "cell_type": "markdown",
      "metadata": {
        "id": "o83MQlmE08-j"
      },
      "source": [
        "a) Calcula el potencial eléctrico, debido a la partícula cargada, en el punto $P(20, 12)$. La distancia, tanto en el eje vertical como en el horizontal, se mide en pulgadas."
      ]
    },
    {
      "cell_type": "markdown",
      "metadata": {
        "id": "LXUpFZos09m1"
      },
      "source": [
        ">**Solución:**\n",
        "> #### 1. Hallar distancia (r) y convertir a metros:\n",
        "> ![img_plano_2a](https://user-images.githubusercontent.com/53100460/198046331-181f27c0-6a92-427f-9a3c-f16ceb763077.png)\n",
        "> Plano Cartesiano. (s. f.). GeoGebra. Recuperado 31 de octubre de 2022, de https://www.geogebra.org/m/Wk7Y7N6V\n",
        ">\n",
        "> **1.1 Variables**:\n",
        ">      \n",
        "> * $P(0_{X_{1}}, 0_{Y_{1}})$\n",
        ">     \n",
        "> * $Q(20_{X_{2}}, 12_{Y_{2}})$\n",
        ">\n",
        "> $r = \\sqrt{(X_{2} - X_{1})^2 + (Y_{2} - Y_{1})^2}$\n",
        ">\n",
        "> $r = \\sqrt{(20-0)^2 + (12-0)^2}$\n",
        ">\n",
        "> $r = \\sqrt{544} = 23.324_{in}$\n",
        ">\n",
        "> **1.2 Pulgadas a metros**:\n",
        ">\n",
        "> * $23.324_{in} . \\frac{1_{M}}{39.3701_{in}} = 0.592_{M}$\n",
        ">\n",
        "> #### 2. Hallar potencial electrico (V)\n",
        ">\n",
        "> **2.1 Convertimos $nC$ a $\\ C$**\n",
        "> * $3~_{\\ nC} . \\frac{1~_{\\ C}}{1e^+9~_{\\ nC}} = 3e-9_{C}$\n",
        ">\n",
        "> **2.2 Variables:**\n",
        "> * $q=  3e-9_{C}$\n",
        "> * $r = 0.592_{M}$\n",
        "> * $k = 9e9_{N.M^2/C^2}$\n",
        ">\n",
        "> $V = k.\\frac{q}{r}$\n",
        ">\n",
        "> $V = 9e9_{N.M^2/C^2} .\\frac{3e-9_{C}}{0.592_{M}}$\n",
        ">\n",
        "> $V = 45.6_{V}$\n",
        "\n"
      ]
    },
    {
      "cell_type": "markdown",
      "metadata": {
        "id": "VMZlSZqr1cof"
      },
      "source": [
        "b) \tComprueba la respuesta del literal **a)** con ayuda del siguiente simulador. Incluye en el informe una impresión de pantalla de la simulación. \n",
        "\n",
        "**Nota**: si no puedes visualizar el simulador, ejecuta la celda a continuación."
      ]
    },
    {
      "cell_type": "code",
      "execution_count": null,
      "metadata": {
        "colab": {
          "base_uri": "https://localhost:8080/",
          "height": 621
        },
        "id": "2pRorM-U1hau",
        "outputId": "0dc4b7d1-f08c-477c-95e0-c939d7bbf9cc"
      },
      "outputs": [],
      "source": [
        "from IPython.display import IFrame\n",
        "\n",
        "IFrame(src=\"https://phet.colorado.edu/sims/html/charges-and-fields/latest/charges-and-fields_en.html\",\n",
        "       width=800, height=600)"
      ]
    },
    {
      "cell_type": "markdown",
      "metadata": {
        "id": "k8YCBPNV1qsd"
      },
      "source": [
        ">**Solución:**\n",
        ">\n",
        "> ![img_simulacion_2](https://user-images.githubusercontent.com/53100460/198426955-3c6c9ecb-a88d-4beb-b97e-e7408dc126a3.png)\n",
        ">\n",
        "> ‪Cargas y campos‬ 1.0.50. (s. f.). Recuperado 31 de octubre de 2022, de https://phet.colorado.edu./sims/html/charges-and-fields/latest/charges-and-fields_es.html"
      ]
    },
    {
      "cell_type": "markdown",
      "metadata": {
        "id": "-9bkU20g1wbK"
      },
      "source": [
        "c) Escribe una función en Python que calcule el potencial eléctrico debido a una carga puntual. Usa como parámetros, la carga y el punto $P(x, y)$ en que se quiere conocer el potencial. La función debe emplear el Sistema Internacional de Unidades (SI). Comprueba la función con los datos del problema."
      ]
    },
    {
      "cell_type": "code",
      "execution_count": 2,
      "metadata": {
        "id": "PgYTep-c1wxB"
      },
      "outputs": [
        {
          "name": "stdout",
          "output_type": "stream",
          "text": [
            "El potencial electrico es de: 45.61V\n"
          ]
        }
      ],
      "source": [
        "def calcularPotencialElectico(q,r):\n",
        "    try:\n",
        "        carga = q\n",
        "        distantacia = r\n",
        "        k = 9e9\n",
        "        F = k * (carga) / (distantacia)\n",
        "        return F\n",
        "    except Exception as e:\n",
        "        print(f'Ocurrio una excepciíon en la ejecución del programa: {e}')\n",
        "    \n",
        "def run():\n",
        "    try:\n",
        "        q = float(input('Ingrese valor de la carga (q) en coloumb:> '))\n",
        "        r = float(input('Ingrese valor de la distancia (r) en metros:> '))\n",
        "        print (f'El potencial electrico es de: {round(calcularPotencialElectico(q,r),2)}V')\n",
        "    except Exception as e:\n",
        "        print(f'Ocurrio una excepciíon en la ejecución del programa: {e}')\n",
        "\n",
        "if __name__ == '__main__':\n",
        "    run()"
      ]
    },
    {
      "cell_type": "markdown",
      "metadata": {
        "id": "yt_DwXYv8I1b"
      },
      "source": [
        "---\n",
        "#### Conclusiones $\\color{green}{\\text{(1 punto)}}$\n",
        "---\n",
        "Registra dos o tres conclusiones sobre esta actividad. Considera: los conceptos abordados, los problemas propuestos, las simulaciones de PhET y el uso del entorno interactivo Google Colaboratory para la solución."
      ]
    },
    {
      "cell_type": "markdown",
      "metadata": {
        "id": "xDGIJ3Rf0QEh"
      },
      "source": [
        ">**Respuesta:**\n",
        "\n",
        "1. En este trabajo pude observar como se manifiesta las fuerzas de atracción o repulsión (fuerza eléctrica), por ejemplo en el punto 1 se observa como hay una fuerza de atracción debido a que una carga es positiva(+) y la otra negativa (-) y me quedo mucho más claro con el simulador. \n",
        "\n",
        "2. Aprendí a utilizar de forma práctica los Jupyter Notebooks o Google Colab, Markdown y Latex para la documentación del trabajo y por si fuera poco a usar Python para crear algoritmos para probar lo aprendido."
      ]
    },
    {
      "cell_type": "markdown",
      "metadata": {
        "id": "xqwr9Q419cW1"
      },
      "source": [
        "### 3. Resultados de aprendizaje y criterios de evaluación\n",
        "Esta actividad formativa del curso de Física II orienta el aprendizaje hacia el logro del siguiente resultado: \n",
        "\n",
        "•\t*Interpretar conceptos y leyes asociados al electromagnetismo (campo y potencial eléctrico, inducción magnética y campo magnético, ondas electro magnéticas)*.\n",
        "\n",
        "Para evaluar el resultado antes descrito se propone a continuación, la rúbrica con los aspectos y criterios que se tendrán en cuenta para la retroalimentación y calificación de esta actividad. \n",
        "\n"
      ]
    },
    {
      "cell_type": "markdown",
      "metadata": {
        "id": "22eiXO5B_OEx"
      },
      "source": [
        "![rubrica.png](data:image/png;base64,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)"
      ]
    }
  ],
  "metadata": {
    "colab": {
      "collapsed_sections": [],
      "provenance": [],
      "toc_visible": true
    },
    "kernelspec": {
      "display_name": "Python 3.10.5 64-bit",
      "language": "python",
      "name": "python3"
    },
    "language_info": {
      "codemirror_mode": {
        "name": "ipython",
        "version": 3
      },
      "file_extension": ".py",
      "mimetype": "text/x-python",
      "name": "python",
      "nbconvert_exporter": "python",
      "pygments_lexer": "ipython3",
      "version": "3.10.5"
    },
    "vscode": {
      "interpreter": {
        "hash": "07435c5db8cdf0eda12355611327544e1e2ed2c68f64c0e507cf2d1a5a42fd93"
      }
    }
  },
  "nbformat": 4,
  "nbformat_minor": 0
}
