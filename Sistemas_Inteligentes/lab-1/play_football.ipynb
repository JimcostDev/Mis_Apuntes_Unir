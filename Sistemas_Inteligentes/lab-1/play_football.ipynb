{
 "cells": [
  {
   "cell_type": "markdown",
   "metadata": {},
   "source": [
    "# Trabajo: Construcción de una representación\n",
    "\n",
    "**Asignatura**: Sistemas Inteligentes\n",
    "\n",
    "**Estudiante**: Ronaldo Jiménez Acosta"
   ]
  },
  {
   "cell_type": "markdown",
   "metadata": {},
   "source": [
    "## Jugar Fútbol\n",
    "\n",
    "El fútbol es mi deporte favorito, lo veo e intento practicarlo cada semana; es una actividad compleja\n",
    "que requiere una combinación de habilidades físicas, tácticas, estratégicas y mentales. En este trabajo, hago una representación del conocimiento necesario para jugar fútbol utilizando un algoritmo en Python.\n",
    "\n",
    "Para representar el conocimiento necesario para jugar fútbol, utilizo un enfoque basado en reglas y condiciones. Esto permite plasmar las decisiones que un jugador toma en diferentes situaciones durante un partido."
   ]
  },
  {
   "cell_type": "code",
   "execution_count": 1,
   "metadata": {},
   "outputs": [
    {
     "name": "stdout",
     "output_type": "stream",
     "text": [
      "Kevin pasa la pelota a Ronaldo.\n",
      "Ronaldo dispara a gol.\n",
      "Cris está demasiado cansado para defender.\n"
     ]
    }
   ],
   "source": [
    "class JugadorFutbol:\n",
    "    def __init__(self, nombre, posicion, energia):\n",
    "        self.nombre = nombre\n",
    "        self.posicion = posicion\n",
    "        self.energia = energia\n",
    "\n",
    "    def pasar_pelota(self, companero):\n",
    "        if self.energia > 20:\n",
    "            print(f\"{self.nombre} pasa la pelota a {companero.nombre}.\")\n",
    "            self.energia -= 10\n",
    "        else:\n",
    "            print(f\"{self.nombre} está demasiado cansado para pasar la pelota.\")\n",
    "\n",
    "    def disparar_a_gol(self):\n",
    "        if self.energia > 30:\n",
    "            print(f\"{self.nombre} dispara a gol.\")\n",
    "            self.energia -= 20\n",
    "        else:\n",
    "            print(f\"{self.nombre} está demasiado cansado para disparar a gol.\")\n",
    "\n",
    "    def defender(self):\n",
    "        if self.energia > 15:\n",
    "            print(f\"{self.nombre} defiende.\")\n",
    "            self.energia -= 5\n",
    "        else:\n",
    "            print(f\"{self.nombre} está demasiado cansado para defender.\")\n",
    "\n",
    "# Crear jugadores\n",
    "jugador1 = JugadorFutbol(\"Ronaldo\", \"Delantero\", 40)\n",
    "jugador2 = JugadorFutbol(\"Kevin\", \"Centrocampista\", 60)\n",
    "jugador3 = JugadorFutbol(\"Cris\", \"Centrocampista\", 10)\n",
    "\n",
    "# Simular acciones\n",
    "jugador2.pasar_pelota(jugador1)\n",
    "jugador1.disparar_a_gol()\n",
    "jugador3.defender()\n"
   ]
  },
  {
   "cell_type": "markdown",
   "metadata": {},
   "source": [
    "### Reflexiones\n",
    "\n",
    "#### 1. Adecuación al Propósito\n",
    "**Cumplimiento:** El algoritmo está diseñado para simular acciones básicas de los jugadores de fútbol, como pasar la pelota, disparar a gol y defender, tomando en cuenta la energía de cada jugador.\n",
    "\n",
    "**Reflexión:** La representación es adecuada para el propósito de modelar decisiones y acciones de jugadores de fútbol, considerando la energía como un factor limitante. Este enfoque captura las acciones típicas y las condiciones bajo las cuales se pueden realizar, ofreciendo una visión realista de la dinámica del juego.\n",
    "\n",
    "#### 2. Granularidad\n",
    "**Cumplimiento:** El nivel de granularidad es moderado, ya que se consideran acciones específicas (pasar, disparar, defender) y un estado particular del jugador (energía).\n",
    "\n",
    "**Reflexión:** La granularidad es suficiente para entender las decisiones de los jugadores y cómo su energía afecta sus capacidades. Sin embargo, podría ser mejorado añadiendo más detalles sobre otras acciones posibles y estados de los jugadores, como lesiones o motivación.\n",
    "\n",
    "#### 3. Comprensibilidad\n",
    "**Cumplimiento:** El código es claro y fácil de entender, con métodos definidos que realizan acciones específicas basadas en la energía del jugador.\n",
    "\n",
    "**Reflexión:** La claridad del algoritmo facilita la comprensión de las decisiones y acciones de los jugadores, lo que es crucial para una correcta implementación y uso. Las acciones y sus condiciones están bien definidas, haciendo que el comportamiento del sistema sea predecible y fácil de seguir.\n",
    "\n",
    "#### 4. Extensibilidad\n",
    "**Cumplimiento:** El algoritmo es extensible, ya que se pueden añadir fácilmente nuevas acciones o modificar las condiciones existentes sin afectar la estructura general del código.\n",
    "\n",
    "**Reflexión:** La estructura del código permite agregar nuevas funcionalidades, como más acciones de los jugadores o nuevas reglas del juego, sin complicar el diseño original. Esto es beneficioso para futuros desarrollos y mejoras.\n",
    "\n",
    "#### 5. Eficiencia\n",
    "**Cumplimiento:** El algoritmo es eficiente para la tarea que realiza, ya que cada decisión se toma de manera directa y sencilla, basándose en la energía del jugador.\n",
    "\n",
    "**Reflexión:** Para una tarea básica como simular acciones de jugadores en un juego de fútbol, la eficiencia es adecuada. Las condiciones simples y las reducciones de energía son manejadas rápidamente, lo que es suficiente para el nivel de detalle actual del modelo.\n",
    "\n",
    "#### 6. Exactitud\n",
    "**Cumplimiento:** La representación es exacta en cuanto a las acciones básicas que un jugador de fútbol puede tomar y cómo su energía afecta su capacidad para realizarlas.\n",
    "\n",
    "**Reflexión:** La exactitud podría mejorarse añadiendo más detalles sobre las circunstancias del juego y otros factores que influyen en las decisiones de los jugadores. Sin embargo, para los propósitos básicos del modelo, la exactitud es suficiente para representar las decisiones clave de los jugadores.\n"
   ]
  }
 ],
 "metadata": {
  "kernelspec": {
   "display_name": "Python 3",
   "language": "python",
   "name": "python3"
  },
  "language_info": {
   "codemirror_mode": {
    "name": "ipython",
    "version": 3
   },
   "file_extension": ".py",
   "mimetype": "text/x-python",
   "name": "python",
   "nbconvert_exporter": "python",
   "pygments_lexer": "ipython3",
   "version": "3.12.1"
  }
 },
 "nbformat": 4,
 "nbformat_minor": 2
}
