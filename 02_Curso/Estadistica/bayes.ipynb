{
 "cells": [
  {
   "cell_type": "markdown",
   "metadata": {},
   "source": [
    "## Teorema de Bayes en Python\n",
    "\n",
    "El teorema de Bayes es un principio fundamental en la teoría de la probabilidad que nos permite actualizar la probabilidad de un evento en función de nueva evidencia. En este ejemplo, veremos cómo calcular y aplicar el teorema de Bayes utilizando Python.\n",
    "\n",
    "Supongamos que tenemos dos eventos, A y B. Queremos calcular la probabilidad de que ocurra el evento A dado que ha ocurrido el evento B. El teorema de Bayes se expresa de la siguiente manera:\n",
    "\n",
    "\\[ P(A|B) = \\frac{P(B|A) \\cdot P(A)}{P(B)} \\]\n",
    "\n",
    "Donde:\n",
    "- \\( P(A|B) \\) es la probabilidad condicional de que ocurra A dado que ha ocurrido B.\n",
    "- \\( P(B|A) \\) es la probabilidad condicional de que ocurra B dado que ha ocurrido A.\n",
    "- \\( P(A) \\) es la probabilidad de que ocurra A.\n",
    "- \\( P(B) \\) es la probabilidad de que ocurra B.\n",
    "\n",
    "A continuación se muestra cómo puedes implementar este cálculo en Python:"
   ]
  },
  {
   "cell_type": "code",
   "execution_count": 1,
   "metadata": {},
   "outputs": [
    {
     "name": "stdout",
     "output_type": "stream",
     "text": [
      "La probabilidad de A dado B es: 0.4615384615384615\n"
     ]
    }
   ],
   "source": [
    "# Definir las probabilidades iniciales\n",
    "p_a = 0.3  # Probabilidad de A\n",
    "p_b_given_a = 0.8  # Probabilidad de B dado A\n",
    "p_b_given_not_a = 0.4  # Probabilidad de B dado no A\n",
    "\n",
    "# Calcular la probabilidad de B\n",
    "p_b = (p_b_given_a * p_a) + (p_b_given_not_a * (1 - p_a))\n",
    "\n",
    "# Calcular la probabilidad de A dado B usando el teorema de Bayes\n",
    "p_a_given_b = (p_b_given_a * p_a) / p_b\n",
    "\n",
    "print(\"La probabilidad de A dado B es:\", p_a_given_b)"
   ]
  }
 ],
 "metadata": {
  "kernelspec": {
   "display_name": "Python 3",
   "language": "python",
   "name": "python3"
  },
  "language_info": {
   "codemirror_mode": {
    "name": "ipython",
    "version": 3
   },
   "file_extension": ".py",
   "mimetype": "text/x-python",
   "name": "python",
   "nbconvert_exporter": "python",
   "pygments_lexer": "ipython3",
   "version": "3.10.5"
  },
  "orig_nbformat": 4
 },
 "nbformat": 4,
 "nbformat_minor": 2
}
