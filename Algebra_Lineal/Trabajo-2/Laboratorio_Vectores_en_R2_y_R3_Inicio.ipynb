{
  "cells": [
    {
      "cell_type": "markdown",
      "metadata": {
        "id": "RJPXPI0UmU-2"
      },
      "source": [
        "<font size=6 color=\"#0098CD\">\n",
        "Álgebra Lineal\n",
        "</font>\n",
        "\n",
        "Laboratorio: vectores en $\\mathbb{R}^2$ y $\\mathbb{R}^3$"
      ]
    },
    {
      "cell_type": "markdown",
      "metadata": {
        "id": "r_2pdpldCRbY"
      },
      "source": [
        "---\n",
        "**Asignatura:** Álgebra Lineal\n",
        "\n",
        "**Presentado por:** *Ronaldo Jiménez Acosta* \n",
        "\n",
        "**Fecha:** 28 de noviembre de 2022 \n",
        "\n",
        "---"
      ]
    },
    {
      "cell_type": "markdown",
      "metadata": {
        "id": "kQhKkokcCYd6"
      },
      "source": [
        "### 1. Objetivos\n",
        "* Aplicar los conceptos abordados en el tema 3, específicamente, aquellos relacionados con vectores y transformaciones lineales. \n",
        "* Utilizar el lenguaje de programación Python para realizar cálculos básicos, representaciones gráficas en 2D y 3D, y operaciones con matrices."
      ]
    },
    {
      "cell_type": "markdown",
      "metadata": {
        "id": "QitPAICaClYN"
      },
      "source": [
        "### 2. Descripción de la actividad y pautas de elaboración\n",
        "\n",
        "A continuación, se plantean tres problemas que deben resolverse aplicando los conceptos y procedimientos abordados en el **tema 3**. La entrega debe hacerse **únicamente en formato PDF**. Extensión máxima: 10 páginas."
      ]
    },
    {
      "cell_type": "markdown",
      "metadata": {
        "id": "6imYq-Jcm1eN"
      },
      "source": [
        "---\n",
        "\n",
        "#### Problema 1. Vectores en $\\mathbb{R}^2$ $\\color{green}{\\text{(3 puntos)}}$\n",
        "---"
      ]
    },
    {
      "cell_type": "markdown",
      "metadata": {
        "id": "Ag6WYuzrxuDD"
      },
      "source": [
        "**a) Define dos vectores $\\overrightarrow{u} = a \\hat{i} + b \\hat{j}$ y $\\overrightarrow{v} = c \\hat{i} + d \\hat{j}$**"
      ]
    },
    {
      "cell_type": "markdown",
      "metadata": {
        "id": "Ja0cB0P8Mu4M"
      },
      "source": [
        "**Solución:**\n",
        ">\n",
        ">Sean:\n",
        ">\n",
        ">$\\overrightarrow{u} = 2\\hat{i}+ 4\\hat{j}$\n",
        ">\n",
        ">$\\overrightarrow{v} = 6\\hat{i} + 6\\hat{j}$"
      ]
    },
    {
      "cell_type": "code",
      "execution_count": 72,
      "metadata": {
        "id": "QyqByRKeOMD2"
      },
      "outputs": [],
      "source": [
        "#Importar la librería numpy con el alias np\n",
        "import numpy as np\n",
        "\n",
        "#Definir los dos vectores\n",
        "u = np.array([2,4])\n",
        "v = np.array([6,6])\n"
      ]
    },
    {
      "cell_type": "markdown",
      "metadata": {
        "id": "XE2rXsDqOeDj"
      },
      "source": [
        "**b) Calcula la proyección de $\\overrightarrow{u}$ sobre $\\overrightarrow{v}$**"
      ]
    },
    {
      "cell_type": "markdown",
      "metadata": {
        "id": "0RDqsjVlB18_"
      },
      "source": [
        "**Solución:**\n",
        ">\n",
        ">La proyección de $\\overrightarrow{u}$ sobre >$\\overrightarrow{v}$ se calcula con la expresión:\n",
        ">\n",
        ">$\\color{red}{\\text{Explicar procedimiento paso a >paso...}}$\n",
        ">\n",
        ">$proy_vu = \\dfrac{\\overrightarrow{u} \\cdot >\\overrightarrow{v}}{|\\overrightarrow{v}|^2} >\\overrightarrow{v}$\n",
        ">\n",
        "> * $\\overrightarrow{u}.\\overrightarrow{v} = (2)(6) + (4)(6) = 36$\n",
        ">\n",
        "> * $|\\overrightarrow{v}| = \\sqrt{6^{2} + 6^{2}} = 8.485$\n",
        ">\n",
        "> * $proy_vu = \\dfrac{36}{8.485^{2}} >\\overrightarrow{v}$\n",
        ">\n",
        "> * $proy_vu = \\dfrac{36}{72} >\\overrightarrow{v} = 0.5 >\\overrightarrow{v}$\n",
        ">\n",
        "> * $proy_vu = 3\\hat{i} + 3\\hat{j}$\n",
        ">"
      ]
    },
    {
      "cell_type": "code",
      "execution_count": 17,
      "metadata": {
        "id": "u00xL_zPFeKy"
      },
      "outputs": [
        {
          "name": "stdout",
          "output_type": "stream",
          "text": [
            "[3. 3.]\n"
          ]
        }
      ],
      "source": [
        "#Comprobación del resultado con numpy\n",
        "proy = (np.dot(u,v)/np.linalg.norm(v)**2) * v\n",
        "print(proy)"
      ]
    },
    {
      "cell_type": "markdown",
      "metadata": {
        "id": "4weYRa3AGmy5"
      },
      "source": [
        "**c) Traza la gráfica de los vectores $\\overrightarrow{u}$, $\\overrightarrow{v}$ y de la proyección vectorial de $\\overrightarrow{u}$ sobre $\\overrightarrow{v}$, en el plano cartesiano, usando Matplotlib.**"
      ]
    },
    {
      "cell_type": "code",
      "execution_count": 19,
      "metadata": {
        "id": "MAGO3Qo3G-KH"
      },
      "outputs": [
        {
          "data": {
            "image/png": "[encoded data removed]",
            "text/plain": [
              "<Figure size 432x288 with 1 Axes>"
            ]
          },
          "metadata": {
            "needs_background": "light"
          },
          "output_type": "display_data"
        }
      ],
      "source": [
        "import matplotlib.pyplot as plt\n",
        "\n",
        "#Configurar ejes\n",
        "fig, ax = plt.subplots()\n",
        "ax.grid()\n",
        "ax.set_xlim(-1, 7), ax.set_ylim(-2, 7)\n",
        "ax.set_xlabel(\"x\"), ax.set_ylabel(\"y\")\n",
        "ax.set_title(\"Figura 1. Representación vectores problema 1\")\n",
        "\n",
        "#Señalar el origen\n",
        "ax.scatter(0, 0, color=\"k\")\n",
        "\n",
        "#Gráficar los vectores\n",
        "#Vector u\n",
        "ax.quiver(u[0], u[1], angles=\"xy\", scale_units=\"xy\", scale=1, color=\"g\")\n",
        "ax.text(u[0], u[1], \"$\\overrightarrow{u}$\")\n",
        "\n",
        "#Vector v\n",
        "ax.quiver(v[0], v[1], angles=\"xy\", scale_units=\"xy\", scale=1, color=\"b\")\n",
        "ax.text(v[0], v[1], \"$\\overrightarrow{v}$\")\n",
        "\n",
        "#Vector proyección de u sobre v\n",
        "ax.quiver(proy[0], proy[1], angles=\"xy\", scale_units=\"xy\", scale=1, color=\"r\")\n",
        "ax.text(1.2, -0.5, \"$proy_vu$\")\n",
        "\n",
        "# Mostrar la gráfica\n",
        "plt.show()"
      ]
    },
    {
      "cell_type": "markdown",
      "metadata": {
        "id": "pa6Wq21YNSC2"
      },
      "source": [
        "---\n",
        "\n",
        "#### Problema 2. Vectores en $\\mathbb{R}^3$ $\\color{green}{\\text{(3 puntos)}}$\n",
        "---"
      ]
    },
    {
      "cell_type": "markdown",
      "metadata": {
        "id": "GTrgthFkNXub"
      },
      "source": [
        "**a) Define dos vectores $\\overrightarrow{u_1} = a \\hat{i} + b \\hat{j} + c \\hat{k}$ y $\\overrightarrow{v_1} = d \\hat{i} + e \\hat{j} + f \\hat{k}$**"
      ]
    },
    {
      "cell_type": "markdown",
      "metadata": {
        "id": "o9F8b5lCN0P2"
      },
      "source": [
        "**Solución:**\n",
        ">\n",
        ">Sean:\n",
        ">\n",
        ">$\\overrightarrow{u_1} = 2\\hat{i}+ 4\\hat{j} + 1\\hat{k}$\n",
        ">\n",
        ">$\\overrightarrow{v_1} = 6\\hat{i} + 6\\hat{j} + 2\\hat{k}$"
      ]
    },
    {
      "cell_type": "code",
      "execution_count": 73,
      "metadata": {
        "id": "50lyJ9S4NvX5"
      },
      "outputs": [],
      "source": [
        "#Definir los dos vectores\n",
        "u_ = np.array([2,4,1])\n",
        "v_= np.array([6,6,2])"
      ]
    },
    {
      "cell_type": "markdown",
      "metadata": {
        "id": "C-0np9G-OXba"
      },
      "source": [
        "**b) Calcula el producto vectorial $\\overrightarrow{w} = \\overrightarrow{u_1} \\times \\overrightarrow{v_1}$**"
      ]
    },
    {
      "cell_type": "markdown",
      "metadata": {
        "id": "va8bHErrF8Ql"
      },
      "source": [
        "**Solución:**\n",
        ">\n",
        ">El producto vectorial...\n",
        ">\n",
        ">$\\color{red}{\\text{Explicar procedimiento paso a paso...}}$\n",
        ">\n",
        "> $\\overrightarrow{w} = \\begin{bmatrix}\n",
        "> \\hat{i} & \\hat{j} & \\hat{k}\\\\\n",
        "> 2 & 4 & 1\\\\\n",
        "> 6 & 6 & 2\n",
        "> \\end{bmatrix}$\n",
        "> $=$\n",
        "> $\\hat{i} \\begin{bmatrix}\n",
        "> 4 & 1\\\\\n",
        "> 6 & 2\n",
        "> \\end{bmatrix}$\n",
        "> $-$\n",
        "> $\\hat{j} \\begin{bmatrix}\n",
        "> 2 & 1\\\\\n",
        "> 6 & 2\n",
        "> \\end{bmatrix}$\n",
        "> $+$\n",
        "> $\\hat{k} \\begin{bmatrix}\n",
        "> 2 & 4\\\\\n",
        "> 6 & 6\n",
        "> \\end{bmatrix}$\n",
        ">\n",
        ">$\\overrightarrow{w} = \\hat{i} (8-6) - \\hat{j}(4-6) + \\hat{k}(12-24) $\n",
        ">\n",
        "> $\\overrightarrow{w} = 2\\hat{i} + 2\\hat{j} - 12\\hat{k}$"
      ]
    },
    {
      "cell_type": "code",
      "execution_count": 23,
      "metadata": {
        "id": "sTMN8KuxOXv2"
      },
      "outputs": [
        {
          "name": "stdout",
          "output_type": "stream",
          "text": [
            "[  2   2 -12]\n"
          ]
        }
      ],
      "source": [
        "#Comprobación del resultado con numpy\n",
        "w = np.cross(u_,v_)\n",
        "print(w)"
      ]
    },
    {
      "cell_type": "markdown",
      "metadata": {
        "id": "COdoLirePDPy"
      },
      "source": [
        "**c) Traza la gráfica de los vectores $\\overrightarrow{u}$, $\\overrightarrow{v}$ y $\\overrightarrow{w}$, en 3D, usando Matplotlib.**"
      ]
    },
    {
      "cell_type": "code",
      "execution_count": 31,
      "metadata": {
        "id": "vr1ZmX2lPQA4"
      },
      "outputs": [
        {
          "data": {
            "image/png": "[encoded data removed]",
            "text/plain": [
              "<Figure size 432x288 with 1 Axes>"
            ]
          },
          "metadata": {
            "needs_background": "light"
          },
          "output_type": "display_data"
        }
      ],
      "source": [
        "#Configurar los ejes\n",
        "fig = plt.figure()\n",
        "ax = plt.axes(projection=\"3d\")\n",
        "ax.set_xlim([-2, 6]), ax.set_ylim([-4, 9]), ax.set_zlim([-12, 8])\n",
        "ax.set_xlabel(\"x\"), ax.set_ylabel(\"y\"), ax.set_zlabel(\"z\")\n",
        "ax.set_title(\"Figura 1. Representación vectores problema 2\")\n",
        "\n",
        "#Señalar el origen\n",
        "ax.scatter(0, 0, 0, color=\"k\")\n",
        "\n",
        "#Graficar los vectores\n",
        "#Vector u\n",
        "ax.quiver(0, 0, 0, u_[0], u_[1], u_[2], color=\"g\", arrow_length_ratio=0.3)\n",
        "ax.text(u_[0], u_[1], u_[2] + 1, \"$\\overrightarrow{u}$\")\n",
        "\n",
        "#Vector v\n",
        "ax.quiver(0, 0, 0, v_[0], v_[1], v_[2], color=\"b\", arrow_length_ratio=0.3)\n",
        "ax.text(v_[0], v_[1], v_[2] + 1, \"$\\overrightarrow{v}$\")\n",
        "\n",
        "#Vector w\n",
        "ax.quiver(0, 0, 0, w[0], w[1], w[2], color=\"r\", arrow_length_ratio=0.15)\n",
        "ax.text(w[0], w[1], w[2], \"$\\overrightarrow{w}$\")\n",
        "\n",
        "# Modificar punto de vista\n",
        "ax.view_init(0, 90)"
      ]
    },
    {
      "cell_type": "markdown",
      "metadata": {
        "id": "Wj8xeF1j0EYO"
      },
      "source": [
        "---\n",
        "\n",
        "#### Problema 3. Transformaciones lineales en $\\mathbb{R}^3$ $\\color{green}{\\text{(3 puntos)}}$\n",
        "---"
      ]
    },
    {
      "cell_type": "markdown",
      "metadata": {
        "id": "JI0e51OEyNuC"
      },
      "source": [
        "Dada la matriz:\n",
        "<br>\n",
        "<br>\n",
        "A=$\\begin{bmatrix}\n",
        "3 & 2 & 1\\\\\n",
        "0 & 1 & 1\\\\\n",
        "1 & 1 & 2\n",
        "\\end{bmatrix}$\n",
        "<br>\n",
        "<br>\n",
        "Y la transformación lineal:\n",
        "<br>\n",
        "<br>\n",
        "$L: \\mathbb{R}^3 \\rightarrow \\mathbb{R}^3$, definida como $L(x) = Ax$"
      ]
    },
    {
      "cell_type": "markdown",
      "metadata": {
        "id": "hzujso7vT2Hb"
      },
      "source": [
        "\n",
        "**a) \tConstruye un mensaje de 15 letras. Codifícalo usando la matriz $A$ y la transformación lineal $L$. Registra el procedimiento de codificación paso a paso, así como la cadena de dígitos resultante.**"
      ]
    },
    {
      "cell_type": "markdown",
      "metadata": {
        "id": "qFNDZSir6B18"
      },
      "source": [
        "**Solución:**"
      ]
    },
    {
      "cell_type": "code",
      "execution_count": 62,
      "metadata": {
        "id": "vO7rW66DuKIj"
      },
      "outputs": [
        {
          "name": "stdout",
          "output_type": "stream",
          "text": [
            "\n",
            "[18, 47, 46, 33, 44, 36, 47, -32, 10, 41, 45, 37, 46, 37, 58]\n"
          ]
        }
      ],
      "source": [
        "#Definición del mensaje\n",
        "mensaje = 'Ronaldo Jimenez'\n",
        "\n",
        "#Obtiene la posición de cada letra del mensaje en el alfabeto\n",
        "letras = []\n",
        "for letra in mensaje:\n",
        "    letras.append(ord(letra) - 64)\n",
        "print()\n",
        "print(letras)"
      ]
    },
    {
      "cell_type": "code",
      "execution_count": 54,
      "metadata": {
        "id": "LpyIcb5P6fln"
      },
      "outputs": [],
      "source": [
        "#Conforma los vectores para la codificación\n",
        "x1 =  np.array(letras[0:3])\n",
        "x2 =  np.array(letras[3:6])\n",
        "x3 =  np.array(letras[6:9])\n",
        "x4 =  np.array(letras[9:12])\n",
        "x5 =  np.array(letras[12:15])"
      ]
    },
    {
      "cell_type": "code",
      "execution_count": 55,
      "metadata": {
        "id": "S34j6uWl61jZ"
      },
      "outputs": [],
      "source": [
        "#Matriz A\n",
        "A = np.array([[3,2,1],[0,1,1],[1,1,2]])"
      ]
    },
    {
      "cell_type": "code",
      "execution_count": 56,
      "metadata": {
        "id": "Vdq4Xo3665hG"
      },
      "outputs": [],
      "source": [
        "#Transformación lineal, Ax\n",
        "x1_cod = np.matmul(A, x1)\n",
        "x2_cod = np.matmul(A, x2)\n",
        "x3_cod = np.matmul(A, x3)\n",
        "x4_cod = np.matmul(A, x4)\n",
        "x5_cod = np.matmul(A, x5)"
      ]
    },
    {
      "cell_type": "code",
      "execution_count": 57,
      "metadata": {
        "id": "xTKU_uEY7A58"
      },
      "outputs": [
        {
          "name": "stdout",
          "output_type": "stream",
          "text": [
            "[194, 93, 157, 223, 80, 149, 87, -22, 35, 250, 82, 160, 270, 95, 199]\n"
          ]
        }
      ],
      "source": [
        "#Presentación del mensaje codificado\n",
        "mensaje_cod = np.append(x1_cod, [x2_cod, x3_cod, x4_cod, x5_cod])\n",
        "lista_mensaje_cod = []\n",
        "for i in mensaje_cod:\n",
        "    lista_mensaje_cod.append(i)\n",
        "#mensaje_cod = \" \".join([str(i) for i in mensaje_cod])\n",
        "print(lista_mensaje_cod)\n"
      ]
    },
    {
      "cell_type": "markdown",
      "metadata": {
        "id": "5Watm9Ex-vPg"
      },
      "source": [
        "**b)\tComprueba el resultado del literal anterior, decodificando la cadena de dígitos obtenida.**"
      ]
    },
    {
      "cell_type": "markdown",
      "metadata": {
        "id": "SwJAZg8Dwbrh"
      },
      "source": [
        "**Solución:**"
      ]
    },
    {
      "cell_type": "code",
      "execution_count": 58,
      "metadata": {
        "id": "ckyTi4ZB7VY7"
      },
      "outputs": [],
      "source": [
        "#Mensaje codificado\n",
        "y1_cod = np.array(lista_mensaje_cod[0:3])\n",
        "y2_cod = np.array(lista_mensaje_cod[3:6])\n",
        "y3_cod = np.array(lista_mensaje_cod[6:9])\n",
        "y4_cod = np.array(lista_mensaje_cod[9:12])\n",
        "y5_cod = np.array(lista_mensaje_cod[12:15])"
      ]
    },
    {
      "cell_type": "code",
      "execution_count": 59,
      "metadata": {
        "id": "zHgaRTdv_KcO"
      },
      "outputs": [],
      "source": [
        "#Cálculo de la matriz inversa para el proceso de decodificación\n",
        "invA = np.linalg.inv(A)"
      ]
    },
    {
      "cell_type": "code",
      "execution_count": 60,
      "metadata": {
        "id": "XNYvTsVq_MR3"
      },
      "outputs": [],
      "source": [
        "#Decodificación\n",
        "y1 = np.matmul(invA, y1_cod)\n",
        "y2 = np.matmul(invA, y2_cod)\n",
        "y3 = np.matmul(invA, y3_cod)\n",
        "y4 = np.matmul(invA, y4_cod)\n",
        "y5 = np.matmul(invA, y5_cod)\n"
      ]
    },
    {
      "cell_type": "code",
      "execution_count": 74,
      "metadata": {
        "id": "E_3J5d2r_Txn"
      },
      "outputs": [
        {
          "name": "stdout",
          "output_type": "stream",
          "text": [
            "El mensaje decodificado es: \n",
            "Ronaldo Jimenez"
          ]
        }
      ],
      "source": [
        "#Presentación del mensaje decodificado\n",
        "mensaje_decod = np.append(y1, [y2, y3, y4, y5])\n",
        "print('El mensaje decodificado es: ')\n",
        "for i in mensaje_decod:\n",
        "    print(chr(int(i + 64)), end=\"\")"
      ]
    },
    {
      "cell_type": "markdown",
      "metadata": {
        "id": "B3eiAl1mYEvx"
      },
      "source": [
        "---\n",
        "\n",
        "#### Conclusiones $\\color{green}{\\text{(1 punto)}}$\n",
        "---"
      ]
    },
    {
      "cell_type": "markdown",
      "metadata": {
        "id": "aXTt42JVYHX5"
      },
      "source": [
        "Registra dos o tres conclusiones sobre esta actividad. Considera: los conceptos abordados, los problemas propuestos y el uso de Python para la solución."
      ]
    },
    {
      "cell_type": "markdown",
      "metadata": {
        "id": "6QoiZ04UYKeW"
      },
      "source": [
        ">**Respuesta:**\n",
        ">1. Se puede evidenciar como el uso del álgebra lineal (en este caso matricial) nos sirve para dar solución a problemas de la vida cotidiana, por ejemplo:  codificar y decodificar un mensaje.\n",
        "> \n",
        ">2. Usar el lenguaje de programación **Python** como herramienta para automatizar la solución de dichos problemas y expresarlos como un algoritmo computacional."
      ]
    },
    {
      "cell_type": "markdown",
      "metadata": {
        "id": "hWo3dm_ODMM8"
      },
      "source": [
        "### 3. Resultados de aprendizaje y criterios de evaluación\n",
        "Esta actividad formativa del curso de Álgebra Lineal orienta el aprendizaje hacia el logro del siguiente resultado: \n",
        "\n",
        "*•\tIlustrar distintos usos para el concepto matricial y sus operaciones.*\n",
        "\n",
        "Para evaluar el resultado antes descrito se propone a continuación, la rúbrica con los aspectos y criterios que se tendrán en cuenta para la retroalimentación y calificación de esta actividad. \n",
        " "
      ]
    },
    {
      "cell_type": "markdown",
      "metadata": {
        "id": "gTaxnNSDDSy9"
      },
      "source": [
        "![Rubrica.png](data:image/png;base64,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)"
      ]
    }
  ],
  "metadata": {
    "colab": {
      "provenance": [],
      "toc_visible": true
    },
    "kernelspec": {
      "display_name": "Python 3.10.5 64-bit",
      "language": "python",
      "name": "python3"
    },
    "language_info": {
      "codemirror_mode": {
        "name": "ipython",
        "version": 3
      },
      "file_extension": ".py",
      "mimetype": "text/x-python",
      "name": "python",
      "nbconvert_exporter": "python",
      "pygments_lexer": "ipython3",
      "version": "3.10.5"
    },
    "vscode": {
      "interpreter": {
        "hash": "07435c5db8cdf0eda12355611327544e1e2ed2c68f64c0e507cf2d1a5a42fd93"
      }
    }
  },
  "nbformat": 4,
  "nbformat_minor": 0
}
