{
  "cells": [
    {
      "cell_type": "markdown",
      "metadata": {
        "id": "mIA_bLOb1wkU"
      },
      "source": [
        "<font size=6 color=\"#0098CD\">\n",
        "Álgebra Lineal\n",
        "</font>\n",
        "<p></p>\n",
        "<font size=6>\n",
        "Cuaderno de ejercicios - Tema 2\n",
        "</font>\n"
      ]
    },
    {
      "cell_type": "markdown",
      "metadata": {
        "id": "snecxC4W134T"
      },
      "source": [
        "---\n",
        "# Ejercicio 1\n",
        "---"
      ]
    },
    {
      "cell_type": "markdown",
      "metadata": {
        "id": "zmfPOD142KS8"
      },
      "source": [
        "Dado el siguiente sistema de ecuaciones lineales:\n",
        "\n",
        ">$x + 2y - 3z = -12$\n",
        ">\n",
        ">$2x-3y+z=-3$\n",
        ">\n",
        ">$x-y+2z=7$"
      ]
    },
    {
      "cell_type": "markdown",
      "metadata": {
        "id": "53Ml923rda03"
      },
      "source": [
        "**a) Utiliza la Calculadora 3D de GeoGebra para trazar las gráficas de las tres ecuaciones en el mismo sistema de coordenadas cartesianas. ¿Qué se puede afirmar sobre la solución del sistema? Explica tu respuesta.**"
      ]
    },
    {
      "cell_type": "code",
      "execution_count": null,
      "metadata": {
        "colab": {
          "base_uri": "https://localhost:8080/",
          "height": 641
        },
        "id": "RZZRxO6mdhSb",
        "outputId": "739146cf-d25f-43d6-b60e-661b970b3b89"
      },
      "outputs": [],
      "source": [
        "from IPython.display import IFrame\n",
        "\n",
        "IFrame(src=\"https://www.geogebra.org/3d?lang=es\",\n",
        "       width=1000, height=600)"
      ]
    },
    {
      "cell_type": "markdown",
      "metadata": {
        "id": "Epx1HoJOg7a2"
      },
      "source": [
        "**b)\tResuelve el sistema aplicando el método de Gauss. Registra el procedimiento paso a paso y la solución.**"
      ]
    },
    {
      "cell_type": "code",
      "execution_count": null,
      "metadata": {
        "id": "_upPq-EHgwfv"
      },
      "outputs": [],
      "source": []
    },
    {
      "cell_type": "markdown",
      "metadata": {
        "id": "aw43r9VDhAnX"
      },
      "source": [
        "**c)\tObtén la solución del sistema usando ```numpy.linalg.solve```. Compara esta solución con la obtenida en el literal b.**"
      ]
    },
    {
      "cell_type": "code",
      "execution_count": 34,
      "metadata": {
        "colab": {
          "base_uri": "https://localhost:8080/"
        },
        "id": "kPm4gyFxhNPf",
        "outputId": "2e57cd88-8278-426e-b5c3-17a5f9f796ef"
      },
      "outputs": [
        {
          "name": "stdout",
          "output_type": "stream",
          "text": [
            "[-1.  2.  5.]\n",
            "Comprobamos que A * x = b\n",
            "[-12.  -3.   7.]\n"
          ]
        }
      ],
      "source": [
        "import numpy as np\n",
        "# Matriz A\n",
        "A = np.array([[1., 2, -3], [2, -3, 1], [1, -1, 2]])\n",
        "# Vector b\n",
        "b = np.array([-12, -3, 7])\n",
        "# Solución\n",
        "x = np.linalg.solve(A, b)\n",
        "print(x)\n",
        "print('Comprobamos que A * x = b')\n",
        "print(np.matmul(A, x))"
      ]
    },
    {
      "cell_type": "markdown",
      "metadata": {
        "id": "imqKRerbhwKf"
      },
      "source": [
        "---\n",
        "#Ejercicio 2\n",
        "---"
      ]
    },
    {
      "cell_type": "markdown",
      "metadata": {
        "id": "HzlcgdOvh1cQ"
      },
      "source": [
        "Responde las mismas preguntas del Ejercicio 1 para el siguiente sistema de ecuaciones:\n",
        "\n",
        ">$3x+6y-9z=-4$\n",
        ">\n",
        ">$2x-3y+z=-3$\n",
        ">\n",
        ">$x + 2y - 3z = -12$\n"
      ]
    },
    {
      "cell_type": "code",
      "execution_count": 44,
      "metadata": {
        "id": "ay8TV2B7iXfe"
      },
      "outputs": [
        {
          "ename": "LinAlgError",
          "evalue": "Singular matrix",
          "output_type": "error",
          "traceback": [
            "\u001b[1;31m---------------------------------------------------------------------------\u001b[0m",
            "\u001b[1;31mLinAlgError\u001b[0m                               Traceback (most recent call last)",
            "\u001b[1;32mc:\\Users\\JIMCOSTDEV\\Desktop\\Cursos\\Unir\\I\\Algebra Lineal\\Git\\Cuaderno_de_ejercicios_Tema_2.ipynb Cell 12\u001b[0m in \u001b[0;36m<cell line: 6>\u001b[1;34m()\u001b[0m\n\u001b[0;32m      <a href='vscode-notebook-cell:/c%3A/Users/JIMCOSTDEV/Desktop/Cursos/Unir/I/Algebra%20Lineal/Git/Cuaderno_de_ejercicios_Tema_2.ipynb#X20sZmlsZQ%3D%3D?line=3'>4</a>\u001b[0m b \u001b[39m=\u001b[39m np\u001b[39m.\u001b[39marray([\u001b[39m-\u001b[39m\u001b[39m4\u001b[39m, \u001b[39m-\u001b[39m\u001b[39m3\u001b[39m, \u001b[39m-\u001b[39m\u001b[39m12\u001b[39m])\n\u001b[0;32m      <a href='vscode-notebook-cell:/c%3A/Users/JIMCOSTDEV/Desktop/Cursos/Unir/I/Algebra%20Lineal/Git/Cuaderno_de_ejercicios_Tema_2.ipynb#X20sZmlsZQ%3D%3D?line=4'>5</a>\u001b[0m \u001b[39m# Solución\u001b[39;00m\n\u001b[1;32m----> <a href='vscode-notebook-cell:/c%3A/Users/JIMCOSTDEV/Desktop/Cursos/Unir/I/Algebra%20Lineal/Git/Cuaderno_de_ejercicios_Tema_2.ipynb#X20sZmlsZQ%3D%3D?line=5'>6</a>\u001b[0m x \u001b[39m=\u001b[39m np\u001b[39m.\u001b[39;49mlinalg\u001b[39m.\u001b[39;49msolve(A, b)\n\u001b[0;32m      <a href='vscode-notebook-cell:/c%3A/Users/JIMCOSTDEV/Desktop/Cursos/Unir/I/Algebra%20Lineal/Git/Cuaderno_de_ejercicios_Tema_2.ipynb#X20sZmlsZQ%3D%3D?line=6'>7</a>\u001b[0m \u001b[39mprint\u001b[39m(x)\n\u001b[0;32m      <a href='vscode-notebook-cell:/c%3A/Users/JIMCOSTDEV/Desktop/Cursos/Unir/I/Algebra%20Lineal/Git/Cuaderno_de_ejercicios_Tema_2.ipynb#X20sZmlsZQ%3D%3D?line=7'>8</a>\u001b[0m \u001b[39mprint\u001b[39m(\u001b[39m'\u001b[39m\u001b[39mComprobamos que A * x = b\u001b[39m\u001b[39m'\u001b[39m)\n",
            "File \u001b[1;32m<__array_function__ internals>:180\u001b[0m, in \u001b[0;36msolve\u001b[1;34m(*args, **kwargs)\u001b[0m\n",
            "File \u001b[1;32mc:\\Users\\JIMCOSTDEV\\AppData\\Local\\Programs\\Python\\Python310\\lib\\site-packages\\numpy\\linalg\\linalg.py:393\u001b[0m, in \u001b[0;36msolve\u001b[1;34m(a, b)\u001b[0m\n\u001b[0;32m    391\u001b[0m signature \u001b[39m=\u001b[39m \u001b[39m'\u001b[39m\u001b[39mDD->D\u001b[39m\u001b[39m'\u001b[39m \u001b[39mif\u001b[39;00m isComplexType(t) \u001b[39melse\u001b[39;00m \u001b[39m'\u001b[39m\u001b[39mdd->d\u001b[39m\u001b[39m'\u001b[39m\n\u001b[0;32m    392\u001b[0m extobj \u001b[39m=\u001b[39m get_linalg_error_extobj(_raise_linalgerror_singular)\n\u001b[1;32m--> 393\u001b[0m r \u001b[39m=\u001b[39m gufunc(a, b, signature\u001b[39m=\u001b[39;49msignature, extobj\u001b[39m=\u001b[39;49mextobj)\n\u001b[0;32m    395\u001b[0m \u001b[39mreturn\u001b[39;00m wrap(r\u001b[39m.\u001b[39mastype(result_t, copy\u001b[39m=\u001b[39m\u001b[39mFalse\u001b[39;00m))\n",
            "File \u001b[1;32mc:\\Users\\JIMCOSTDEV\\AppData\\Local\\Programs\\Python\\Python310\\lib\\site-packages\\numpy\\linalg\\linalg.py:88\u001b[0m, in \u001b[0;36m_raise_linalgerror_singular\u001b[1;34m(err, flag)\u001b[0m\n\u001b[0;32m     87\u001b[0m \u001b[39mdef\u001b[39;00m \u001b[39m_raise_linalgerror_singular\u001b[39m(err, flag):\n\u001b[1;32m---> 88\u001b[0m     \u001b[39mraise\u001b[39;00m LinAlgError(\u001b[39m\"\u001b[39m\u001b[39mSingular matrix\u001b[39m\u001b[39m\"\u001b[39m)\n",
            "\u001b[1;31mLinAlgError\u001b[0m: Singular matrix"
          ]
        }
      ],
      "source": [
        "# Matriz A\n",
        "A = np.array([[3, 6, -9], [2, -3, 1], [1, 2, -3]])\n",
        "# Vector b\n",
        "b = np.array([-4, -3, -12])\n",
        "# Solución\n",
        "x = np.linalg.solve(A, b)\n",
        "print(x)\n",
        "print('Comprobamos que A * x = b')\n",
        "print(np.matmul(A, x))\n",
        "\n",
        "## su determninante es = 0, por ello es una matriz singular"
      ]
    }
  ],
  "metadata": {
    "colab": {
      "collapsed_sections": [],
      "provenance": [],
      "toc_visible": true
    },
    "kernelspec": {
      "display_name": "Python 3.10.5 64-bit",
      "language": "python",
      "name": "python3"
    },
    "language_info": {
      "codemirror_mode": {
        "name": "ipython",
        "version": 3
      },
      "file_extension": ".py",
      "mimetype": "text/x-python",
      "name": "python",
      "nbconvert_exporter": "python",
      "pygments_lexer": "ipython3",
      "version": "3.10.5"
    },
    "vscode": {
      "interpreter": {
        "hash": "07435c5db8cdf0eda12355611327544e1e2ed2c68f64c0e507cf2d1a5a42fd93"
      }
    }
  },
  "nbformat": 4,
  "nbformat_minor": 0
}
