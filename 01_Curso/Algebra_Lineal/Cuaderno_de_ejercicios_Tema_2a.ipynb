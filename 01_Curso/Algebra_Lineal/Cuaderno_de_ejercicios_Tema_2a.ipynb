{
  "cells": [
    {
      "cell_type": "markdown",
      "metadata": {
        "id": "mIA_bLOb1wkU"
      },
      "source": [
        "<font size=6 color=\"#0098CD\">\n",
        "Álgebra Lineal\n",
        "</font>\n",
        "<p></p>\n",
        "<font size=6>\n",
        "Cuaderno de ejercicios - Tema 2a\n",
        "</font>\n"
      ]
    },
    {
      "cell_type": "markdown",
      "metadata": {
        "id": "snecxC4W134T"
      },
      "source": [
        "---\n",
        "#Ejercicio 1\n",
        "---"
      ]
    },
    {
      "cell_type": "markdown",
      "metadata": {
        "id": "zmfPOD142KS8"
      },
      "source": [
        "Dado el siguiente sistema de ecuaciones lineales:\n",
        "\n",
        ">$2x_1 - 3x_2 + 4x_3 + x_4 = 2$\n",
        ">\n",
        ">$x_1 - 3x_3 - x_4 = \\frac{3}{2}$\n",
        ">\n",
        ">$4x_1 + x_2 - 2x_3 = 3$\n",
        ">\n",
        ">$2x_1 - x_2 + 6x_3 + 2x_4 = 1$"
      ]
    },
    {
      "cell_type": "markdown",
      "metadata": {
        "id": "53Ml923rda03"
      },
      "source": [
        "**a) Escribe la matriz de coeficientes del sistema y calcula su determinante. ¿Qué se puede afirmar sobre la solución del sistema de ecuaciones a partir de este resultado?**"
      ]
    },
    {
      "cell_type": "code",
      "execution_count": null,
      "metadata": {
        "id": "nAQEsS-Mpjuz"
      },
      "outputs": [],
      "source": [
        "# Se importan las librerias necesarias\n",
        "import numpy as np\n",
        "import fractions\n",
        "np.set_printoptions(formatter={'all':lambda x: str(fractions.Fraction(x).limit_denominator())})"
      ]
    },
    {
      "cell_type": "code",
      "execution_count": null,
      "metadata": {
        "colab": {
          "base_uri": "https://localhost:8080/"
        },
        "id": "1LrbWj33p5gJ",
        "outputId": "780781bb-78b1-42eb-e0ee-932b3bcec87f"
      },
      "outputs": [
        {
          "name": "stdout",
          "output_type": "stream",
          "text": [
            "[[2 -3 4 1]\n",
            " [1 0 -3 -1]\n",
            " [4 1 -2 0]\n",
            " [2 -1 6 2]]\n"
          ]
        }
      ],
      "source": [
        "# Matriz de coeficientes A\n",
        "A = np.array([[2, -3, 4, 1], [1, 0, -3, -1], [4, 1, -2, 0], [2, -1, 6, 2]])\n",
        "print(A)"
      ]
    },
    {
      "cell_type": "code",
      "execution_count": null,
      "metadata": {
        "colab": {
          "base_uri": "https://localhost:8080/"
        },
        "id": "hqa1DT0H6fHq",
        "outputId": "7820b381-eed0-4f79-8fb1-e1d0888df6d0"
      },
      "outputs": [
        {
          "name": "stdout",
          "output_type": "stream",
          "text": [
            "-9.999999999999998\n"
          ]
        }
      ],
      "source": [
        "# Cálculo del determinante\n",
        "print(np.linalg.det(A))"
      ]
    },
    {
      "cell_type": "markdown",
      "metadata": {
        "id": "FeNLAZbHpl1Z"
      },
      "source": [
        "**b)\tResuelve el sistema utilizando la matriz inversa.**"
      ]
    },
    {
      "cell_type": "markdown",
      "metadata": {
        "id": "ofjpLOvf7lij"
      },
      "source": [
        "Se resolvera el sistema usando $x = A^{-1}b$"
      ]
    },
    {
      "cell_type": "code",
      "execution_count": null,
      "metadata": {
        "colab": {
          "base_uri": "https://localhost:8080/"
        },
        "id": "ZAIk96dppvRX",
        "outputId": "757485e9-1451-4fa4-dd16-0d64d1e527d1"
      },
      "outputs": [
        {
          "name": "stdout",
          "output_type": "stream",
          "text": [
            "[2 3/2 3 1]\n"
          ]
        }
      ],
      "source": [
        "# Vector de términos independientes\n",
        "b = np.array([2, 3/2, 3, 1])\n",
        "print(b)"
      ]
    },
    {
      "cell_type": "code",
      "execution_count": null,
      "metadata": {
        "colab": {
          "base_uri": "https://localhost:8080/"
        },
        "id": "N_yzix9t8MZx",
        "outputId": "d8b57055-fd14-4050-a58e-f70070d580c4"
      },
      "outputs": [
        {
          "name": "stdout",
          "output_type": "stream",
          "text": [
            "[[-1/5 4/5 -1/10 1/2]\n",
            " [-4/5 6/5 -2/5 1]\n",
            " [-4/5 11/5 -9/10 3/2]\n",
            " [11/5 -34/5 13/5 -4]]\n"
          ]
        }
      ],
      "source": [
        "# Calculo de la inversa de A\n",
        "Ainv = np.linalg.inv(A)\n",
        "print(Ainv)"
      ]
    },
    {
      "cell_type": "markdown",
      "metadata": {
        "id": "u16OMWZC887N"
      },
      "source": [
        "Para comprobar el resultado se puede utilizar:\n",
        "\n",
        "$AA^{-1} = A^{-1}A=I_n$"
      ]
    },
    {
      "cell_type": "code",
      "execution_count": null,
      "metadata": {
        "colab": {
          "base_uri": "https://localhost:8080/"
        },
        "id": "BbOVa-vy80bO",
        "outputId": "53f1fa05-53a9-4b19-db7b-16041c5dc9f9"
      },
      "outputs": [
        {
          "name": "stdout",
          "output_type": "stream",
          "text": [
            "[[1 0 0 0]\n",
            " [0 1 0 0]\n",
            " [0 0 1 0]\n",
            " [0 0 0 1]]\n"
          ]
        }
      ],
      "source": [
        "# Comprobación del resultado\n",
        "print(np.matmul(Ainv, A))"
      ]
    },
    {
      "cell_type": "code",
      "execution_count": null,
      "metadata": {
        "colab": {
          "base_uri": "https://localhost:8080/"
        },
        "id": "gUgh__cY92qD",
        "outputId": "643a4422-8a38-41c3-97a7-617754b4c438"
      },
      "outputs": [
        {
          "name": "stdout",
          "output_type": "stream",
          "text": [
            "[1 0 1/2 -2]\n"
          ]
        }
      ],
      "source": [
        "# Solución del sistema\n",
        "x = np.matmul(Ainv, b)\n",
        "print(x)"
      ]
    },
    {
      "cell_type": "markdown",
      "metadata": {
        "id": "Epx1HoJOg7a2"
      },
      "source": [
        "**c)\tResuelve el sistema aplicando el método de Gauss -Jordan. Registra el procedimiento paso a paso y la solución.**"
      ]
    },
    {
      "cell_type": "code",
      "execution_count": null,
      "metadata": {
        "colab": {
          "base_uri": "https://localhost:8080/"
        },
        "id": "_upPq-EHgwfv",
        "outputId": "e835dc98-9ce2-4122-838a-844f0889ea84"
      },
      "outputs": [
        {
          "name": "stdout",
          "output_type": "stream",
          "text": [
            "[[2 -3 4 1 2]\n",
            " [1 0 -3 -1 3/2]\n",
            " [2 0 -6 -2 3]\n",
            " [2 -1 6 2 1]]\n"
          ]
        }
      ],
      "source": [
        "# Construir la matriz aumentada del sistema [A|b]\n",
        "Au = np.array([[2, -3, 4, 1, 2], [1, 0, -3, -1, 3/2], [2, 0, -6, -2, 3], [2, -1, 6, 2, 1]])\n",
        "print(Au)"
      ]
    },
    {
      "cell_type": "code",
      "execution_count": null,
      "metadata": {
        "colab": {
          "base_uri": "https://localhost:8080/"
        },
        "id": "-lImB3WqAxg7",
        "outputId": "83721a15-699c-4044-c44c-25ea0aa3a453"
      },
      "outputs": [
        {
          "name": "stdout",
          "output_type": "stream",
          "text": [
            "[[1 -3/2 2 1/2 1]\n",
            " [1 0 -3 -1 3/2]\n",
            " [2 0 -6 -2 3]\n",
            " [2 -1 6 2 1]]\n"
          ]
        }
      ],
      "source": [
        "# Se obtiene la matriz escalonada reducida por filas\n",
        "Au[0] = (1/2)*Au[0]\n",
        "print(Au)"
      ]
    },
    {
      "cell_type": "code",
      "execution_count": null,
      "metadata": {
        "colab": {
          "base_uri": "https://localhost:8080/"
        },
        "id": "qesFGF2HBn8S",
        "outputId": "af689eae-0c60-4764-96c0-f982fe1fb65c"
      },
      "outputs": [
        {
          "name": "stdout",
          "output_type": "stream",
          "text": [
            "[[1 -3/2 2 1/2 1]\n",
            " [0 3/2 -5 -3/2 1/2]\n",
            " [0 3 -10 -3 1]\n",
            " [0 2 2 1 -1]]\n"
          ]
        }
      ],
      "source": [
        "Au[1] = Au[1] + (-1)*Au[0]\n",
        "Au[2] = Au[2] + (-2)*Au[0]\n",
        "Au[3] = Au[3] + (-2)*Au[0]\n",
        "print(Au)"
      ]
    },
    {
      "cell_type": "code",
      "execution_count": null,
      "metadata": {
        "colab": {
          "base_uri": "https://localhost:8080/"
        },
        "id": "CWsBivs7ClLI",
        "outputId": "bb6de892-259a-4bdc-e08d-ffd05e1e4807"
      },
      "outputs": [
        {
          "name": "stdout",
          "output_type": "stream",
          "text": [
            "[[1 -3/2 2 1/2 1]\n",
            " [0 1 -10/3 -1 1/3]\n",
            " [0 3 -10 -3 1]\n",
            " [0 2 2 1 -1]]\n"
          ]
        }
      ],
      "source": [
        "Au[1] = (2/3)*Au[1]\n",
        "print(Au)"
      ]
    },
    {
      "cell_type": "code",
      "execution_count": null,
      "metadata": {
        "colab": {
          "base_uri": "https://localhost:8080/"
        },
        "id": "rCsOykcEC2EA",
        "outputId": "429da352-6b96-4b75-fdb6-a34913954af7"
      },
      "outputs": [
        {
          "name": "stdout",
          "output_type": "stream",
          "text": [
            "[[1 0 -3 -1 3/2]\n",
            " [0 1 -10/3 -1 1/3]\n",
            " [0 0 0 0 0]\n",
            " [0 0 26/3 3 -5/3]]\n"
          ]
        }
      ],
      "source": [
        "Au[0] = Au[0] + (3/2)*Au[1]\n",
        "Au[2] = Au[2] + (-3)*Au[1]\n",
        "Au[3] = Au[3] + (-2)*Au[1]\n",
        "print(Au)"
      ]
    },
    {
      "cell_type": "code",
      "execution_count": null,
      "metadata": {
        "colab": {
          "base_uri": "https://localhost:8080/"
        },
        "id": "y8_XCudjKtQ_",
        "outputId": "0257f15e-fe47-4b3e-c29b-cdd73527190a"
      },
      "outputs": [
        {
          "name": "stdout",
          "output_type": "stream",
          "text": [
            "[[1 0 -3 -1 3/2]\n",
            " [0 1 -10/3 -1 1/3]\n",
            " [0 0 26/3 3 -5/3]\n",
            " [0 0 0 0 0]]\n"
          ]
        }
      ],
      "source": [
        "Au[[2, 3], :] = Au[[3, 2], :]\n",
        "print(Au)"
      ]
    },
    {
      "cell_type": "code",
      "execution_count": null,
      "metadata": {
        "colab": {
          "base_uri": "https://localhost:8080/"
        },
        "id": "oDwchA_8DY71",
        "outputId": "8870a5ec-6469-4140-f094-698e8dc3ae34"
      },
      "outputs": [
        {
          "name": "stdout",
          "output_type": "stream",
          "text": [
            "[[1 0 -3 -1 3/2]\n",
            " [0 1 -10/3 -1 1/3]\n",
            " [0 0 1 9/26 -5/26]\n",
            " [0 0 0 0 0]]\n"
          ]
        }
      ],
      "source": [
        "Au[2] = (3/26)*Au[2]\n",
        "print(Au)"
      ]
    },
    {
      "cell_type": "code",
      "execution_count": null,
      "metadata": {
        "colab": {
          "base_uri": "https://localhost:8080/"
        },
        "id": "J1vDJzDYDv-f",
        "outputId": "c7dfa05c-8ad2-4dbd-bf04-6afa10a305ad"
      },
      "outputs": [
        {
          "name": "stdout",
          "output_type": "stream",
          "text": [
            "[[1 0 0 1/26 12/13]\n",
            " [0 1 0 2/13 -4/13]\n",
            " [0 0 1 9/26 -5/26]\n",
            " [0 0 0 0 0]]\n"
          ]
        }
      ],
      "source": [
        "Au[0] = Au[0] + (3)*Au[2]\n",
        "Au[1] = Au[1] + (10/3)*Au[2]\n",
        "print(Au)"
      ]
    },
    {
      "cell_type": "code",
      "execution_count": null,
      "metadata": {
        "colab": {
          "base_uri": "https://localhost:8080/"
        },
        "id": "QZC1K9MKGoWK",
        "outputId": "45e761b4-e2c8-4e58-f359-b748818353ff"
      },
      "outputs": [
        {
          "name": "stdout",
          "output_type": "stream",
          "text": [
            "[[1 0 0 1/8 3/4]\n",
            " [0 1 0 1/4 -1/2]\n",
            " [0 0 1 3/8 -1/4]\n",
            " [0 0 0 1 -2]]\n"
          ]
        }
      ],
      "source": [
        "Au[3] = (-4/1)*Au[3]\n",
        "print(Au)"
      ]
    },
    {
      "cell_type": "code",
      "execution_count": null,
      "metadata": {
        "colab": {
          "base_uri": "https://localhost:8080/"
        },
        "id": "4OUgzfKLGyH6",
        "outputId": "0174c20d-5e92-45e4-f057-5770606576bf"
      },
      "outputs": [
        {
          "name": "stdout",
          "output_type": "stream",
          "text": [
            "[[1 0 0 0 1]\n",
            " [0 1 0 0 0]\n",
            " [0 0 1 0 1/2]\n",
            " [0 0 0 1 -2]]\n"
          ]
        }
      ],
      "source": [
        "Au[0] = Au[0] + (-1/8)*Au[3]\n",
        "Au[1] = Au[1] + (-1/4)*Au[3]\n",
        "Au[2] = Au[2] + (-3/8)*Au[3]\n",
        "print(Au)"
      ]
    },
    {
      "cell_type": "code",
      "execution_count": null,
      "metadata": {
        "colab": {
          "base_uri": "https://localhost:8080/"
        },
        "id": "Rue6gxMCIFo-",
        "outputId": "5404bc89-c354-4fc7-ee18-ad28f4ae1e66"
      },
      "outputs": [
        {
          "name": "stdout",
          "output_type": "stream",
          "text": [
            "[1 0 1/2 -2]\n"
          ]
        }
      ],
      "source": [
        "solucion = np.linalg.solve(A, b)\n",
        "print(solucion)"
      ]
    },
    {
      "cell_type": "markdown",
      "metadata": {
        "id": "aw43r9VDhAnX"
      },
      "source": [
        "**d)\tExplica qué hace el método ```rref``` de Sympy. Ilustra la explicación con el sistema de ecuaciones dado.**"
      ]
    },
    {
      "cell_type": "code",
      "execution_count": null,
      "metadata": {
        "colab": {
          "base_uri": "https://localhost:8080/"
        },
        "id": "U1Tl24JqIoLF",
        "outputId": "2bacae26-1fa3-46dd-b5d9-b90320aae60e"
      },
      "outputs": [
        {
          "name": "stdout",
          "output_type": "stream",
          "text": [
            "Matrix([[2, -3, 4, 1, 2], [1, 0, -3, -1, 1.50000000000000], [4, 1, -2, 0, 3], [2, -1, 6, 2, 1]])\n"
          ]
        }
      ],
      "source": [
        "# Construir la matriz aumentada del sistema [A|b]\n",
        "import sympy as sp\n",
        "Au2 = sp.Matrix([[2, -3, 4, 1, 2], [1, 0, -3, -1, 3/2], [4, 1, -2, 0, 3], [2, -1, 6, 2, 1]])\n",
        "print(Au2)"
      ]
    },
    {
      "cell_type": "code",
      "execution_count": null,
      "metadata": {
        "colab": {
          "base_uri": "https://localhost:8080/"
        },
        "id": "qpV5WJ6GJIdJ",
        "outputId": "08baa98c-786f-4f86-b5e5-e9e361006d53"
      },
      "outputs": [
        {
          "name": "stdout",
          "output_type": "stream",
          "text": [
            "(Matrix([\n",
            "[1, 0, 0, 0,  1.0],\n",
            "[0, 1, 0, 0,    0],\n",
            "[0, 0, 1, 0,  0.5],\n",
            "[0, 0, 0, 1, -2.0]]), (0, 1, 2, 3))\n"
          ]
        }
      ],
      "source": [
        "print(Au2.rref())"
      ]
    },
    {
      "cell_type": "markdown",
      "metadata": {
        "id": "imqKRerbhwKf"
      },
      "source": [
        "---\n",
        "#Ejercicio 2\n",
        "---"
      ]
    },
    {
      "cell_type": "markdown",
      "metadata": {
        "id": "HzlcgdOvh1cQ"
      },
      "source": [
        "Responde las mismas preguntas del Ejercicio 1 para el siguiente sistema de ecuaciones:\n",
        "\n",
        ">$3x+6y-9z=-4$\n",
        ">\n",
        ">$2x-3y+z=-3$\n",
        ">\n",
        ">$x + 2y - 3z = -12$\n"
      ]
    },
    {
      "cell_type": "markdown",
      "metadata": {},
      "source": [
        "**a) Escribe la matriz de coeficientes del sistema y calcula su determinante. ¿Qué se puede afirmar sobre la solución del sistema de ecuaciones a partir de este resultado?**"
      ]
    },
    {
      "cell_type": "code",
      "execution_count": 4,
      "metadata": {},
      "outputs": [
        {
          "name": "stdout",
          "output_type": "stream",
          "text": [
            "[[3 6 -9]\n",
            " [2 -3 1]\n",
            " [1 2 -3]]\n",
            "El determinante es: 0.0\n"
          ]
        }
      ],
      "source": [
        "import numpy as np\n",
        "import fractions\n",
        "np.set_printoptions(formatter={'all':lambda x: str(fractions.Fraction(x).limit_denominator())})\n",
        "\n",
        "B = np.array([[3, 6, -9], [2, -3, 1], [1, 2, -3]])\n",
        "print(B)\n",
        "# terminos independientes\n",
        "b = np.array([-4, -3, -12])\n",
        "\n",
        "determinante = np.linalg.det(B)\n",
        "print(f'El determinante es: {determinante}')"
      ]
    },
    {
      "cell_type": "markdown",
      "metadata": {},
      "source": [
        "**b)\tResuelve el sistema utilizando la matriz inversa.**\n",
        "\n",
        "Se resolvera el sistema usando $x = B^{-1}b$"
      ]
    },
    {
      "cell_type": "code",
      "execution_count": 9,
      "metadata": {},
      "outputs": [
        {
          "name": "stdout",
          "output_type": "stream",
          "text": [
            "La matriz es singular\n"
          ]
        }
      ],
      "source": [
        "\n",
        "try:\n",
        "    if determinante != 0:\n",
        "        # matriz no singular\n",
        "        Binv = np.linalg.inv(B)\n",
        "        print(Binv)\n",
        "        print()\n",
        "\n",
        "        # BB^{-1} = B^{-1}B=I_n\n",
        "        print('# Comprobación del resultado')\n",
        "        print(np.matmul(Binv, B))\n",
        "    else:\n",
        "        print('La matriz es singular')\n",
        "except Exception as e:\n",
        "    print(f'Ha ocurrido una excepción: {e}')\n",
        "# Calculo de la inversa de B\n"
      ]
    },
    {
      "cell_type": "markdown",
      "metadata": {},
      "source": [
        "Para comprobar el resultado se puede utilizar:\n",
        "\n",
        "$BB^{-1} = B^{-1}B=I_n$"
      ]
    },
    {
      "cell_type": "markdown",
      "metadata": {},
      "source": [
        "**c)\tExplica qué hace el método ```rref``` de Sympy. Ilustra la explicación con el sistema de ecuaciones dado.**"
      ]
    },
    {
      "cell_type": "code",
      "execution_count": 13,
      "metadata": {},
      "outputs": [
        {
          "name": "stdout",
          "output_type": "stream",
          "text": [
            "Matrix([[3, 6, -9, -4], [2, -3, 1, -3], [1, 2, -3, -12]])\n",
            "(Matrix([\n",
            "[1, 0, -1, 0],\n",
            "[0, 1, -1, 0],\n",
            "[0, 0,  0, 1]]), (0, 1, 3))\n"
          ]
        }
      ],
      "source": [
        "# Construir la matriz aumentada del sistema [B|b]\n",
        "import sympy as sp\n",
        "Bau = sp.Matrix([[3, 6, -9, -4], [2, -3, 1, -3], [1, 2, -3, -12]])\n",
        "print(Bau)\n",
        "\n",
        "print(Bau.rref())"
      ]
    },
    {
      "cell_type": "markdown",
      "metadata": {},
      "source": [
        "**d) Eliminación Gaussinana:**"
      ]
    },
    {
      "cell_type": "code",
      "execution_count": 16,
      "metadata": {},
      "outputs": [
        {
          "name": "stdout",
          "output_type": "stream",
          "text": [
            "[[3 6 -9 -4]\n",
            " [2 -3 1 -3]\n",
            " [1 2 -3 -12]]\n",
            "# 0. intercambiamos F1 <--> F3\n",
            "[[1 2 -3 -12]\n",
            " [2 -3 1 -3]\n",
            " [3 6 -9 -4]]\n",
            "# 1. para obtener el primer 0 hacemos: F2 - 2F1\n",
            "[[1 2 -3 -12]\n",
            " [0 -7 7 21]\n",
            " [3 6 -9 -4]]\n",
            "\n",
            "# 2. para obtener el segundo 0 hacemos: F3 - 3F1\n",
            "[[1 2 -3 -12]\n",
            " [0 -7 7 21]\n",
            " [0 0 0 32]]\n",
            "\n"
          ]
        }
      ],
      "source": [
        "import numpy as np\n",
        "Bau = np.array([[3, 6, -9, -4], [2, -3, 1, -3], [1, 2, -3, -12]])\n",
        "print(Bau)\n",
        "\n",
        "print('# 0. intercambiamos F1 <--> F3')\n",
        "Bau = np.array([[1, 2, -3, -12], [2, -3, 1, -3], [3, 6, -9, -4]])\n",
        "print(Bau)\n",
        "\n",
        "print('# 1. para obtener el primer 0 hacemos: F2 - 2F1')\n",
        "F2 = Bau[1] - 2*Bau[0]\n",
        "Bau[1] = F2\n",
        "print(Bau)\n",
        "print()\n",
        "\n",
        "\n",
        "print('# 2. para obtener el segundo 0 hacemos: F3 - 3F1')\n",
        "F3 = Bau[2] - 3*Bau[0]\n",
        "Bau[2] = F3\n",
        "print(Bau)\n",
        "print()\n"
      ]
    }
  ],
  "metadata": {
    "colab": {
      "collapsed_sections": [],
      "provenance": []
    },
    "kernelspec": {
      "display_name": "Python 3.10.5 64-bit",
      "language": "python",
      "name": "python3"
    },
    "language_info": {
      "codemirror_mode": {
        "name": "ipython",
        "version": 3
      },
      "file_extension": ".py",
      "mimetype": "text/x-python",
      "name": "python",
      "nbconvert_exporter": "python",
      "pygments_lexer": "ipython3",
      "version": "3.10.5"
    },
    "vscode": {
      "interpreter": {
        "hash": "07435c5db8cdf0eda12355611327544e1e2ed2c68f64c0e507cf2d1a5a42fd93"
      }
    }
  },
  "nbformat": 4,
  "nbformat_minor": 0
}
