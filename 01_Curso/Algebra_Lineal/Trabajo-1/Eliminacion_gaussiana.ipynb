{
 "cells": [
  {
   "cell_type": "markdown",
   "metadata": {},
   "source": [
    "<font size=6 color=\"#0098CD\">\n",
    "Trabajo: Eliminación gaussiana\n",
    "</font>"
   ]
  },
  {
   "cell_type": "markdown",
   "metadata": {},
   "source": [
    "---\n",
    "\n",
    "**Asignatura:** Álgebra Lineal\n",
    "\n",
    "**Presentado por:** *Ronaldo Jimenéz Acosta*\n",
    "\n",
    "**Fecha:** 9 - Nov - 2022\n",
    "\n",
    "--- "
   ]
  },
  {
   "cell_type": "markdown",
   "metadata": {},
   "source": [
    "### 1. Objetivos\n",
    "* Aplicar  los  conceptos  abordados  en  los  temas  1  y  2,  específicamente,  aquellos \n",
    "relacionados con solución de sistemas de ecuaciones lineales.\n",
    "\n",
    "* Utilizar el lenguaje de programación Python para realizar cálculos básicos, \n",
    "representaciones gráficas en 3D y operaciones con matrices."
   ]
  },
  {
   "cell_type": "markdown",
   "metadata": {},
   "source": [
    "### 2. Descripción de la actividad y pautas de elaboración\n",
    "A continuación, se plantean tres sistemas de ecuaciones lineales que deben \n",
    "resolverse aplicando los conceptos y procedimientos abordados en los temas 1 y 2. \n",
    "La entrega debe hacerse **únicamente en formato PDF**. Extensión máxima: 10 páginas."
   ]
  },
  {
   "cell_type": "markdown",
   "metadata": {},
   "source": [
    "#### Sistema de ecuaciones 1 $\\color{green}{\\text{(3 puntos)}}$\n",
    "\n",
    ">$2x - y + 3z = 16$\n",
    ">\n",
    ">$4x + 0y - 2z = -4$\n",
    ">\n",
    ">$x + 3y - z = -9$\n"
   ]
  },
  {
   "cell_type": "markdown",
   "metadata": {},
   "source": [
    "a) Traza  las  gráficas  de  las  tres  ecuaciones  en  el  mismo  sistema  de  coordenadas \n",
    "cartesianas.  ¿Qué  se  puede  afirmar  sobre  la  solución  del  sistema?  Explica  tu \n",
    "respuesta.\n",
    "\n",
    "> **R/=** En el punto $(1, -2,  4)$ X, Y, Z, respectivamente es el punto de cruce de las 3 ecuaciones, por lo tanto es la solución al sistema."
   ]
  },
  {
   "cell_type": "code",
   "execution_count": null,
   "metadata": {},
   "outputs": [],
   "source": [
    "from IPython.display import IFrame\n",
    "\n",
    "IFrame(src=\"https://www.geogebra.org/3d?lang=es\",\n",
    "       width=1080, height=600)"
   ]
  },
  {
   "cell_type": "markdown",
   "metadata": {},
   "source": [
    "![img_grafica_1](https://user-images.githubusercontent.com/53100460/199523967-06e506f1-38ce-4de3-8bbc-5df8dc5d7d6d.png)"
   ]
  },
  {
   "cell_type": "markdown",
   "metadata": {},
   "source": [
    "b) Resuelve  el  sistema  aplicando  el  método  de  Gauss.  Registra  el  procedimiento \n",
    "paso a paso y la solución."
   ]
  },
  {
   "cell_type": "code",
   "execution_count": 3,
   "metadata": {},
   "outputs": [
    {
     "name": "stdout",
     "output_type": "stream",
     "text": [
      "# 1. expresar el sistema de ecuaciones lineales como una matriz aumentada\n",
      "[[ 2 -1  3 16]\n",
      " [ 4  0 -2 -4]\n",
      " [ 1  3 -1 -9]]\n",
      "\n",
      "# 2. intercambiamos la fila 3 por la fila 1 (F3 <--> F1)\n",
      "[[ 1  3 -1 -9]\n",
      " [ 4  0 -2 -4]\n",
      " [ 2 -1  3 16]]\n",
      "\n",
      "# 3. para obtener el primer 0 hacemos: F2 - 4F1\n",
      "[  0 -12   2  32]\n",
      "simplicamos\n",
      "[ 0. -6.  1. 16.]\n",
      "\n",
      "# 4. primer 0 conseguido\n",
      "[[ 1  3 -1 -9]\n",
      " [ 0 -6  1 16]\n",
      " [ 2 -1  3 16]]\n",
      "\n",
      "# 5. para obtener el segundo 0 hacemos: F3 - 2F1\n",
      "[ 0 -7  5 34]\n",
      "\n",
      "# 6. segundo 0 conseguido\n",
      "[[ 1  3 -1 -9]\n",
      " [ 0 -6  1 16]\n",
      " [ 0 -7  5 34]]\n",
      "\n",
      "# 7. para obtener el tercer 0 hacemos: 6F3 - 7F2\n",
      "[ 0  0 23 92]\n",
      "\n",
      "# 8. tercer 0 conseguido\n",
      "[[ 1  3 -1 -9]\n",
      " [ 0 -6  1 16]\n",
      " [ 0  0 23 92]]\n",
      "\n"
     ]
    }
   ],
   "source": [
    "import numpy as np\n",
    "print('# 1. expresar el sistema de ecuaciones lineales como una matriz aumentada')\n",
    "A = np.array([[2,-1,3,16],[4,0,-2,-4],[1,3,-1,-9]])\n",
    "print(A)\n",
    "print()\n",
    "\n",
    "print('# 2. intercambiamos la fila 3 por la fila 1 (F3 <--> F1)')\n",
    "A = np.array([[1,3,-1,-9],[4,0,-2,-4],[2,-1,3,16]])\n",
    "print(A)\n",
    "print()\n",
    "\n",
    "print('# 3. para obtener el primer 0 hacemos: F2 - 4F1')\n",
    "F2 = A[1] - 4*A[0]\n",
    "print(F2)\n",
    "print('simplicamos')\n",
    "F2_s = F2/2\n",
    "print(F2_s)\n",
    "print()\n",
    "\n",
    "print('# 4. primer 0 conseguido')\n",
    "A[1] = F2_s\n",
    "print(A)\n",
    "print()\n",
    "\n",
    "print('# 5. para obtener el segundo 0 hacemos: F3 - 2F1')\n",
    "F3 = A[2] - 2*A[0]\n",
    "print(F3)\n",
    "print()\n",
    "\n",
    "print('# 6. segundo 0 conseguido')\n",
    "A[2] = F3\n",
    "print(A)\n",
    "print()\n",
    "\n",
    "print('# 7. para obtener el tercer 0 hacemos: 6F3 - 7F2')\n",
    "F3_2 = 6*A[2] - 7*A[1]\n",
    "print(F3_2)\n",
    "print()\n",
    "\n",
    "print('# 8. tercer 0 conseguido')\n",
    "A[2] = F3_2\n",
    "print(A)\n",
    "print()"
   ]
  },
  {
   "cell_type": "markdown",
   "metadata": {},
   "source": [
    "\n",
    "c) Obtén  la  solución  del  sistema  usando  **numpy.linalg.solve**.  Compara  esta \n",
    "solución con la obtenida en el literal b)."
   ]
  },
  {
   "cell_type": "code",
   "execution_count": 30,
   "metadata": {},
   "outputs": [
    {
     "name": "stdout",
     "output_type": "stream",
     "text": [
      "[ 1. -2.  4.]\n",
      "Comprobamos que A * x = b\n",
      "[16. -4. -9.]\n"
     ]
    }
   ],
   "source": [
    "import numpy as np\n",
    "# Matriz A\n",
    "A = np.array([[2, -1, 3], [4, 0, -2], [1, 3, -1]])\n",
    "# Vector b\n",
    "b = np.array([16, -4, -9])\n",
    "# Solución\n",
    "x = np.linalg.solve(A, b)\n",
    "print(x)\n",
    "print('Comprobamos que A * x = b')\n",
    "print(np.matmul(A, x))"
   ]
  },
  {
   "cell_type": "markdown",
   "metadata": {},
   "source": [
    "**Solución:**\n",
    "\n",
    ">$\\begin{bmatrix}\n",
    "> X &\\\\\n",
    "> Y &\\\\\n",
    "> Z \n",
    "> \\end{bmatrix}$\n",
    "> $=$ \n",
    "> $\\begin{bmatrix}\n",
    "> 1 &\\\\\n",
    "> -2 &\\\\\n",
    "> 4 \n",
    "> \\end{bmatrix}$"
   ]
  },
  {
   "cell_type": "markdown",
   "metadata": {},
   "source": [
    "#### Sistema de ecuaciones 2 $\\color{green}{\\text{(3 puntos)}}$\n",
    "\n",
    ">$x + 5y - z = 7$\n",
    ">\n",
    ">$2x - y + 3z = 10$\n",
    ">\n",
    ">$3x + 4y + 2z = 4$"
   ]
  },
  {
   "cell_type": "markdown",
   "metadata": {},
   "source": [
    "a) Traza  las  gráficas  de  las  tres  ecuaciones  en  el  mismo  sistema  de  coordenadas \n",
    "cartesianas.  ¿Qué  se  puede  afirmar  sobre  la  solución  del  sistema?  Explica  tu \n",
    "respuesta.\n",
    "\n",
    "> **R/=** No tiene solución porque se evidencia que no existe un corte en los 3 ejes $(x,y,z)$, ademas al resolver el punto b, se evidencia que la variable $Z$ se elimina (su valor es 0z), por lo tanto el sistema no se puede resolver.\n",
    "\n",
    "![img_grafica_2](https://user-images.githubusercontent.com/53100460/199739320-5a4c8939-7716-4f12-901c-07d337f0fcd7.png)"
   ]
  },
  {
   "cell_type": "markdown",
   "metadata": {},
   "source": [
    "b) Resuelve  el  sistema  aplicando  el  método  de  Gauss.  Registra  el  procedimiento \n",
    "paso a paso y la solución."
   ]
  },
  {
   "cell_type": "code",
   "execution_count": 4,
   "metadata": {},
   "outputs": [
    {
     "name": "stdout",
     "output_type": "stream",
     "text": [
      "# 1. expresar el sistema de ecuaciones lineales como una matriz aumentada\n",
      "[[ 1  5 -1  7]\n",
      " [ 2 -1  3 10]\n",
      " [ 3  4  2  4]]\n",
      "\n",
      "# 2. para obtener el primer 0 hacemos: F2 - 2F1\n",
      "[  0 -11   5  -4]\n",
      "\n",
      "# 3. primer 0 conseguido\n",
      "[[  1   5  -1   7]\n",
      " [  0 -11   5  -4]\n",
      " [  3   4   2   4]]\n",
      "\n",
      "# 4. para obtener el segundo 0 hacemos: F3 - 3F1\n",
      "[  0 -11   5 -17]\n",
      "\n",
      "# 5. segundo 0 conseguido\n",
      "[[  1   5  -1   7]\n",
      " [  0 -11   5  -4]\n",
      " [  0 -11   5 -17]]\n",
      "\n",
      "# 6. para obtener el tercer 0 hacemos: F3 - F2\n",
      "[  0   0   0 -13]\n",
      "\n",
      "# 7. tercer 0 conseguido\n",
      "[[  1   5  -1   7]\n",
      " [  0 -11   5  -4]\n",
      " [  0   0   0 -13]]\n",
      "\n"
     ]
    }
   ],
   "source": [
    "import numpy as np\n",
    "print('# 1. expresar el sistema de ecuaciones lineales como una matriz aumentada')\n",
    "A = np.array([[1,5,-1,7],[2,-1,3,10],[3,4,2,4]])\n",
    "print(A)\n",
    "print()\n",
    "\n",
    "print('# 2. para obtener el primer 0 hacemos: F2 - 2F1')\n",
    "F2 = A[1] - 2*A[0]\n",
    "print(F2)\n",
    "print()\n",
    "\n",
    "print('# 3. primer 0 conseguido')\n",
    "A[1] = F2\n",
    "print(A)\n",
    "print()\n",
    "\n",
    "print('# 4. para obtener el segundo 0 hacemos: F3 - 3F1')\n",
    "F3 = A[2] - 3*A[0]\n",
    "print(F3)\n",
    "print()\n",
    "\n",
    "print('# 5. segundo 0 conseguido')\n",
    "A[2] = F3\n",
    "print(A)\n",
    "print()\n",
    "\n",
    "print('# 6. para obtener el tercer 0 hacemos: F3 - F2')\n",
    "F3_2 = A[2] - A[1]\n",
    "print(F3_2)\n",
    "print()\n",
    "\n",
    "print('# 7. tercer 0 conseguido')\n",
    "A[2] = F3_2\n",
    "print(A)\n",
    "print()"
   ]
  },
  {
   "cell_type": "markdown",
   "metadata": {},
   "source": [
    "c) Obtén  la  solución  del  sistema  usando  **numpy.linalg.solve**.  Compara  esta \n",
    "solución con la obtenida en el literal b)."
   ]
  },
  {
   "cell_type": "code",
   "execution_count": 1,
   "metadata": {},
   "outputs": [
    {
     "name": "stdout",
     "output_type": "stream",
     "text": [
      "[-3.72570515e+16  1.33060898e+16  2.92733976e+16]\n",
      "Comprobamos que A * x = b\n",
      "[ 0.  0. -8.]\n"
     ]
    }
   ],
   "source": [
    "import numpy as np\n",
    "# Matriz A\n",
    "A = np.array([[1, 5, -1], [2, -1, 3], [3, 4, 2]])\n",
    "# Vector b\n",
    "b = np.array([7, 10, 4])\n",
    "# Solución\n",
    "x = np.linalg.solve(A, b)\n",
    "print(x)\n",
    "print('Comprobamos que A * x = b')\n",
    "print(np.matmul(A, x))"
   ]
  },
  {
   "cell_type": "markdown",
   "metadata": {},
   "source": [
    "#### Solución:\n",
    "> Considerando el resultado  en la tercera fila $[  0,  0,  0, -13]$ de la matriz(), el sistema no tiene solución."
   ]
  },
  {
   "cell_type": "markdown",
   "metadata": {},
   "source": [
    "#### Sistema de ecuaciones 3 $\\color{green}{\\text{(3 puntos)}}$\n",
    "\n",
    ">$-2x + 3y + z = 5$\n",
    ">\n",
    ">$2x + y - 3z = 12$\n",
    ">\n",
    ">$4x - 2y - 4z = 7$"
   ]
  },
  {
   "cell_type": "markdown",
   "metadata": {},
   "source": [
    "a) Traza  las  gráficas  de  las  tres  ecuaciones  en  el  mismo  sistema  de  coordenadas \n",
    "cartesianas.  ¿Qué  se  puede  afirmar  sobre  la  solución  del  sistema?  Explica  tu \n",
    "respuesta."
   ]
  },
  {
   "cell_type": "markdown",
   "metadata": {},
   "source": [
    ">**R/=** Se puede evidenciar que no existe un corte en los ejes (x,y,z). Su determinante es 0, por lo tanto se define como una matriz singular.\n",
    "\n",
    "![grafica_punto_3](https://user-images.githubusercontent.com/53100460/199748972-0e4d038b-f2f4-4baa-b5ed-c0d853c7dd70.png)"
   ]
  },
  {
   "cell_type": "markdown",
   "metadata": {},
   "source": [
    "b) Resuelve  el  sistema  aplicando  el  método  de  Gauss.  Registra  el  procedimiento \n",
    "paso a paso y la solución."
   ]
  },
  {
   "cell_type": "code",
   "execution_count": 7,
   "metadata": {},
   "outputs": [
    {
     "name": "stdout",
     "output_type": "stream",
     "text": [
      "[[-2  3  1]\n",
      " [ 2  1 -3]\n",
      " [ 4 -2 -4]]\n",
      "El determinante de la Matriz A es: 0.0\n",
      "Como el valor del determinante es 0.0, esto quiere decir que es una matriz singular, por lo tanto no se puede resolver\n",
      "\n",
      "# 1. para obtener el primer 0 hacemos: F2 + F1\n",
      "[[-2  3  1  5]\n",
      " [ 0  4 -2 17]\n",
      " [ 4 -2 -4  7]]\n",
      "\n",
      "# 2. para obtener el segundo 0 hacemos: F3 + 2F1\n",
      "[[-2  3  1  5]\n",
      " [ 0  4 -2 17]\n",
      " [ 0  4 -2 17]]\n",
      "\n",
      "# 3. para obtener el tercer 0 hacemos: F3 - F2\n",
      "[[-2  3  1  5]\n",
      " [ 0  4 -2 17]\n",
      " [ 0  0  0  0]]\n"
     ]
    }
   ],
   "source": [
    "import numpy as np\n",
    "A = np.array([[-2, 3, 1], [2, 1, -3], [4, -2, -4]])\n",
    "print(A)\n",
    "determinante = np.linalg.det(A)\n",
    "print(f'El determinante de la Matriz A es: {determinante}')\n",
    "print(f'Como el valor del determinante es {determinante}, esto quiere decir que es una matriz singular, por lo tanto no se puede resolver')\n",
    "print()\n",
    "\n",
    "A = np.array([[-2, 3, 1, 5], [2, 1, -3, 12], [4, -2, -4, 7]])\n",
    "print('# 1. para obtener el primer 0 hacemos: F2 + F1')\n",
    "F2 = A[1] + A[0]\n",
    "A[1] = F2\n",
    "print(A)\n",
    "print()\n",
    "\n",
    "print('# 2. para obtener el segundo 0 hacemos: F3 + 2F1')\n",
    "F3 = A[2] + 2*A[0]\n",
    "A[2] = F3\n",
    "print(A)\n",
    "print()\n",
    "\n",
    "print('# 3. para obtener el tercer 0 hacemos: F3 - F2')\n",
    "F3_2 = A[2] - A[1]\n",
    "A[2] = F3_2\n",
    "print(A)"
   ]
  },
  {
   "cell_type": "markdown",
   "metadata": {},
   "source": [
    "c) Obtén  la  solución  del  sistema  usando  numpy.linalg.solve.  Compara  esta \n",
    "solución con la obtenida en el literal b)."
   ]
  },
  {
   "cell_type": "code",
   "execution_count": 9,
   "metadata": {},
   "outputs": [
    {
     "name": "stdout",
     "output_type": "stream",
     "text": [
      "Ha ocurrido una exepción: Singular matrix\n"
     ]
    }
   ],
   "source": [
    "import numpy as np\n",
    "try:\n",
    "    # Matriz A\n",
    "    A = np.array([[-2, 3, 1], [2, 1, -3], [4, -2, -4]])\n",
    "    # Vector b\n",
    "    b = np.array([5, 12, 7])\n",
    "    # Solución\n",
    "    x = np.linalg.solve(A, b)\n",
    "    print(x)\n",
    "    print('Comprobamos que A * x = b')\n",
    "    print(np.matmul(A, x))\n",
    "except Exception as e:\n",
    "    print(f'Ha ocurrido una exepción: {e}')\n"
   ]
  },
  {
   "cell_type": "markdown",
   "metadata": {},
   "source": [
    "#### Solución:\n",
    "> Considerando el resultado  en la tercera fila $[  0,  0,  0, 0]$ de la matriz(), el sistema no tiene solución."
   ]
  },
  {
   "cell_type": "markdown",
   "metadata": {},
   "source": [
    "#### Conclusiones $\\color{green}{\\text{(1 puntos)}}$\n",
    "Registra  dos  o  tres  conclusiones  sobre  esta  actividad.  Considera:  los  conceptos \n",
    "abordados, los problemas propuestos y el uso de Python para la solución.\n",
    "\n",
    "> * He aprendido a identificar las diferentes tipos de matrices(matriz fila, matriz columna, matriz nula, matriz cuadrada) y a realizar operaciones entre matrices (suma, resta, producto por un escalar  y producto matricial). \n",
    ">\n",
    "> * He aprendido a utilizar las herramientas tecnológicas como apoyo y medios para resolver estos sistemas (Geogebra, Google Colab, MarkDown, Python, Jupyter Notebooks y Git-GitHub) \n",
    ">\n",
    "> * Expresar un sistema de ecuaciones como una matriz e identificar si tiene solución o no (por ejemplo, una matriz singular). Cuando una matriz (x) es multiplicada por la matriz identidad (I) como resultado obtemos la misma matrziz (x)"
   ]
  },
  {
   "cell_type": "markdown",
   "metadata": {},
   "source": [
    "#### Repositoro del trabajo:\n",
    "> [Eliminacion_gaussina.ipynb](https://github.com/JimcostDev/Mis_Apuntes_Algebra_Lineal/blob/master/Trabajo-1/Eliminacion_gaussiana.ipynb)"
   ]
  }
 ],
 "metadata": {
  "kernelspec": {
   "display_name": "Python 3.10.5 64-bit",
   "language": "python",
   "name": "python3"
  },
  "language_info": {
   "codemirror_mode": {
    "name": "ipython",
    "version": 3
   },
   "file_extension": ".py",
   "mimetype": "text/x-python",
   "name": "python",
   "nbconvert_exporter": "python",
   "pygments_lexer": "ipython3",
   "version": "3.10.5"
  },
  "orig_nbformat": 4,
  "vscode": {
   "interpreter": {
    "hash": "07435c5db8cdf0eda12355611327544e1e2ed2c68f64c0e507cf2d1a5a42fd93"
   }
  }
 },
 "nbformat": 4,
 "nbformat_minor": 2
}
