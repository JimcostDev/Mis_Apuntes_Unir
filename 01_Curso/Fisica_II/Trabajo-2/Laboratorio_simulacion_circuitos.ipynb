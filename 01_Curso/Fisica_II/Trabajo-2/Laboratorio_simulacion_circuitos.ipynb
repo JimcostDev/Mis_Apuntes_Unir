{
  "cells": [
    {
      "cell_type": "markdown",
      "metadata": {
        "id": "8AwxNKLe4X5l"
      },
      "source": [
        "<font size=6 color=\"#0098CD\">\n",
        "Laboratorio: simulación de circuitos\n",
        "</font>"
      ]
    },
    {
      "cell_type": "markdown",
      "metadata": {
        "id": "xh9tvAh3YzHj"
      },
      "source": [
        "---\n",
        "**Asignatura:** Física II\n",
        "\n",
        "**Presentado por:** *Ronaldo Jiménez Acosta*\n",
        "\n",
        "**Fecha:** 21-Nov-2022\n",
        "\n",
        "---"
      ]
    },
    {
      "cell_type": "markdown",
      "metadata": {
        "id": "nfPKzvR34wdM"
      },
      "source": [
        "### 1. Objetivos\n",
        "* Aplicar la Ley de Ohm y las Leyes de Kirchhoff en la solución de circuitos de corriente directa.\n",
        "* Utilizar el lenguaje de programación Python para realizar cálculos básicos y resolver sistemas de ecuaciones lineales. \n",
        "* Emplear herramientas de simulación de circuitos eléctricos para comprobar los resultados obtenidos en forma manual.\n"
      ]
    },
    {
      "cell_type": "markdown",
      "metadata": {
        "id": "G7j0EB7t5BYM"
      },
      "source": [
        "### 2. Descripción de la actividad y pautas de elaboración\n",
        "\n",
        "A continuación, se plantean dos circuitos eléctricos que deben resolverse aplicando el análisis de mallas. El informe debe desarrollarse sobre este cuaderno de Google Colaboratory. La entrega debe hacerse **únicamente en formato PDF**, usando la opción Archivo/Imprimir del entorno de desarrollo y realizando los ajustes necesarios para garantizar la correcta visualización de todo el documento. Extensión máxima: 10 páginas."
      ]
    },
    {
      "cell_type": "markdown",
      "metadata": {
        "id": "6imYq-Jcm1eN"
      },
      "source": [
        "---\n",
        "\n",
        "#### Circuito 1. $\\color{green}{\\text{(4.5 puntos)}}$\n",
        "---\n",
        "Se desea conocer las corrientes $I_1$, $I_2$ e $I_3$ en el siguiente circuito:"
      ]
    },
    {
      "cell_type": "markdown",
      "metadata": {
        "id": "FsKhPnBpvkTj"
      },
      "source": [
        "![circuito1.png](data:image/png;base64,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)"
      ]
    },
    {
      "cell_type": "markdown",
      "metadata": {
        "id": "FtJo4D-WMgMs"
      },
      "source": [
        "a) Utilizando el análisis de mallas, plantea el sistema $Ax = b$ que modela el circuito. Luego, resuelve el sistema aplicando eliminación gaussiana. Registra el procedimiento paso a paso."
      ]
    },
    {
      "cell_type": "markdown",
      "metadata": {
        "id": "yyXL0dl8sbVd"
      },
      "source": [
        "> #### Solución:\n",
        ">\n",
        "> *Ley de Ohm*:\n",
        ">\n",
        "> * $V = R.I$\n",
        "> * $R = \\frac{V}{I}$\n",
        ">\n",
        "> * $I = \\frac{V}{R}$\n",
        ">\n",
        "> ##### 1. Obtener primer ecuación:\n",
        ">\n",
        "> $-5I_{1} +5I_{2} - 5I_{1} +5I_{3} + 12 = 0$\n",
        ">\n",
        "> $-10I_{1} + 5I_{2} +5I_{3} + 12 = 0$\n",
        ">\n",
        "> $12 = 10I_{1} - 5I_{2} -5I_{3}$\n",
        ">\n",
        "> * $10I_{1} - 5I_{2} -5I_{3} = 12$\n",
        ">\n",
        "> ##### 2. Obtener segunda ecuación:\n",
        ">\n",
        "> $-4I_{2} -3I_{2} + 3I_{3} -5I_{2} +5I_{1} = 0$\n",
        ">\n",
        "> * $5I_{1} - 12I_{2} + 3I_{3} = 0$\n",
        ">\n",
        "> ##### 3. Obtener tecer ecuación:\n",
        ">\n",
        "> $-6 -5I_{3} +5I_{1} - 3I_{3} + 3I_{2}= 0$\n",
        ">\n",
        "> $5I_{1} + 3I_{2} -8I_{3} -6 = 0$\n",
        ">\n",
        "> * $5I_{1} + 3I_{2} -8I_{3} = 6$\n",
        ">\n",
        "> ##### 4. Expresamos el sistema de ecuaciones como una matriz aumentada:\n",
        ">\n",
        ">$ A = \\begin{bmatrix}\n",
        "> 10  & -5 & -5 & 12\\\\\n",
        "> 5  & -12 & 3 & 0\\\\\n",
        "> 5 & 3 & -8 & 6\n",
        "> \\end{bmatrix}$\n",
        ">\n"
      ]
    },
    {
      "cell_type": "code",
      "execution_count": 32,
      "metadata": {},
      "outputs": [
        {
          "name": "stdout",
          "output_type": "stream",
          "text": [
            "[[10 -5 -5 12]\n",
            " [5 -12 3 0]\n",
            " [5 3 -8 6]]\n",
            "\n",
            "# intercambiamos F1 <--> F2\n",
            "[[5 -12 3 0]\n",
            " [10 -5 -5 12]\n",
            " [5 3 -8 6]]\n",
            "\n",
            "# 1. para obtener el primer 0 hacemos: F2 - 2F1\n",
            "[[5 -12 3 0]\n",
            " [0 19 -11 12]\n",
            " [5 3 -8 6]]\n",
            "\n",
            "# 2. para obtener el segundo 0 hacemos: F3 - F1\n",
            "[[5 -12 3 0]\n",
            " [0 19 -11 12]\n",
            " [0 15 -11 6]]\n",
            "\n",
            "# 2. para obtener el tercer 0 hacemos: 19F3 - 15F2\n",
            "[[5 -12 3 0]\n",
            " [0 19 -11 12]\n",
            " [0 0 -44 -66]]\n",
            "\n"
          ]
        }
      ],
      "source": [
        "import numpy as np\n",
        "A = np.array([[10,-5,-5,12], [5,-12,3,0], [5,3,-8,6]])\n",
        "print(A)\n",
        "print()\n",
        "\n",
        "print('# intercambiamos F1 <--> F2')\n",
        "A = np.array([[5,-12,3,0], [10,-5,-5,12], [5,3,-8,6]])\n",
        "print(A)\n",
        "print()\n",
        "\n",
        "print('# 1. para obtener el primer 0 hacemos: F2 - 2F1')\n",
        "F2 = A[1] - 2*A[0]\n",
        "A[1] = F2\n",
        "print(A)\n",
        "print()\n",
        "\n",
        "print('# 2. para obtener el segundo 0 hacemos: F3 - F1')\n",
        "F3 = A[2] - A[0]\n",
        "A[2] = F3\n",
        "print(A)\n",
        "print()\n",
        "\n",
        "print('# 2. para obtener el tercer 0 hacemos: 19F3 - 15F2')\n",
        "F3 = 19*A[2] - 15*A[1]\n",
        "A[2] = F3\n",
        "print(A)\n",
        "print()\n",
        "\n"
      ]
    },
    {
      "cell_type": "code",
      "execution_count": 5,
      "metadata": {},
      "outputs": [
        {
          "name": "stdout",
          "output_type": "stream",
          "text": [
            "I3 = 1.5\n",
            "I2 = 1.5\n",
            "I1 = 2.7\n"
          ]
        }
      ],
      "source": [
        "I3 = -66/-44\n",
        "print(f'I3 = {round(I3,2)}')\n",
        "\n",
        "\n",
        "I2 = (12 + 16.5)/19\n",
        "print(f'I2 = {round(I2,2)}')\n",
        "\n",
        "I1 = 13.5/5\n",
        "print(f'I1 = {round(I1,2)}')\n"
      ]
    },
    {
      "cell_type": "markdown",
      "metadata": {},
      "source": [
        "**Respuesta:**\n",
        ">\n",
        ">$\\begin{bmatrix}\n",
        "> I_{1} &\\\\\n",
        "> I_{2} &\\\\\n",
        "> I_{3} \n",
        "> \\end{bmatrix}$\n",
        "> $=$ \n",
        "> $\\begin{bmatrix}\n",
        "> 2.7 &\\\\\n",
        "> 1.5 &\\\\\n",
        "> 1.5 \n",
        "> \\end{bmatrix}$\n",
        "> $=$ \n",
        "> $\\begin{bmatrix}\n",
        "> 27/10 &\\\\\n",
        "> 3/2 &\\\\\n",
        "> 3/2\n",
        "> \\end{bmatrix}$"
      ]
    },
    {
      "cell_type": "markdown",
      "metadata": {
        "id": "Vr5fUKIGg4kP"
      },
      "source": [
        "b) Comprueba el procedimiento de eliminación gaussiana con ayuda de Numpy. "
      ]
    },
    {
      "cell_type": "code",
      "execution_count": 36,
      "metadata": {
        "id": "mWKWrjRMv2I3"
      },
      "outputs": [
        {
          "name": "stdout",
          "output_type": "stream",
          "text": [
            "El determinante es: 220.0\n",
            "\n",
            "Solución del sistema:\n",
            "[27/10 3/2 3/2]\n",
            "\n",
            "Comprobamos que A * x = b\n",
            "[12 0 6]\n"
          ]
        }
      ],
      "source": [
        "import numpy as np\n",
        "import fractions\n",
        "np.set_printoptions(formatter={'all': lambda x: str(\n",
        "    fractions.Fraction(x).limit_denominator())})\n",
        "# Matriz A\n",
        "A = np.array([[10,-5,-5], [5,-12,3], [5,3,-8]])\n",
        "# Vector b, terminos independientes\n",
        "b = np.array([12, 0, 6])\n",
        "\n",
        "try:\n",
        "    # calculamos el determinante:\n",
        "    determinante = np.linalg.det(A)\n",
        "    print(f'El determinante es: {round(determinante,2)}')\n",
        "    print()\n",
        "    # matriz no singular\n",
        "    if determinante != 0:\n",
        "        print('Solución del sistema:')\n",
        "        x = np.linalg.solve(A, b)\n",
        "        print(x)\n",
        "        print()\n",
        "\n",
        "        print('Comprobamos que A * x = b')\n",
        "        print(np.matmul(A, x))\n",
        "    else:\n",
        "        print('La matriz es singular')\n",
        "except Exception as e:\n",
        "    print(f'Ha ocurrido una excepción: {e}')"
      ]
    },
    {
      "cell_type": "markdown",
      "metadata": {
        "id": "CHJCOoO5fs1Y"
      },
      "source": [
        "c) Resuelve el circuito usando un simulador como [LTspice](https://www.analog.com/en/design-center/design-tools-and-calculators/ltspice-simulator.html). Agrega al informe una impresión de pantalla con los resultados de la simulación."
      ]
    },
    {
      "cell_type": "markdown",
      "metadata": {
        "id": "J9z3K6qVwLSB"
      },
      "source": [
        "![img_sim_1](https://user-images.githubusercontent.com/53100460/201708063-f7a28ad8-d4e9-4ffd-9e46-0e4f1632e98e.PNG)"
      ]
    },
    {
      "cell_type": "markdown",
      "metadata": {
        "id": "SKzDfu0vwRKO"
      },
      "source": [
        "d) ¿Es correcto afirmar que las fuentes de tensión están entregando potencia? Explica tu respuesta. Calcula además la caída de tensión en el resistor de $4~\\Omega$."
      ]
    },
    {
      "cell_type": "markdown",
      "metadata": {
        "id": "Jy0TCp4XxT56"
      },
      "source": [
        ">**Solución:**\n",
        ">\n",
        "> $P = V . I$ \n",
        ">\n",
        "> En la gráfica se evidencia voltaje (v) e intensidad (I), entonces es correcto afirmar que hay potencia."
      ]
    },
    {
      "cell_type": "code",
      "execution_count": 10,
      "metadata": {},
      "outputs": [
        {
          "name": "stdout",
          "output_type": "stream",
          "text": [
            "la caída de tensión es: 6.0\n"
          ]
        }
      ],
      "source": [
        "I2 = 3/2\n",
        "R3 = 4\n",
        "resultado = R3*I2\n",
        "print(f'la caída de tensión es: {round(resultado,2)}')"
      ]
    },
    {
      "cell_type": "markdown",
      "metadata": {
        "id": "vF73SF9iwpUF"
      },
      "source": [
        "---\n",
        "\n",
        "#### Circuito 2. $\\color{green}{\\text{(4.5 puntos)}}$\n",
        "---\n",
        "Se desea conocer las corrientes $I_1$, $I_2$ e $I_3$ en el siguiente circuito:"
      ]
    },
    {
      "cell_type": "markdown",
      "metadata": {
        "id": "ZjGRbEYKwp5r"
      },
      "source": [
        "![circuito2.png](data:image/png;base64,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)"
      ]
    },
    {
      "cell_type": "markdown",
      "metadata": {
        "id": "ludlH-bxw8So"
      },
      "source": [
        "a) Utilizando el análisis de mallas, plantea el sistema $Ax = b$ que modela el circuito. Luego, resuelve el sistema aplicando eliminación gaussiana. Registra el procedimiento paso a paso."
      ]
    },
    {
      "cell_type": "markdown",
      "metadata": {
        "id": "ljS0eYH2w_uT"
      },
      "source": [
        "> #### Solución:\n",
        ">\n",
        "> *Ley de Ohm*:\n",
        ">\n",
        "> * $V = R.I$\n",
        "> * $R = \\frac{V}{I}$\n",
        ">\n",
        "> * $I = \\frac{V}{R}$\n",
        ">\n",
        "> ##### 1. Obtener primer ecuación:\n",
        ">\n",
        "> $-2I_{1} -5I_{1} + 5I_{2} + 9 = 0$\n",
        ">\n",
        "> $-7I_{1} + 5I_{2} + 9 = 0$\n",
        ">\n",
        "> $9 = 7I_{1} - 5I_{2}$\n",
        ">\n",
        "> * $7I_{1} - 5I_{2} = 9$\n",
        ">\n",
        "> ##### 2. Obtener segunda ecuación:\n",
        ">\n",
        "> $-4I_{2} -5I_{2} + 5I_{3} -3I_{2} -5I_{2} +5I_{1}= 0$\n",
        ">\n",
        "> * $5I_{1} - 17I_{2} + 5I_{3} = 0$\n",
        ">\n",
        "> ##### 3. Obtener tecer ecuación:\n",
        ">\n",
        "> $-5 -2I_{3} -5I_{3} + 5I_{2} = 0$\n",
        ">\n",
        "> $-7I_{3} + 5I_{2} - 5 = 0$\n",
        ">\n",
        "> * $5I_{2} - 7I_{3} = 5$\n",
        ">\n",
        "> ##### 4. Expresamos el sistema de ecuaciones como una matriz aumentada:\n",
        ">\n",
        ">$ A = \\begin{bmatrix}\n",
        "> 7  & -5 & 0 & 9\\\\\n",
        "> 5  & -17 & 5 & 0\\\\\n",
        "> 0  & 5 & -7 & 5\n",
        "> \\end{bmatrix}$\n",
        ">\n"
      ]
    },
    {
      "cell_type": "code",
      "execution_count": 24,
      "metadata": {
        "id": "YiQUAkouxHm0"
      },
      "outputs": [
        {
          "name": "stdout",
          "output_type": "stream",
          "text": [
            "[[7 -5 0 9]\n",
            " [5 -17 5 0]\n",
            " [0 5 -7 5]]\n",
            "\n",
            "# intercambiamos F1 <--> F2\n",
            "[[5 -17 5 0]\n",
            " [7 -5 0 9]\n",
            " [0 5 -7 5]]\n",
            "\n",
            "# 1. para obtener el primer 0 hacemos: 5F2 - 7F1\n",
            "[[5 -17 5 0]\n",
            " [0 94 -35 45]\n",
            " [0 5 -7 5]]\n",
            "\n",
            "# 2. para obtener el tercer 0 hacemos: 94F3 - 5F2\n",
            "[[5 -17 5 0]\n",
            " [0 94 -35 45]\n",
            " [0 0 -483 245]]\n",
            "\n"
          ]
        }
      ],
      "source": [
        "import numpy as np\n",
        "A = np.array([[7,-5,0,9], [5,-17,5,0], [0,5,-7,5]])\n",
        "print(A)\n",
        "print()\n",
        "\n",
        "print('# intercambiamos F1 <--> F2')\n",
        "A = np.array([[5,-17,5,0], [7,-5,0,9], [0,5,-7,5]]) \n",
        "print(A)\n",
        "print()\n",
        "\n",
        "print('# 1. para obtener el primer 0 hacemos: 5F2 - 7F1')\n",
        "F2 = 5*A[1] - 7*A[0]\n",
        "A[1] = F2\n",
        "print(A)\n",
        "print()\n",
        "\n",
        "print('# 2. para obtener el tercer 0 hacemos: 94F3 - 5F2')\n",
        "F3 = 94*A[2] - 5*A[1]\n",
        "A[2] = F3\n",
        "print(A)\n",
        "print()"
      ]
    },
    {
      "cell_type": "code",
      "execution_count": 25,
      "metadata": {},
      "outputs": [
        {
          "name": "stdout",
          "output_type": "stream",
          "text": [
            "I3 = -0.51\n",
            "I2 = 0.29\n",
            "I1 = 1.5\n"
          ]
        }
      ],
      "source": [
        "I3 = 245/-483\n",
        "print(f'I3 = {round(I3,2)}')\n",
        "\n",
        "\n",
        "I2 = (45-17.75)/94\n",
        "print(f'I2 = {round(I2,2)}')\n",
        "\n",
        "I1 = 7.48/5\n",
        "print(f'I1 = {round(I1,2)}')"
      ]
    },
    {
      "cell_type": "markdown",
      "metadata": {},
      "source": [
        "**Respuesta:**\n",
        ">\n",
        ">$\\begin{bmatrix}\n",
        "> I_{1} &\\\\\n",
        "> I_{2} &\\\\\n",
        "> I_{3} \n",
        "> \\end{bmatrix}$\n",
        "> $=$ \n",
        "> $\\begin{bmatrix}\n",
        "> 1.5 &\\\\\n",
        "> 0.29 &\\\\\n",
        "> -0.51 \n",
        "> \\end{bmatrix}$\n",
        "> $=$ \n",
        "> $\\begin{bmatrix}\n",
        "> 103/69 &\\\\\n",
        "> 20/69 &\\\\\n",
        "> -35/69 \n",
        "> \\end{bmatrix}$"
      ]
    },
    {
      "cell_type": "markdown",
      "metadata": {},
      "source": [
        "b) Comprueba el procedimiento de eliminación gaussiana con ayuda de Numpy. "
      ]
    },
    {
      "cell_type": "code",
      "execution_count": 26,
      "metadata": {},
      "outputs": [
        {
          "name": "stdout",
          "output_type": "stream",
          "text": [
            "El determinante es: 483.0\n",
            "\n",
            "Solución del sistema:\n",
            "[103/69 20/69 -35/69]\n",
            "\n",
            "Comprobamos que A * x = b\n",
            "[9 0 5]\n"
          ]
        }
      ],
      "source": [
        "import numpy as np\n",
        "import fractions\n",
        "np.set_printoptions(formatter={'all': lambda x: str(\n",
        "    fractions.Fraction(x).limit_denominator())})\n",
        "# Matriz A\n",
        "A = np.array([[7,-5,0], [5,-17,5], [0,5,-7]])\n",
        "# Vector b, terminos independientes\n",
        "b = np.array([9, 0, 5])\n",
        "\n",
        "try:\n",
        "    # calculamos el determinante:\n",
        "    determinante = np.linalg.det(A)\n",
        "    print(f'El determinante es: {round(determinante,2)}')\n",
        "    print()\n",
        "    # matriz no singular\n",
        "    if determinante != 0:\n",
        "        print('Solución del sistema:')\n",
        "        x = np.linalg.solve(A, b)\n",
        "        print(x)\n",
        "        print()\n",
        "\n",
        "        print('Comprobamos que A * x = b')\n",
        "        print(np.matmul(A, x))\n",
        "    else:\n",
        "        print('La matriz es singular')\n",
        "except Exception as e:\n",
        "    print(f'Ha ocurrido una excepción: {e}')"
      ]
    },
    {
      "cell_type": "markdown",
      "metadata": {
        "id": "CJ9kDMDcxKIM"
      },
      "source": [
        "c) Resuelve el circuito usando un simulador como [LTspice](https://www.analog.com/en/design-center/design-tools-and-calculators/ltspice-simulator.html). Agrega al informe una impresión de pantalla con los resultados de la simulación."
      ]
    },
    {
      "cell_type": "markdown",
      "metadata": {
        "id": "jTZouFE6xOKj"
      },
      "source": [
        "![img_sim_2](https://user-images.githubusercontent.com/53100460/201715711-73052961-d98e-40bb-981c-d2500b695079.PNG)"
      ]
    },
    {
      "cell_type": "markdown",
      "metadata": {
        "id": "kD1RcznhxRCi"
      },
      "source": [
        "d) Calcula la potencia disipada por cada uno de los ocho elementos del circuito. Luego realiza la sumatoria. ¿El resultado tiene sentido? Explica tu respuesta."
      ]
    },
    {
      "cell_type": "markdown",
      "metadata": {},
      "source": [
        ">De acuerdo al circuito simulado en **LTspice** podemos observar y obtener la potencia disipada (w) en cada punto (8) y son las siguientes:\n",
        ">* $V_{1} = 13.43 W$\n",
        ">* $V_{2} = 2.54 W$\n",
        ">* $R_{1} = 4.46 W$\n",
        ">* $R_{2} = 7.23 W$\n",
        ">* $R_{3} = 0.34 W$\n",
        ">* $R_{4} = 3.18 W$\n",
        ">* $R_{5} = 0.26 W$\n",
        ">* $R_{6} = 0.51 W$"
      ]
    },
    {
      "cell_type": "code",
      "execution_count": 11,
      "metadata": {},
      "outputs": [
        {
          "name": "stdout",
          "output_type": "stream",
          "text": [
            "la sumatoria de las potencias es: 31.95\n"
          ]
        }
      ],
      "source": [
        "WT = 13.43 + 2.54 + 4.46 + 7.23 + 0.34 + 3.18 + 0.26 + 0.51\n",
        "print(f'la sumatoria de las potencias es: {round(WT,2)}')"
      ]
    },
    {
      "cell_type": "markdown",
      "metadata": {
        "id": "yt_DwXYv8I1b"
      },
      "source": [
        "---\n",
        "#### Conclusiones $\\color{green}{\\text{(1 punto)}}$\n",
        "---\n",
        "Registra dos o tres conclusiones sobre esta actividad. Considera: los conceptos abordados, los problemas propuestos, las simulaciones de los circuitos y el uso del entorno interactivo Google Colaboratory para la solución."
      ]
    },
    {
      "cell_type": "markdown",
      "metadata": {
        "id": "xDGIJ3Rf0QEh"
      },
      "source": [
        ">**Respuesta:**\n",
        ">\n",
        "> 1. De acuerdo a los laboratorios y temas vistos se puede afirmar que en un circuito en serie la intensidad total (IT) es igual en todo el circuito $(IT =  I1 = I2 = I3 = In)$. La resistencia total (RT) es igual a la sumatoria de todas las resistencias del circuito $(RT = R1 + R2 + R3 + Rn)$  y la tensión total (VT) es igual a la sumatoria de las tensiones del circuito $(VT = V1 + V2 + V3 + Vn)$.\n",
        ">\n",
        "> 2. En circuitos en paralelo la tensión total (VT) es igual en todo el circuito $(VT = V1 = V2 = V3 = Vn)$, la intensidad total (IT) es igual a la sumatoria de las intensidades $(IT = I1 + I2 + I3 + In)$ y la resistencia total (RT)  es igual a la inversa de la suma de las inversas de las resistencias que hay en el circuito $(RT = \\frac {1}{\\frac {1}{R1} + \\frac {1}{R2} + \\frac {1}{Rn}})$\n",
        ">\n",
        "> 3. Al utilizar la ley de **Kirchhoff** obtenemos un sistema de ecuaciones el cual se puede expresar como una matriz aumentada (álgebra lineal) y haciendo uso del método de eliminación gaussiana  podemos hallar el valor de cada variable (en este caso los valores de la intensidad). Se puede utilizar Python para comprobar el resultado de dicha solución."
      ]
    },
    {
      "cell_type": "markdown",
      "metadata": {
        "id": "xqwr9Q419cW1"
      },
      "source": [
        "### 3. Resultados de aprendizaje y criterios de evaluación\n",
        "Esta actividad formativa del curso de Física II orienta el aprendizaje hacia el logro del siguiente resultado: \n",
        "\n",
        "•\t*Comprender el funcionamiento de los componentes de un sistema informático a partir del análisis y la simulación de circuitos eléctricos en corriente directa y alterna*.\n",
        "\n",
        "Para evaluar el resultado antes descrito se propone a continuación, la rúbrica con los aspectos y criterios que se tendrán en cuenta para la retroalimentación y calificación de esta actividad. \n",
        "\n"
      ]
    },
    {
      "cell_type": "markdown",
      "metadata": {
        "id": "zSx_fvhPxnQx"
      },
      "source": [
        "![rubrica.png](data:image/png;base64,iVBORw0KGgoAAAANSUhEUgAAA2UAAAHlCAIAAAD6O8P1AAAAAXNSR0IArs4c6QAAAARnQU1BAACxjwv8YQUAAAAJcEhZcwAADsMAAA7DAcdvqGQAANjxSURBVHhe7P2/jmRLkn6LzUtciQIf4IoNUL7qQStXoEzgAAOCb9ACG6B4pZaG+ElUWmNLVFsdChRbnwfgC8wLkCv22vkdK99/IiIzMiu9ti0Eom2bm5ub+/Z0/07WTNW//f+apmmapmma5phVL/5b0zRN0zRN0/zIKhTX//m3f/t//L//v/25wqffdX8m/fTW7c+kn966/Zn303rxup9+1/2Z9NNbtz+Tfnrr9mfeT+vF6376Xfdn0k9v3f5M+umt2595P60Xr/vpd92fST+9dfsz6ae3bn/m/bRe/Dmf//P/7X+w1HwP/q/89Lv+ms//9L/73/MZnP/z/+F/2Tr78+Cnt+6rPqwkW3FwvuTzv/0//z8k/z/+X/6vg//in9663+rzl//7/yu7FON/+V//T7W1P8OHJVqF4vo/n7CbyQmfpI12L+Pv/2m9+D0/7KVlt/6xMl578O6jZHeLtl78yKe+oF/j4x4DLrCh6VM/jNh68Ss/rMngudrHMzbHKcZPPAlbLz71YYlWobj+z6t3s8KII+mTTqXdy/j7f1ovfs+P26m+Go4SPe/ewJNu0e/8+cW2bt0hn3ROHn0+srH7845Pn7oep8B/UfD4ffRif+5+WKtVKK7/8+rdzGHEhuB9ZH/w8RHcKO4YvnXmv7ATBum7Pi91knx9eLvgkwSSZ33e6DM8QyXxS5wMxIfHGsYnv3wC95xhtlpMDLEGvmNjEIBR9+5RF/2Z2kc+5Bk8/eHd+a75xOMm0eNbcP19F+yBujF0avuxlQ/+NJEtdn3XaeWTLtn8/fGThfo1Pm6PwbndFfm4PdxC4PaoG68m3ObJqeUGI4/+JNwWg6fm8aQCnAZsT0I9CbAJktwp8Kgno4M/Xy8/8b7Dh7kMnqt9fOO+WR75zpbwjYu7qH6yQ7KpzAM0JczPdjt5jPsN3qruZMfCSJ4l5IaPGQiufBoz/VUorv/z0t3skcGL0cgOqDYfTwQ9biYMt47vhreoMwaveYjng6d2wY7TgOGDH4ivm4ZsbhprdmuazR1WP+lltValYavdLYmPM028CRNWyzjqYm0v+Zi2P/Xj23epszHcCa58XjS2r4bW3ZeeDzltNY+t7igM+ybSUWw9StifrNiv8XEPgG8/Hu3sinzcHjk9bM1BwYcufDBOdhdGPVLobhc+OHf3cH4ijHREnNgYjIWRH5C62zP09kfAWdikgd/8tbxf5sOMBs/VPrxcNoBvn5eO7et2a7kf3LcegH5srR4yuDfcVG6/fLbbyZx172GY1r4YJkwXWm1KNvzGXPPDEq1Ccf2fl+5m35B2XWjsvBs+vEIefSWxNSq08u37zodUvlo+ec18cmxpaNuUD87UoD3svCTEwK8zH7dahbGSwVZ3f2qQeGzFcFJ2cfTzLi/5mLY/9cPrrtuA9+IG4NGt4ltwL2WvGsCjb9DWfMiQbRk7O0ojDK12cej+5JPF+ZU+y/u/gb27K/Kp2yO2u1HnsM2CTgwPHG13F01LyIrOfJKwnpB8Y7Pb3fYVfkyMZKDahQ+Za206+ZhNDHj5ifcdPsxo8Fztw8vNrmAPYPu63QAep8Oeiac6fQzZ0n6220mPh3Nst645Mdz2GEM2HnHK8KNxqQ/TX4Xi+j8v3c28p2WF/8DdwMezALB9GTbF1jA4HzzDi2QIdwOfnER86r3Ox0qy1fzgybvXHrZpEmLg15mPW217nNkr9deccdajEMNJZe/e7fKSj2n7Uz+8OLeELzFvAUO/b8F95aup+zYvq37I4y6qdnaUA9maT1r50OrQ/clnu8i/xie7a3dX5FO3R+y69+o22+YhjODY7q7zbZaE9WjiG5tqd09CIxmoduGTklI5n5ohAa7GkHb2T6Z82Q8v1+3n/snW8tHjdNgz+bjJ3agY2cbDZ3c7ZbtW20gHwtjN7D60I6mMueaHdViF4vo/r9vN9Z3lkRfDVvBl+Bp8tAlndo+t6e4nrfQyPruBj5vADRc/yfXwOGwvgo2vm4YwNwT+OPFg26t+cG53j2WAw9U8JMfGqLPLiFmHu11e8jFtf+on78LVBjcPhv66q5f2NUA/DHuMj2+QAF+rAdlR7hZaE19b+aSk/uSTxfk1PrxiDU8A9snursjH7ZFN6PawC33diuY8311ucrtn6ITVD9lM6B72aKrJkyefutuzh2v3lMHHmjMjx7I8nb/MJ1O+7IeXm0OS1QBfd90D2cyG8cFvE32Nr/tn+OxuJ3M6dPoa6YbEcJcSbxcKoIk8NBHp7jXmmh+mvwrF9X9et5u3B1Beg03ge/LRVwjpkjDwNfvCxBjfJfA6eUwSMM+2Sz54Ep9NUOPjNEy7ftxtQWcyWBKfTITp843Hst3QmYJhdU1gt8tLPqbtT/2w2r50X2I2QLXdDOA7cpvx8U3lpeeDv75NnXVHJSH49mtrSupPPlmcX+PDS19e/o3sn+2uyMemBMTvI7Dfhp0m5skBRZMfI93AMpwzNJnQvuaxbAvenoRGUklsyXAWpp1HyFgvP/G+w4cZDZ6rfXi57go+vmJfN5/6g7B974TZlJ8RH2U4eLfbyeTx133rfsZwc9btyiOfDI1hzDU/rMAqFNf/+Rm7ebh3v+zDoBd/94OnPx/5sJc8mPrz2Z+Lb13vvMH53T5VWfYnnz51f9an/udNf973YQFXobj+T+vFy3x+yrv+VT/1v1P789mfi2/d768X/XGArz/Vv/nnm7+4X/jTevHjHxZwFYrr//Ruvsyn33V/Jv301u3PpJ/euv2Z97OjF5umaZqmaZqmsgrF9X/+7d/+u7kGefdNMxe9dZtJ6a3bzEvrxevSJ1czKb11m0nprdvMS+vF69InVzMpvXWbSemt28xL68Xr0idXMym9dZtJ6a3bzEvrxevyqpPrz3/+83/913+tD9+Jjxf2j3/8469//ev68M34z//8z3//939fH74Z/7GgzQK+fA370m0mpbduMy+tF6/LycnFBf+nhdz6J1xWL7I+BKwPX865Xvy5Sjd6MUXyIngdS+MNlo6m9eF5+tJtJqW3bjMvrRevy9HJxUWeq/2R32BdVi/+XKbQi2HQix+kL91mUnrrNvPSevG6HJ1cSI3t1c59v/zC8cYgwghGHNiU37f5CDUV+kZnpIyPMPy2iV7xYDsi3TPQIEfih9RQC0t8nUiNpCQ8hmkDBuAhUg8k1VCkrckZ9INNdFmfy6yxUypOs/FtKx7KyOq5GjijF9NXT63WQaunvj78GcWV0YbapU45Y5kZfISkIsYuxFB5XXPXk0jLqE2uxlGplb50m0nprdvMS+vF63JycilNvPKFRw2u8MgC4VERoNDRGUilsCCbYSGiAZJfaFI9aBtGKsBQZCyNI7UGDEc03iQYZtapnUig2m2GUIem1e5Uta1WaIqugloJXWpVDsQqYdslfY10CAJcBB41iEmRtMLgtLs2/tjCozXQcZisWLN2FoScWaWQgrdlkKTGZ5UwnJeclxr60m0mpbduMy+tF6/L3ZOL618x4S1eWSMWcvdDmpALRoIagmxVGahCKkkCVUYkf81QB5U1S/ktV41RytAdQw8gZaytRuJU60DkDhCzDlDEk/Ws3jfqNHlcrYWaEDKjhNUKF9F1q6Q6qdPgOEl4G/UN89eBkkfqZIEwWzOdsDvl9I2T7saA67kMeF8vDk5IR6nDVfrSbSalt24zL60Xr8sjJ5diAhkx3OuVeqmjGPgmXgPIoIaINhK6JGYLOROc/DXDoCRoUmfgTKk1hgDKoLsaS1JbjYx+gsgdvjUgZdPLevDUYirDHJNQMqOE1Qpv0mmppDoZyOA4SZiCQx0oeWRYOvLo4Xt1LdwmvDfl9E0ZaSXe9cyIKWPIb57BCekodbhKX7rNpPTWbeal9eJ1OTq5uLC99YELWxtNgDLQOVAv9WiI6AA8Zljkxx9SCZJ8C0pI3UAAGcwfdQWDkqDJVPTK0BgRK0mSiVRnzUaebQa+az1L463VVKl2CzF1jnVQ+iZVDJyqQCCnaY10LDwGJLIWHHAmTx1oNxjPdgpHU85C6SR5EuJxsre63/rWV3ALWkgenM5L7pYqfek2k9Jbt5mX1ovX5eTk4s4WL3vwIpcIEdlqCCAmwWoIIFJn1RAyKIMMR2Tykyraog4KiScmqTBQLfpTQ53IUbYUP8gdIBIMw0gGW0WP1DlaA9/rc/mtJLYGCRldO6pLJ8PZy9YaSZE2QWZaH7MOYGvF1roCcDTlbc1ZLowMBxg8ZgsZ5mPyMAv7gotpMXLrtsfLL92TsT6DrM8jsG6uzLupW+WFfLywE+pO+27w7t69nq0Xm3lpvXhd+uT6IFxpn3dfVj7pvg+ouk/N/3JOtm6k8+OCDK6sF9nGT61V+HhhJ3xEL/I2LYzNkP98ejcsTl09qqK29eF5+tRt5qX14nXpk+vdcBtxJ33k2niK8/v+4zCRj1+rX8nR1mWh8lKeWrEr68V38/HCTviIXgwv0YuvpU/dZl5aL16XPrmaSTnauoiDrYhHdiAH5UiC0ISAM0YNVHtVsbW63v6gn+D1+VhxEmlAajvSizVb/XP81BYn6IGkItJfrxpWezmFo/wRVdi27pYnBjAXgqMXedR/pM/qetJrt5LEkDl6MZnBsC1r84//58guhfDIjDIQthPke40oled9gY+149rwVgwToVqozhP61G3mpfXidemTq5mUk63rza0akNziiAaUhPZAuiAOyKAz0AtZgEFT1UM1obpBu1L9UR6MVSvchZJUP3RPBpxWwripBKd2jSQsE6/+UPPbndqSE6cDDeC3cvMbU4PVatqVrOGWVJJJ8R1noLzdRVvW8gd/aqgzIqbKvqELtdELg45ZNyGDHTGMAbpr13U4qrDSp24zL60Xr0ufXM2k3N26KBgFh9d5ZY34kfjpEk3A9W8XUBBg2CTKmpCOFQTE2rxAYTqPhIWVi6KnqjEVSS0Skq1G4ok8wum4sJtfUUXOtWEhSquC316Q4YwPqSEMBctQCWCsbUXz1UV2mgMMNzSlLyuQWdQFwU68mcEKiU+YxFOzAV34rmu77bulT91mXlovXpc+uZpJeWTrcnOjCbjOt0pli3c/oDOiG9KxCiM9Qky0whHUsNUQi1zZkT44kzCiJ6ODk0qRsiR7SC/i3M2vDMKT7kewAvaCDFeduwwFw7YSqMtbnXzjuU1yb9GEJiKtJ1NjBaLwCMiCLJnWFdMg3gq3mi+emg2sNmsL275b+tRt5qX14nXpk6uZlKOty92fG53rXzsy4oQolaob1AFKlgiRqhhsUpocQcckD4tc2deLCg57mZkyokh2K4mTMA2o4ybDUX5T0WTrCQRbuRky7u50KgmW3UoyKb51Asatw9J6PgoJ7U6kCfGkC034tcmpP3Pn0VbruQW9QYCl1gzEu6TEa0AiT+hTt5mX1ovX5ZGTi2M3R+RT5Oxujsitdg43E6wPvyj10n2Ek63LZS+5uVUAcjQKTRp1w2OkF0ls1QNub77X5zLiAK9vjXiTKcsr3X+na9wyqNsDg2Cd6bWtBFKnUE8CMnE9UPMnQ6YMtg5kXHqRP8PpFD0D9S3Ya30olSSGzHFmFnh2Fy0B9cUNCX3M7G6rv6RKAMnTnSadwCOLwxA2bcciA321E+kqOehA68VmXlovXpfp9GI9hV+Sn4shZ/3Xk1vtnOVq29cW7+Po3pV6O34Z9dJ9hL50Xwgr//If1YvDfj46NnvrNvPSevG6TKcXK5+d/wv4WXrxnNaL18H/AIP1uXkRJz/avXWbeWm9eF1OTi5EgxcJ0iF6MX92A3pOiJ7DWPuU/wOm9fngj2xC7jPQo1FzEsNjFNX5uITpcVJVGyU+87WVx+qERG773hV2mRHyiJxO3yHEMCBAD8lNm+LBOUL6Zo53IWGWKDmdC34fwZh4sgL1pQABqj0r8XXYBFaFk9b4nTXU0aMXaw2JHOhLt5mU3rrNvLRevC5HJ5eCwKuai1yh4JW/tD/02yA6KjgCj/ZCJYDOc7ZJKEyjNmEn4cm4lJ0pCE3EY9A9M8KjTWvWAY9pl9p/GKuuzF2INE9NHjIRvlMPYRlRMhGSWP9TWLZGKk8xNWd90fFnKeIhjO583+IKBNidzATYi7nUXre4JaeR1Ul87IG+dJtJ6a3bzEvrxetydHLlmoeIIS/vcFchoQnUB2oFqZpg0EC7OKh5hEeN5NdOtpNxiRkGJVLtQkDkTp2yrZC+RK5JF3QSf3dBwJLWh/KHVgxkNsgomd0y8lr2GvS2/iZMkQ+SJYoBWYFh1g4nLmNqo9VIOtok25XPkkKC031wgk7IEg30pdtMSm/dZl5aL16XZ/Vi1QR3iRahu8agKpAF6Ak1yjmkIlLdgBGnabUjMk7GXaTIH1oECCAeg4BUUqdsK6QvkRm3Qi9qS/wuxqwPb2JIJ994dkepTg2CrVCIJMNuVbtkiWJAVgBPnfV2RjgZTvQMb3a78rXg+jqSvDpBJ7hE60OhL91mUnrrNvPSevG6HJ1cVcFwo3vTV+cjRIvQXSGCp6oKSMxd6GiSaBT6RlhgRJcQcDQu/qgWwUMrRjIAHp1phZuKWYarkQMRPSdQgOXx7Xpac1q3o9CqE499eRwmgseYR2BS5okBJHe58GRoPKktMDQ1rw8Lw8QJGFae+BSc4Jocz9ZJJcM0Q1+6zaT01m3mZUq9yI3yl7/8ZX1Y+P3333/77bf14ar8/e9/Z2X4Xp/vcXJyIT5IBfXOxtYJEVJHRIukVzQBTXqO1EAg3kg7AraGwgLULtokPBkXhqGJyUSIsSnBtbUKskQCZaQSwDbmiASTmTwWn6rwZBQq1EkZOtOXMOvHrweWTrdUoH0EAS5RDCBnijehTXUIy6DX+vy2jHSk+63nAh1txal/Vy9CUtElzu2ktvwCl+6waM1LYJsN/zHzboY96eb/OPNuXX8kc2J8H1740nnjOQabLU/oxX/9619sl0GoVf75z38S8Le//W19/jSGMhixxSK8UC82k8J596kHOucye2x9KL9K/GJaL85O/U+IF/Iq6TCUF73If+GAzgo/dA9O53zrkqT+fH32j3OFcU9+liljd+LfgVe9dJhUL2Z/fjZT6sVml9aLF+drznSGYJvJz7pCWi/OzjfXiwMvvI/v6kV2Rcb6Sr14zgtX4OW0Xvyyt/NOvfj7wm+//ea1QZOtwS7rQ1GZ9Fpdf/qTvxTkm1YeafLRViDn0ukPpx4Mg2sT6EGwYpsTHtdPk+J8waVwvvV1HCn41ovNpBxtXa6NddOX/7uCeunmPkDpcsIaea56E6a+saNN2GbGMAbMrx6KP/dZHTQVkkQnnNx8Dm0Y9up9+6XU4NxiDDgEda7Px3/uDyTPoNRJzdq26omdAtIlrbXy+prskrUirK4Gj3bfJcUkjDxHC5gCgCF0DrPT6SPQqocYqEZWzxgeM1P9sFvJXb3o9O1LzlTl+kCq2iWrl3rS0aU+grQZlDnaxcnmEZbYP+ZoAJDcgRzXpiXk9hNBcoxUXhNmgrusQXubFtsY0iZh6sFpPXoSkGXZhdakNR6S04TVs4sx4NR2a8ZOSXHm3YGejIihhwoTpjN5wFTVs3T64WDUs4UVy7sg8+4c368Xsf/5z39ixzn8flEhGD86BjDisbsqRxuqRlQUqvwwaDIhjzbxTRhGdaqfLKMG/JJsX4p6MSvgmmd5K60Xm0l5ZOty/Hl6esLqzH3AgZjbix+Q3asdCE6Y1JMUO5mFRy8kD2hbifdkJxvOW9xSiZHVSXzsLbs1kyT10Lp7ygP+2kTfpKIAK9mFMFutzSRZhMxX22nGgGXYW+Qwr1oAYKdLcA3Xhw3EM5A2NfhayeOynFDfacatzkBah8gsYmREyRom4Ii7epFUlGRVtQDzA02xtwwrUOuhY1ZsSzqS3Px1/WseIpOHAG2S1wXE7xTolRjSDgXsLnuog4L1WCQdY5PBsWpAnMCgsYecA1Toa93OkbQnpYZhjrWkWjOGZRC8XW2ppVK/aQk2Hoi32hpJWOrEqZ3uJxCcVUqdAx/Si/oj7FSByhSDK/iP9GKVdKpDMW3yhzRhWA/YEUO9aPI4f1WqHNTm2+Wt4DS+0nqxmZSTrcuRt276t8OU4zVnJbbOeoDGuWU5h3+4XegYT5J41ounOZ6c2iTXScecyNWZhECv3ZMadmtmRD1Aa/IPEExkBiJyKXbl5CJMPXVGGQjDWVQn32veBZ2EYS+BN2o2GGbNo31hdW2oMcDoOo9WD9bQMt8aj1+DVTIMTLu8otvSVYPWbJu8zWGdtzyiFzFIQmHktIC8bhiWbsDFz6Rc9nBSWJaijhXnbdpL32H0+BnXUoWxNLIykGCwHjiZy7CY2WCSOlOkzu1O2N2Qu5jzaI44q38X8q/WwlHNCctYQyQQvNS7Yg3JAMTrXApcVwnn9kXgwaj+LVSSYEbROfC5elE7VBEZnbfIxVUvVvWTtDECMa0X5UQv7mrESuvFZlKOti4nXQ70HKwYOSjjrKdqPYIH6kEsOaO1TcKgGuTxqK1XTpx0pMvWmYRAr9xzA7s185OuB2hN/l0YiHg6Eunod0k9dUYZqOaJk+86owqjG1+zQZ013c0DdXYDdHEFKjXPAONaVR26xjsWOTMoZTApjNsbWvrGEHKmV11PYvBvy4MH9SIZSAgWgJFsw9LtQoAxyXAX4l2KOlacy7zH1YP4s1aSNawrk2A8Go/MhUgXMxtMUmeK1GkZ1Ukvh7uLOY/mCDRRTC1jIBOXo5oTlrGGSMhcKskAmVetEGftVeuhiccsyxZHHDJUXqkXB414k4E//lkwfQcP1LCoH1OZto7l6LUpfXHaeim9uH0pykQMl+iE1ovNpJzoRY48DI91D1aOP8DgsTpzJtYjeICY4T7jXK5DmISYpE1rOtKk0wJ04tk6t8NVdmvGyFVB3wQcYRKLP7k5AjkNqzMiQ11SnbTqPJlFkliATsgoQBJnRJ4aM0CYw1VqngEWysUhecqr8Y7FjNKKJ10sKUYwA718m4Ha7DvwoF7UrgUk/+7Etzid2vGcLAXxtQady7x3thmjGDzM19GhrkyS4Mm8yLY0nmFyKiGt9ZA2Q5DBBakBqRzo+8gokLnvzlHqjLbUjnBUcwyarK22CouzHQhPnCmMyGyJOtltBh7rXAboS8BQRuWVehH0q+GMDzwqB4PK5qYWi4jEthUjafUASXzcNiXJpfQiOF/QcFX9FWMwcqD1YjMpJ1uXs9I9n5PRI1tPnPV6i3MXIu2eUziPScK3TofAk2sASK4Tks2jWSfHuk7Qs8tRzWvP0z9t3M4iNQOtOrcQ721XZ0TfdKESk9RLK8MBwXkFUKfAo10yCiQYZ0bchVYjwe54kmeA5TKScZO2xtOkkRlhWC1Tc21jZGjrzyvOxDPEwON60Rc0LBc40BHGgHVCOkKSb8lSEJ+wODNxwLOmK+Ux8dhAk0ZWBpIEp91pOloo2C6mayJ5cbSSVmdqSOWSVFDrHMjct3NMzZD12bLtuFsztgaezC6zAD3bd4cnc3ExIYMas1235MHQcwQxdF8fNjyhFz9OlYAYVSY2X88jerHu5qb5JjyydZvmG9Jbt/kIUbSfBNf9Sf4v1YvD7xf9ZWHzs3hKL/pfMHzrr9z+m/HtP3T4b6lzfUmS1ZoBqn3kh5OYZ+dFl7v/qTcRvPTdvfFJ9KXbTEpv3eYjfKpevHt9f6lebL4VT+nFE6pevMtcevHzaL34EfrSbSalt24zL60Xr8vJyZX/k4u//vhXvmkgdGwlDKWoDWigyCCNRNpRG4ypnijO7f9xxgkJTsKMGM9NzL4VGSdsI4HJ6nT0yCBikgQj49paVXWWLp7b8D8WwOL4CDQNHuyl3x/FxPMIGSsFbGe6VLSzJhmRVj0+gjUwU+IzfZ3plRF9hOTJcPTVcwRJWENtgpOh0pduMym9dZt5ab14XY5OLjQB97pKiAu7igC+kQhVYQA3ei71tGIQr56ot75JpCoD/NhVeN2F+KESBgJtZQ0GQ2dQkqekbSTfqVOIdx2IsTDnZTzBGik70wfKS9i2gBpZF9z82On+FHS3kkCS5Lm7JkfTB+Mt1bfGd8aqkdgGQIIz3F2yqkCvpK30pdtMSm/dZl5aL16Xo5OLC75KmWiCXPkYCQAu+OiMyKCqh0hYFYBGzQxJgrP6TyBndInQMfIiBSQzpMtuZHVKPAQoqiBTSMfMhYFoDScFHK0POBY5yVD9j1DHkvetCVhABQ84U9GJkb5DQAZiXIJ1nkMGI6kqSzTQl24zKb11m3lpvXhd3q0XAeXBo1IgmkC/fY/0UJIcCQtQMdyVShE6IaoFHtdGiaxOiYcAwnRmCulIjHNhoG3ZuwUcrQ/UsWhiuGGaJ9Sx5H1rAtiZachMhQC7pO8QUAcC4jPrE4hxTY4m3pduMym9dZt5+V568fG/LtG/a7D/P6w/wtHJpVDw+ufOzvWPU0O80TEQBJE7USRHeiiZgcwRBPgjkqB2P4JxhxhGyUA0qVRugmWjjXYjY4TIIJpSXtYhRUYk4RlWCZbxxwKIzMLWBd9mqN3vQvKkld2Z1pwpaXf6eUFiqTrrWBhZn9qL4PghC3UO3Slmu5KhL91mUr7D1n3wx/D7U8+x9/HxDJfiQnqRYLr49403cHJy8SPEWkHVBDzyjccmUOKoIQBlAEqoGECXSBYMIm1KR1Bh0Gt9/lFnHKGqgIxFtXoyYj0Roo1gGwl6wC7EOEfypx5aNTLHev7S0QxgktvwxwXYtF1V/Ovz23D0raUeQYy9UtJ2pktFOyUZBrbWF2Q2Z5plt1QgvsbYCmbeeu5C5MlkX3vpUtIjC3tCXcPvBis5GN+fZXuu+/MX41vpRX8w81N8Aq8jZ+yDfPzH6i7ZJwz0vrGSoXmE76UXP5XWiwPf4eRqHofz+qeLktw0nw2jnPwHwyfpRYz3zY7urRdfyDtu8fpfdN+Zb6UXP5Wv1Ivv5uMZLsVzerH+03N6/AcAxd/2GeNvCsF/ni5+iTN/g7cyzl7k0Z8k9M1AdRT/0b/614Dr2a1BW0ySf3sQeAQ1pZjqF6b14kR8weH7CF9205yP8kl68d20Xnwt77jFfw29yLZn4sv988dv4rHZYPFoQ/0Zya/8s5Np1ZM8GHqISV8eY2RoVtLuCaNvMicsv3GkKU7DMhZYQPXkN5rr8+Z3nKu3FED+ZKhOqAYMS+FExACoMemIrTP5WYfBc3Ge0Iv+k8RqL/9ZPwXZ0vjHPwOtVuMbO//on5JOBRZRqDgzEiePaYpeNAk2HuN1Ri9aVc2c1qGG2r36AX9mFOcvT+vFZlJOti4/y5773lK5A7w8YHt/EGkr14NXYHoBTi6z9eHH/3+dpCLe4SBXUY08ggxcV8abYXcs8luSHlvhkWuMsMGoQ+SersvCWI+UcURmBFmWIwgmxuBMBydo2ARJhR2/GpF6fARj4jEP+Ah1FKdzvoyGxQYMisHpotWEywg3jiZ+furS0fwqlcEJGPV1aONMhYLflQHK4236QvnGY+W21lFM4iysnzwazrcaQCRgDAkdpUbW6eDXTvcTUgCRyYDTjkuC0cigA/gT47oBObdOIrX5zjI28IReVIShutbnH/896LRGyeGMgIsBKjz0n6LQSDEsepHvOA3AcMSMolE5qmHQi9VOTLLVaf6qtF5sJuVcL3oBAEZs7gAvnpD7Ixcbd0PuDOAxt2DA4xVCF3t5E5s8TiBV7CNSbb1QQx1rWwkwxDCpLUm7NajctNRgqfFU7pZxxO4CDjB06mE6rgbfGqGmIt5W5p73hWGRQJ1ZluqXLBpJMvQJhOU93sp6G5q+CqMkDCcTv6sXV6sse3XW6eRlbedIlwqtda3qW6Z1MAhOZJ2vi8D3knIlzqxAikkXSB5hdGogjAzVH3CaH8y8JFgjM5c4Y2yXguA10dtYxKTa3Y5ZH5roNSS8Mr+IXhzk3W4NxGDwuITs60XBBkf/hWm92EzKuV5creUO8GdZvBi29wceLzYuBu8hIUBBAPWa9P7IdW6rN5AXoc4h2y5kW60fZZkDQTy54cBrTKp/F2KqQcKl3x/gJGFWwJsS7pZxwtrtgd+AMjRok9wVq841UUmFrVF1T73vcdpFrJmE6/OeBDmBGBdH2y5k2DphHeB44l+mF7MPJWsLdd2SPAapEpmpZb58Z7KhbowUc7REwOgpDz9D1/qxU0wy1wyZS5wxhqVglCxFjUm11ZmOdX2AptRzcZ7Qi4OG8xvP0viHdtzVavYdnDxiEG8v9JxNT+nFmiTs1gAYPGqTp/55tP7I323OX4/Wi82kPK4XczHI7v2Ri40Lgy63uB/vRQJyf+RewZMLJrdavQhrtiNqtSbcHSv5AU96Vf8RCdage/IHc4oj3i3jBOJduuHe3WV5CX+ssysW524qitSozhQJOGOLE9TOLDLKOcTQJbZdyLB1PjLxu3rRDLXgGECrSwQUYA0xQioJlEQevrEJ3i5mDIbOECQxT+aLsZ0aTS4p5EXgSZ46nW2G2h0IruXZRBnJkNkt1f1gkApuQQvOWpucCU5htG6dQxKgr0t3cZ7Qi6D2gmgpJJce0HOk1dIXbAWDQblmzFN6MbacaNbYedSGCEe6DJ5fmNaLzaQ8qBfrHSC79wcXktdDbsp61UEe7e51mEtFp7danEAX859AR2NyoR6NZX7YvU1PMO1gmDbU/HK3jBPoaBhTS6lHEJPCsmJ8a+ymSjy1xZlIuL2DH+/73UXLKOcQXPvaBWeGSJ5HJn5XL5KWb8g7wtYQRjEAY3Utm1lnqvJR9FCVj8OMBoNxk3mZ2TjfVAjOF48G0LdWnpiMDrYmz3at6hzTPfHb8mLAsBS11zaG5HHWQfUMqZgXNrvO1gvynF5sfiV+ul6sx31zBIdXzt9GHtSLkDsAXMbt/cGdkfvAq6L28rrKzVFfhx6ayGMYDHfMOYYZn7TbsYhJfkh5GNW/C2GDQc6l9w0y4CHJ+rzgjXi3jCOSn44kWb0HsHRZAYvRCRi7qXjUqAdIpuBjigenQwYfMZxFRrlLsqULGfJ+43xk4nf14mo1P5JFbn4irRevy/fRixgclB7r53Bk5FJ5kHqyfx+8WtaHU5ivt/VPh5U8ugUfgfk6kQdlxwk/feu+im+iD3it2WO8na+8mBcZcCEd0HrxfVxtn3xPWi9el++jFz+V76kXH+f76MVX0XoxfBN9wOugEvmCH8nK1XTAL7N1mwvSevG6nJxc3Bkc4t4fudqxuenj0YZ6wSBudEai0aoneXI5EZO+PMbI0OgkuyeMvsmcsPzGkaY4DctYYAHVk99ors8P/I4z+cGEkDlG2PkIxOvxd6hCWLRy9ddfneohpurFDLRdhHhOMBKynucw7tphWRkerVDDYlyxFOZ849fWIAYndS6BN4yJJ1Vl3KM6+9JtJqW3bjMvrRevy8nJxVXtxe/NPTgBo6o0bZyDahm0DvoAyBOhEEFQRzEJ2bDVZOSJ2rM1BhAJGENCR6mRdTr4tdP9KUjlWDW/4MepnSngzFIAtaXUkBjma0kWPDiBSO1M5ymynueQ3DUUyqCjRqoCpj8sYO2YCqk57z2j09GcgF+b7yTfpS/dZlJ66zbz0nrxupzrxdUqIqY6640e6bO95ulSoRWhEH1QNROtg0FwIlEVKhK6K874XlKuxBkhkmLSBZJHVDCEkaH6z3FEsHgyYGeIOilwxMEJ1VPnYs0YBNiaieDUA5kUrdV/DpXcxljIQh1R11/iGZpcxvVhgfzxYGskbPc1QdbEOuPf0pduMym9dZt5ab14Xb5GLw5KAqEQqZGOkOQxSJXIRXSNelFPZVeIpAskj0TBAH6GHurfQloz1OKBUejO9+BfBjzTi3RJU2qu61adeqBOCmjKWh1BkmSoC3UE8UPOeIYm6k+1UuvPoAnbfU2QNRGa6pQrfek2k9Jbt5mX1ovX5VwvqoqqyKiXN61RDFz/UI1AjHkCmoA80Q3RB9tRqii5aa4lT3RSlVmBpq0QwZM8dTrbDLX7EaQyhnqG7ikSf/IwnGXEkGijlOfKGIPHVBY8OKEOAYPS2oUkiSHn3ZnWNyVksNQYUguTlIefJHGajXVOPEZS4QdtSZeBvnSbSemt28xL68Xrcq4Xubn5BsWKTg3hmjegSgcueJ25+H0UPWoIQFJUBTMYVZTQBTDoksypEFQneCKD6FsrT0xGB1uTJ8WcQE6DyW/8NqFKS1JPOgI2MRkui5aakwEP5Q0TAVdjd6ATyGYwxiPxxBgPjEUZdMQfI6xBb4Wlo4tjDNMkCQbdbfWxVrUE7uyigQ9eugyUJX0H1r8+/GxY6qNVar4hrRebeWm9eF3O9eJqNc334yv1oqJcaSsRvt+B1otz0XqxmZfWi9el9WIzKV+pF785rRfnovViMy+tF69Ln1zNpJxs3fxZdhShj+CflUP0IsEJy28N/YWi2IqxhIz/RwU6sfN/kxBnqF3ioQCozgr6zyZieEwk5PeaicEAPPX/eCAzDbUMkuwGZyBa9dz9PwxonqVP3WZeWi9elz65mkk52rrbX7aheKJ+ooQQRgq7Xb1YnUJHvtWRxii/tDGUXCRX4QUCyKZNF1vt6xBUO2i7bZJAZKRh0mIMU7bO9eGNVDuQ4JQXeExtjDLU2byPPnWbeWm9eF365Gom5Wjrqn6in6pcAxSPogclpFyjVUOb+KGLqKhQaVWZJUnE2bYvXWgNtlZlNuQEHnGuDwvEr/3fpsZ31FvNQP417ke9WEcM22CMGhY/bOts3kefus28tF68Ln1yNZNyvnVVaXwPAu6n6MWtUKvqbavDeMS5PiyQ34ESzPdWL/KtAVXqQR1RjoKJ5NHk1b+ts3kffeo289J68br0ydVMyt2tuyjDm+hBwEV+RXhF6mEYRgytCL4aFlROtCZGXbU0/qGrtnqxdgn0PdGL1DNou2TAbzC9MhCGTr7rXJbGlW0ZJ8EpKYsDdRmbj9CnbjMvrRevy1MnV26RkCuneTmsbV/PJxxtXTYk6kf0KJUkS4oSUhEq+4AFRxKpqOIEwzBu3d7UlUR+YWvgGfQi1C7+BJ3rRaDVeMMyKR4TnJhkyEyp4bwMIrfBR1OT/KTXGpp30HqxmZfWi9flI3px956rcK94127h+jlq+uZwa3qFP87dhdqFLnTUeEd3qbrkF6Mv3WZSeus289J68bp8RC/e5UQvXooP6sWP0Hqxab4bvXWbeWm9eF1OTi6khn8OBXqq7ql/QKYH9ACR+NeHpTsdAdv4P+/9wZ+e8z9P1BOOiiQ/Hv+UbcAyIJUbDDTpudVaqrWJb5Kb37DtItAUp2HE+wjY1bNbXi3GeBKChmXYsS5L/vSQGD3E1MXBXx8zhXnpS7eZlN66zby0XrwuRycX+iNqBp2hHopUigE3LbOoGWLUNwEPfbWJr/IIW4mDdonWATIkjLTa9B0yy1GRybktiUfDAo/WD2TTHqolYWLIcLIItWPKqJGpE6pfeNRDR7oTgJ3kfOO8xS3EzjqQvJYNdbhKapuXvnSbSemt28xL68XrcnRyoVSQFEEVEn3D99qwoBPj1rOAUql6UfUjJESvbNXMEGZOi6l+0R+GIiFKKwz5gY6r9eMEa9hRzDLsyrZjpp8uoOYLw/SZwnbFMosYQNia4o0hQIYVxl6jWy82zU+it24zL60Xr8uJXhykDFSpNOgSQIKs1hsRTFCFFDylF4WmQeWcFwlb/TTkhzpE+p6UUWO2i1A7ZvrpAnSJveUpvag+rtQAqStMU2zXX3tS+tJtJqW3bjMvrRevy9HJhZgYxBlE92BsxQqeSCVBncRThRSoV7aj1MxV30gUmGy7AxmqOANt2c2ZmExhqHZXL9ZSQ+2YavFkUDw12wDdTe7UTLVMYtSLQEBdDdiWREBdT5Nbw7Bu09GXbjMpvXWbeWm9eF1OTi7EB6pC1Bl4NABjbXuTNUoc0ZMMxusURIx6JTGgJ5kjdBBbegapB7X7tshBYMk2m4+Q4KFamlbr3iLUjuSPnqsxjOIjbMvTz9xpSrxhMUTZJ5lLSsrqYfBoR5uAeFfbgZbAyehLt5mU3rrNvLRevC59cjWT0lu3mZTeus28tF68Ln1yNZPSW7eZlN66zby0XrwufXI1k9Jbt5mU3rrNvOzoxaZpmqZpmqaprEJx/Z/+/eJlyLtvmrnordtMSm/dZl5aL16XPrmaSemt20xKb91mXlovXpc+uZpJ6a3bTEpv3WZeWi9elz65mknprdtMSm/dZl5aL16XV51cf57w35f7R/lnV5a/Cftlf2318Nd9P8uf3v568AdX9dnhyJm/zfuElPE+KInC1odPoC/dZlJ66zbz0nrxupycXPmXQh4RUtPpxUEzRS8y612V4z+msj7cgwwnAu68FTLQL6wXn615S1+6zaT01m3mpfXidTk6ueq/O5xfwp0wnV4ciF58Ca0XofVi0+zSW7eZl9aL1+Xo5OIu30oKdAYaQgYdQzB6y6boAJx6QA+gPvVETPgI+deWhe7xYDsi3TPQoPAYVz+kabcwH4FWPcTYJUb+dWZjqsbSD9tF0F/FUOZrWpp8BLrjXB9+LE+DhA5hAKQGOB9uq/KzPsQnT6YJekI81GAAbAeKRzJBDMCTcWF3EapnW1idcqUv3WZSeus289J68bqcnFwKAi944VGDO364xXlUHHDNby94mszDt2GBYBUDJL/QtKsXAUMRszSO1Kbzwkil3KGwVKhBU0aHTDkBA4ziQI5uWjxVYJmwOkMtrxbvrEMKXkbbGU4nEBkbDDMbfsfiMYNSAF20JWVgWLlJsLfBQhlJiFELALtr05RFYD2TDb823w56RF+6zaT01m3mpfXidbl7cnFtqzO4vDEqa8RCVTZpQhAYCWqsQQQoICpJAuRMcPLXDHVQwbMm2pNccVKMMaBquWnAH/Ui37RmLJKQCsN1MKZCa4Ijhmo9oLNKJVjbyi/SsDVSvMVIMu8Ol8nSqvASAvKYueBcky6kAMHD95AnY9Fa/UJrVoYwHrXJvIxwQ09dhPpOU9uw/lv60m0mpbduMy+tF6/LIyeXIoCbe9ATFZqiVNQEPGLopDtgVGUAxqwPG8iZ4OSvGeqgQJ2gnbTbwuieVuJVLakwhjCcwSQhlU4gBn+dS602aaszpBXI73A1/1D8bsFHw2WytJJcGwjIY8aqzi0OOuSpxVtYXS5a80gYjzo1YDsRIH/mMqwzTeky0JduMym9dZt5ab14XY5OLm79XOfc39rc3LnXB6pS8YLnMTc9rcqIKh0kybegFexFAKnMX7VFHRTIXON1bgujO854HJ2O9o0RzADpJQxXK19mdpsakUkbZwVPhmA6KaBWpeHQuwUn89FwWT0xjG9sYkxYnVtSBoZrvo1n3IwIPKZUDJv4thJakzNOwKBabfygLS7C+lDoS7eZlN66zby0XrwuJycXV7vk/kY0rK7Nn0XWS51WDTomOOKASJ2mVYJIpIZkOCKTn1RqFxiURFLhB501hiYNkhiJodKiPCuMQUdjUqc5M6kMEeIng2khecBKMi8eY1NJEvKogccu24JBz9Fwll0hzCaCMxa2Thi64NGo793Fr72yvJJSicnS6WHQjFsXgcc6QQOI1LOdiEx06WYp3o3vLqv3QSiGktaHnwTv/VXT2VJ/TBhl2KJfBq9stX6k9WIzL60Xr0ufXM2knGxd9NAiNXf+z0x/Ch/Xi0+JHrR4ZPcuv7Ze5KXX956lYz/4XzsDrNUn7RNGXK0f6VO3mZfWi9elT65mUo62LpogQuRcNn0ZH9eLR8pjl4vrxYGnpPZrab3Y/Hq0XrwufXI1k3K0dVFCWyGCYuDylsfVA3nIZq/8CqpmwNbYzZ9fc2KATvLofFzLGg/WkAxgACNSKgnx/I//8T9sAiJrYRmRYqIX6WhrPJky6CHex8yCVDrjuYsZwF/yWbNNd3Fq4vKqieM3rFae98UodomR6RjDo3NPd9Ly+CzblcTWGOhTt5mX1ovXpU+uZlJOtq4yIooBcnM/JVOIVA/RiwyqjRjag5H8iIYMlDw4I7Aor1Z4TvLXtHTXtrzIlKPfLxKsVotCIkwP0EoeU+mRWmftuDvEESbXNj+PmcjjUIkLSNnkyXRSodRZZOhMcBg3k6pFPst2JTGGlQx96jbz0nrxuvTJ1UzK3a3LFc6Fzc2ttqisEfeoAoJsqgq6x2mq3fxVxNBRlcP3GrGg8xEI1oi4Ef3UUzUQ9VQxVweNwMpcKrSm1OAyBidV5dFdKG/t/AaeoeZz6gpbXp1jrZmca9zbiuUlVgOWxhtZDQx6GfMsjhhcHAxbB/rUbeal9eJ16ZOrmZRHti4KAH3D5V31wePQK+rhXC9u8zu0dgRNdT5FlAcZLEP0U08tYNBSaYrIS5I6F0mpIROvJNUjMETqD0PN59Dd4VLeMEedfGtARsxLjAGWlF51goTB+vAw25WE7aylT91mXlovXpc+uZpJOdq6CLJc/1z82hEcT0F3JYXyIrLDnAwUQbDNT0xkR/JU51NkoJqBAtRMFFbTUkkeiU9MioxComnQrwRkLMkoFTxPrSf1OGIYaj6Hklx8xnUlGT1VkVkn304HT2bBKHlxGpIMWY0wrMAjkGpYSTjK06duMy+tF69Ln1xfz1M35efx7JX/PoZL+pyngk+2Lve0KCNAGSTRGXehHjLYK5JCLQLoA7517ubH0BNBA0kIg0w5geDVKhmyi7Y7ikcCVDDakDdOhgxtk+hxXqInEwEzJNWDUOHa/63sp34KUhLjupKMjm1rljejkDnJMdxUGvVNDauxet/WzWz2fQT7SjwaA33qNvPSevG6/BonF+d7Lo+jM/r7wA2Uy+wn8uyVL/TyNn2Q3NaP8FTwF2zdp+ppfjH46fikn9PWi828tF68Lr/eydV68UHepxefpfViMymf9/ZbLzbz0nrxupycXP8of+6mvuH0jBrD1gn1j3j0HEHkX//6V5SKwTmO65836SEM4sFIjP/dj5EC8gdSBoC9LFgci740gc5b51MyaMZKXww9xFiqMXz7iJ/HLCNYg0tnDES0HUU6oktnK9hrCFjS7JO+GHrodbdLpp9eGNTJuDj1ALYFZ3GcO1CeTUeYCuhbg3XCUZF96TaT0lu3mZfWi9fl6OTyFvfyRiJwkce5tK9KpRrA1c6tr70LAVEASAqDo/Z0KjUyqNDLGFqx6YJNd42aIRXCttpaAF0c6wjCag1AlwzE6NqWpBPokhiH06ZIbZcxldfCbnEHkRU8Lt1RwMBtTd9mSm3Gk8F1OILITJ9RGEun3Wmye4pJEyQ5YXY8ggB78Z1Rai+XYktfus2k9NZt5qX14nU5OrkiAoCbW92Akcs7Tq/5oPMINERNSzwGOsO+wqPOiA/Ar1EzRAYRaS+okUu+P9CZ7rXXLskfqo5JqiGsxuw2QV0lCsPzSCSPTgQcegg4guC124ID4WQKBuxSX0GC4ySJqxcPlawDLMRJkRi7OKP1oczaDAHPGlHoS7eZlN66zby0XrwuL9GLibxLlWvJhuCoUkmqWIGMWzPcFNbSkUi1C9RIK6zU7rXXLskfqvpJqiGsxuw2QS1MPfRIJLZrkqGHgCMIrospOMmzPuxRX0GC42RolzoLTiXbhE5kfdiQJGLw4DyiL91mUnrrNvPSevG6HJ1c3tl8YyMRIkpwRjforJF3oW8yII8UPeiP5A9VrEAEBH3tBdFYRBKvsxaTsULtXnvtsi2M+HQhj6OnDFH0aDtf7WRzxZxdnEeRtQBsp0MNzmIIOILyMuuAZ1icAUaxSEjw4IQsCEbsQHlZjV0IyFLk3cV5Ql+6zaT01m3m5bp68W9/+xtX1L/+9a/1+b//GxsP/vX50/j9998ZaH14e+R7W9KncnJyITKoBDAiSnad3vSyVQwVNAcKg44Gr95FaugBhQKeqhjwa5hBmxoAg8iMaypjCF5S3ogn3WuvI1JYJpvi0zdlCAFVIdFkPOihlRpAZ4J3IzMuZJ3tjmcIOCHDgcoPj8YRTDCvIMHVaT01SRYHnNewGlvobjyZGcVgvnXC0QR/mUuXOa7WMXXZ38fdF/FaqDY/IO/Gn4gHd/hEXEovLj/E9/9vrL8PL9m6d7l7/H5bntCLyqnw22+/rQ3fA0pCcq0PD7AVZ8zoC8Si464P//3f//znP3n8+9//jv199GLgmnnVkc1PCD8n60PTfIDPuHQ/uNXfd9Pw875ax3yqXnzhD3h4ZCmQg+enwUnNL4Qa6n/vfQHnW5dZ1y1Bed9ZbFHqie75Gu31Wr6m5hfqxRemeoSn9eJf/vIXbFXOF6irx6Gep/TiNwGlSOWs5/r8hbRebCal9eJTnGivn6UX7/LIyszIXb1YJew314vnMIsv1uIfp/XiOa/Ri7/99huPEMVmq878JhKD7ngMM4n4CzZYn9882xgFlnnAGlIA0MUYsWBIKke3PJy1CRKvrTNTOKeWwShZMb4Zzkcx4VBnLSmr5wR3Z3SE07EjHHX5jEu3ab6Ak63Lib/8lNzQwwXgY4SRtwKPcSKbjAEvDPx25M6rOXMFclLrobUGYNMaTwYNnO82mV9nLWDQdoSZE6wZLBIyEPXokSTETy9zpjvUGDBh9WTQOlM9gDNLgZF6gDAf8dsRal9IjP8ZmSFs1QaHSB7CDHBEPC5vLduZ7qYFe4GpeLSwRIIZKvoZi3ivZ+IzI+zc2VnhYb7hrl6kI92toY6Syp3yO0htqdZHiOcpSJg6846GVwZL7PhOgRk5KbobkF7UY7WZbE14tLbnJAOD6nF0yChkxpmFqs7q0Yb3rVs2TAYCm56CPGvnt+7xuKTArDNxnO4uyBr6CFmEE57Wi0H1BggjFZgByhRj8FTtopxSDxlsErURHg08shujclIAKcWW2NuIlgGEaRjsiOlFKjwmxHAUHhPviBiA4RR0nkCGqgJJa2YwgMcYOOuIVpiS6ohZW76hxp9AJbWY3fjWi82kHG1ddcP6sMBZmaOTQ1/bQ3O4knmsJyZ27pWQ/Bz3SSteKtq1tfqFDN4WnuNxagxlAN2tkJx00UmMNoYTGcBvL74z2UBOuw/DpTZnig3DTIW08ZPBXrKdMq11FEgMTRk0VUEWpGaj1QC+EwCxM53dtLVmoQnn+rBAZIaTLHvNiTMdsePUAMrYfS939SIZKMAaMgoFYC8ht5pjP05dRqkV1sV8nGSgHkty2yyNf7wsIDLLRYA29eDXCfitkF6JIW06CutTez3OMEdGsWbIkjIWYU4Kp/VUJ3x83Rgr+0QYKGv1FDVVCgb82i6mBWO4dLtrSJdhqbc8rReVXBgRZ9iV3QDtiBhQx1TQNHGqb05i+CZAgaWWwqh68Rb9Br0Aw14ScWZCDP3YwxSqvDuBgCrR6GVHswkBeMSEdfSUpEH3pdMNU4VUe0TSMnrWfKD1YjMpR1uX8y4nptTzlEPTU7KGcZ56UqdV6q0APPqjB3owSK4NQ04jpYYNJzWtfOM0MtgqpPUcr/4Mxzf+WirwWIMzF3rdsi9sZ00ZtdQ6bvUH/HTf3j11KZahbhzF1EGHjhpOMBiwvLT1ft1dvd20fDujEE9NYnDAk+UlJ5EaSRWn3YPOgUf0IgbdGTSjZAior+xx6EXOTM3HSub4OJRhr1penHlHPNaC4x9eBzVokIqE2gkG64R3TB/ISd/14WBJqSdLROvWSaQ1BCf7FBmazGuW8mvXp9hdecga1gWswYyoQasFQH0du7xTL0bZYMdZwfmIXtzVPcTQxBC7MTr5xq66CiMjkkE7GSC9JFMYRsF+n150CDG4rhhg8Bi/MXX0lKThvGQ7I/0nEOaI27cjrRebSflivUhw4vmB0gAy82j3IWfsAbrUUcw2OAdI5Tlehx5mSveagcprME14dPKNZ5n0OGvK8I6RjAt1poEA88DqWkhtZLOpjiKJqYPWSaV+R9EOy5irc3f1dtPynRlJPAxHF4xag2TRINsJI6nirJFHPKgXmR1pM0qGgO1iPg7ZKJJvkmSF3w1lON9aXpx5R0PB8Q+vI/WQioTaCcaj8ZHpA6OYfHdJqSdvn9atk8iPr5tDm4pvPJnms9RZZOUha1gz12BnwWOmM7yOXd6pF6uNjsFeQv4ADxCmilIb3dTim16sGQKPiiTCtLcxCiaVX9VVdNnqRfoSQA01FX2jydJkhVWNYTylFwk2Pgz1WwyGo2xHTEk6+bYX39sZYZ9j5Elw68VmUo62bj3+hLPScxM4ED336wWQ83S4CerhS7AxdBzyJxVGBtqWUaHJU5ucCYtzC/k9x8lvGUB5OsMwYgL4pom51AnSujvrlKGfb/1AniyaEEkeqGGQSAq2BsYibGlcSQxJsm51iFSFc+gLJLR+SdlhNy1d4hT8VpjJEpAaBI9jkTMDEWNYdSbyhAf1ojaZLa9WnqHfB6kskvwmfzdkyKLVsnVmIJ0Zq65hLQC/Bq2ZbJLgyVKQbWl8D9Rmd/Jsl5QhKMP6q1ND6lzeh8vFKJkyOZ3ms2RZIAUDfhPyncyOq+3QPGYx8dyd1zv1IiBfeNTGCFVs6YmKQvSANqiKRL9DyFFM1VIKLHrF9jG96MK3JcVpPRFntQmUcYBtpFXFf0QKEDIPK1ZnR2EmdGjLqCVF7dUwqDM6hxjj1+cNrRebSTnZuhyOyw/KDT2ckj5i6KkXwHCeEmYTx6jXBniyA06PVzLogYT56Jlby0h+SV/8ZgMObp2QOoV6co6vESXn+rwZJQnpTsJcgTrxJL7Oupbh1bI700D9Q7VAlyEbMZmp1JhkiBPopQEpG1wKiq/zrWWb7SgtzhqGPwnjT7Dk7dMELsuuE3SKnoHH9SKFkcTygFFMi6HnKTJB0JMpwPB2HoRebom6AnEur2h9R3WszCiLLzRp1HeXJDjtTtM7qt0tYLukNDGczoyCs26Jj69blou05sHjNJ+F2szgI/X4mIKX9fvjJz2vKV3qIrgyfB/N6wm9+BQMH5l4EZhypCEq7adP/67M/eX1Ij8z+bF5B/zMePA9Qv2x/DiU7Q/w+vzleCY+Pv2B4YQ9gVFW6xl++a07C7ljLkK9cd9Hb93mm8NFdnR6t158GcPvF1fvz8PfUKIa1+cNRyfXXa3AZvqCS+LZUdjlVWDV/0h9H5+nF5karA97sP6r9SVs3/gH78XWi1eAHfLFG/Wn03qx+bXhFjj5peln6cXm+/Pukwsp8A314sv5Wb9fPP+JnYLWi02zS2/dZl5aL16Xk5MrtzgGMohv8D+s0QE+gnKK/+b2MYIJuWMYHmIISC+TKInsqGdIMoySGiAiEmN1LdVWjZLuEV628lidWxjLjtRDmBMEnXD02wUqtPLdUgcSvK0qBYDdt3OhBsvDSTwBGbTaWWofgV5mgNX1NgqG/m0BwFhJezQpSKkYgIdgPeCUgcL0GK9TD2SaJ/Sl20xKb91mXlovXpfH9SIGF3/UBtd8REO1CVCjcOUrF0D9YQzfqoHqhN0k1Rloqhl0CsEOSsG1VG1aiacXNp5tZiG5TTUepwYMgwYGdaFCSt2S4N2qeExHwrZzUW+5Svqtio4YmW86BtLaK2OFzCuZzaZNR9eWx6NJkTBNiQ9m005aZhdn2Na2pS/dZlJ66zbz0nrxujyoFzWqiEEK5EbHSUzQj5N4A2pHIAbP4NxNUkeBte3t9080DYokHgSHcgQyUI1f1NoP2k4IJv/68DYLnRU8a0Sh5lzjjn9VluDdqsifjrtzwVO1YF0oa8aoSQhYC3oTahg2BT1HmZMWtn2FYOuHOi/63gZe4JEhUhjoBPoaA5nOEX3pNpPSW7eZl9aL1+VVejGCJlR5UTsCCfEMzt0kdRREzKClqiKReD5DL66uY5JzW+qWBO9WVTvuzgXPrqoDa8ZIME3bbNsZ6TnKnLRwtBoEWz9kXnxrQIZIPRBn0hKf6RzRl24zKb11m3n5Or3424K2/6+72uH3339PwLsZ/srDc+rfd/hl+Ncibv+aG5xf/P9R/hG9GGWw6IFVEIQqLzBIogKIdqnZYDcJnoyCiDEDHjtWhSHRKMRE9CyJb860AgGgPUDylEp+ZxHnCcm5LXVLgnerqouDZzuXI1UHdLTmJKHJYDzMiL6GDTPKYibGeLMlLSRygIQpG8NS+XZStG6HoEknj+mLZ6htS1+6zaT01v0CcuwAp5+nzUsgVT17H4FKUsz34egYh5M5/gS96F89jTFou9aLs+hF9hN+iJjwEbbywo7svxqg0wDZJqmjxCZPOvJDqBN4RGSoUSDDZd/X1pMf4AxEMH1TrU4Yyg7JuVvqQIJ3qxoWZzsXhogNZIjAomNqThKMZKCvrXrAvhhL7B/1g8GQtIBfY0tKzbwyEBnAMFp1Mt846zQtyVdg68A3vHTrgt8lL+KCDLv3HPbDav0qTK0X2eE5ah6ELjk6voYcPpKfNQwP2AGcj2/Ip3av3I71g+sGUt7L4WfnJPPJT9bJHH+CXgxPabsHab34OF9zcj11jzbNI7Re/LnU/0R56rqFp25cTsXVejXPlv0qptaL7+Dr9eLAa3/Wntq9ssjFn6AXzzn5yTqZ43N6kTGCHpQZKhCho1PtpSSSaKDoRbrgV9gFHk1i8JDQLvL35V8CHMiIDMF39KKPsCvFql7c/ScBU8ZWgDqiGRIQtcq3SRIAVm7HbWad2kPZNa3OpM1q+Ch6siZABp2V1ovNpLRe/LlUvfgsT924nF2r9atwvnXZQmgLD+2sMDYLHo821P3GkurMr9Zo1ZM88bj3tCF5VDY6SUhH7WSo+9Ym0OP+T21qxIyYIeJJnUISnOvDkryqzKSFk+FMIsmfmvE4kczRGJwa6Z5qQ+2S3Zv12cZDfSN0x5MkYCWJgaXTH57tKPFsoYAkN7POuoaQCVIS3zqJ0QlZxqOxntCLVXOQWqGjiFG1oHKib25Bb5IlrYBhF2IgeUAJhaEYMsmQ0L7alSS3rznpm+44FXAVgymy1jk4+TZ4wNY6KB4HAmNIqB87s97tiI1htduyNbYTvM15cRLAt6Q1eY74hpdu0zzCydbllORHALwkwEeIp8LRuT2RMXLsYqdjkqc1fcmTayPnMugZIGfOd+8SSHLQA0TqIb8eH8GqvDgN207QSEhtA/gzhVTiI6QXTd4xeDSE0elubRr67VXJfImhWp0Z+qg8mjTqrUYvnVmceILLknrSvQ5t2XlZ1nC3I2Tc7URq2C7npy4ZfAtWNTgBI0NkJX07OgV/NgPTYRaZ7xaCXUDfEcHYGC4IeTQgac2p0zpdqOTJWDWS7pkI/tiCx+QkcV5b0nQ0XMhEUjMxxltwwGn3RA7gTBdiQKcGJEOgpLTSd5gpfbdLCiRJHvzadQGPIMbgmnnbkUoci3oyoxgE27dObeAJvQjoD7KLoiQyyFblCxgjz+rFmkcUXmH1vmEehFRscy6xf5CBQuSaBn1xJpuGtvEVZZ9Nsevo4Ey1jWEiux2xMZR3GBWS1LRVg2bFYouRjg4GbGm92EzK0dbdHtz10ORnQaNCfD1hvVE4LjW0PWTryW5aIKf5k4fHJDw6eXHqN4POQCovmO1F6LjadjRDqj2C4XZjSOgQ5klySa96wQBdkg3DDBjbDMI6pPsy9dvc6+IkyUB6Ybj41oldu28xzGUkc7ozX42MSBI9crcjTjsCfbXreznnrl5crTJiddZqGZGYwSl0qdDqvFI5+E7Ft4nHiUPNSYCGTlNV8IDFADFEateVIVIDtm+cofXQ13oCGRwIzHw0HMYad6wXjblFL6QSCsCfWYcUBhnL4JAChMdMgUjQXqPLfyClPKhrlYEYmvj4d9ld5OoEEmZQMAznrZqCzmE64Qm9iKwhnaIKo4oSndF5MSKSsG9q8V160TBFlX31hxpQc8Y4whlRZJ1azQaOSEk+hl3ZV0eHWm2WYrcjNoajYAxl17S7epEMGNZfu9sRjB9ovdhMytHW5Xxkt+dw97GyPXZziwDHun3rcZ8DfU3xBk5icrCS2eMY5xqxUM/okJyQY7129IKpYbA7HdgdQsizhh5oyowOmfW2Fx5Yom7URcNw0WJsoW+achvhXMdYyEpW8POdLpLRj3pBXZZaWPrGaRlZ57sd64qlMFpJEv8JX6YXd4thCjTxTXzSZmq3d/ywXtQTUgwQ47JAXa7aq66tJO02OUmsMJl3h6P47bjWjJFpCqMYPFSCcyiAtAmoYw31V4jJWLc1fftx1qjF47Q8qGuVgYSmdNlSO6b46gQS1gyGDU4Zhq68Ry+qchQlSiKVSnReDLsc6UXs5IGonxqArehRVJHBmIEkd0RzJuERBjMdZ2SdmSaPeshm8opd6qB4LDUzort+bCeFsdsRG4OCMbZl17Q1ZyJTs8kz/fR1IgOtF5tJOd+6nNTseb45LjFW7wH1FuE09w6ox30OdFLV8xeIycFKkydvdR6RnOCxDsm/3C+HenF9eAPn9sQX+ia+TrPi6NoMR8xur5QkNRuGixZjC33TRH7XpzqPsJJ0kTq61dbapC5LLSx9h2rJ71h3O9YVGwqjKX2PuKsXnUt9CzGA1oxISZYXIxCzXRPBD+RPqeR3ajbpJAMx2ikgTvraJdR1q8uCM3lqVdsMQAAMc4EkoYkAjN3hSG5fPNTsa6IpfeuIyYBzGBF/XjGYTftW3zJWdW6hEsOAMGeNJ+uc4uMEykgl+LNWcjJcLThhwyyAJpeCzAmLM/CY4gee0ItAakHuKEqUQYgSbASKMkjVYhjfihVsW2sXbbC7BtgRFEYJ029MJSMSSQzf+nWKqSpVrmlL1NVQRsURrRnojrMKO0nlYBI7xm9HwFbhaQfia9pdvQi30IVM30hI2oHWi82k3N26HIiethya22upwgGdszvBObi9FTxPtyc4xzGtHsrJU51HkCpntMe6veJxoJQRUmGgo+NuYYg0kXx3HQhwCAvge7fXspx/zJ0ueSTADDG2uIzazB0G5xEJwHDFUqd+2B23LksNwHBG217E0+tuR4w4mUhdFrg7o7t6keR8g/PVqSEMaoDLKNSsM7X5KDxS5/rwlq3mcWq3d/w2HZzbAuJklewLLlddN2JSm+OmyS6QgSqUQVPGDfqBtGY+Gs4wwEMMHgwTsjLkqZU7a75dtO0ahrwUgjOWU5PtdJKNLrZShh4ypHhadfq4rcFHMIn1O7VAr3ho1ahOyVikSgGpCpxaXc+B5/RiE5R9UXsz8p31Imu7Wt+G7Y/fT4QfeI+PT4VTgyNmfXg7uarnZ3G0dVkTiwQ9Hq+SI7LCuZzLIGd0erEC4H0DOkVPRmRZkj/nMiRnpebMvkoZtObl0qrTPNvp4Nmdl5DKYIzdF0ffjJuAba/bbiv7LXcMoxNgbTF2qaOQVic5dULNH/Br1FvNpSPP+rynzuuy1MIweKzO7Qqfd4ShC/gIzoIk2Nuq4K5eXK1LwpvN4je7/Nwlar34Tn5tvcg5eDv8Dg7xF3J0sOJcrffCnfTa4vkp3b0AfgpM7bNfzTBEvTtZitydP4XzS/cpqg64IN9qV/8ynFzqrRdPePmh/evxc39gWy9el6OTqx52+U3AF/MNz81vdbMOYu4L+PoRT2i9+CpaL34GJ6v6wq3bNF9M68XrcnRycX1GLwaOPzScPH7BkMcuXsnczdEcGP6+ilY96FSD8ce5HZcwVCzoNAzsBWrc6ID4gb5L7H2SPwU/eLMyqAVoO8c6C5syWXhHVaRNYZmgYz1C8oDVMjvzkJaybQJH4Xt9XuqnS2pevW+veHde2QaPzJRgU0GdZqUv3WZSeus289J68bqcnFzqiXpV86iB9OFG1z6nqgrFVtVSeGxN5ugJ1UmcGhmXmERGT9TMQlNkh2xjjqh9MwunoPOEOgo2qTCGYpSPZnM6j2RmpslMFyfOtwZsp7xLrTDLy+wstWKd2nWgrAnG3XllER6EURKfbAN96TaT0lu3mZfWi9fl7smFGvDC9u6vrBGnrKFvqDAwSAiKPz180xoPxHnrWdAZuRMtspVK8TDW2vntd2l3oZK1w4J5PqIXMZKn+oV4F+ccwpIh6g2nRYrOc0hiha6MzmF2dQX0ZERIwWmV3Xk5SvWfk6pS55a+dJtJ6a3bzEvrxevyyMnFNY9K4NavYu5BuPW3AsuEokdxMAyx6xSckRERKHxHS0k8ZNCoHc+hC8Hrwxs4t9PZUlVOyhNs12Twq6vWh2MIcyKQBazOB1GQSfrW2VFbyiNGIyNCCk6rnMyLpjrcOU6KVEfxfek2k9Jbt5mX1ovX5ejkQhbkno7Y4rJ/RNNUuPWjMAJJyFnVSTRHhqDX1hl4JLO2qgKDLnFK1AZjmQHPEHMEkbA+vFFrPoGxUjxdhjwUQICKzWw1/pw6R7q4ttuJ34Uu9q3U2VGzASxgaqu9nAUGvbJV4HxeNcM55GSIk2XpS7eZlN66zby8Uy/6t1v7t0afU/9O6eZbcXJy8cokcsfrXx4XKGuHhdW1iIyaIU2qE0BVEKNzOy6edKdLKlRhJAy/UiZp8dv0CBRgL1AAVUV1DqPYkYlYXjwpIFXBg2khVdE92ivJQRl3Tl1SsEudHYZNOEHnTett9GIiYVhtMCG91udj/beF4LzZLd/q0s1qzALvJa/1srDBXvXWntoAv5JezBn7lTDi9mTYdTYvp/XidfmVTq7mcbjecsoj5r7nOYugObmDX75165XPgjy1Jl+vFz8o+D7S/XxxvkaJvmOUQR0yhRcKne+gFz+48u/TW69dxgpzOcq8W+r76m+epfXidWm9eE242/iRDKv3O8Hpf375fapefJZL6cVzvq1e/FRaL34lrRd/Is/pxfyrx/7DyurF/CPL4L8KXZ0aOlWZsv03mqf+t1JmpPViMyknW5dbM38C7mXGVeojcLUbxu0CesBWoOn25+6bP+v3NiJ5lAE2mTGI0YnHYFhC1mssHiJTG0aazAPk0QN6zGBmvvHU6VjVttc50Ra7K3POsja3xXmksOrBxkOpDGQvPISRx4AUgBPiGWa3HWV9+PHfe3QIsFoeLQD0g00wvBeddzGezHR3A0DGde9tOT91sxqgx6WAzO6RlcdvR6ZTc9Yp66G1BmDTGk8GrTg0MITxkITDAvJoSUCw79RISH6aLBh4zJJmLFgCf5j+4NRmRJscq3oS07yPJ/Ri/Rfwql6sGvH333/HyG8fabq9pUUvIhB1Yqs7adWZDM1X0nqxmZSTrct54o2lztAZuGa8h7xydELuJ6C7GfgeLph011aC1L5CLzNwjVFDlAqRDmptJs8ohKUkArztagY8PGLUyN1e59QuAc8wi11uS7OZ2m5hkPWP34lnoPoWMExSnbuz260fUkbWPxBvqRkFqESbjsmcms8h3iHqjHBmahlx4GTrbkdnCAsDJqVNzYSZHI9T4LGuCbabqpL8WclAksTX1uoXHvWYzdHxaAB9swiAncJSbYiH70xKf00CDLHdeEstt2JwDgYQbxdn3XycJ/SiKlBtF0WInV86gnqRb7TjrU/582jDdCo9EYsa2jY1X0brxWZSzvXiai23prcOV4jnDMTjRSX1fso1s720klDbSyth3mRihnp7QU1IjAYe/Bi1O3jL7t5/jJs7eLfXObX7dmXOSQ13CyPbmvcNnU5W6lsggwmrc3d2dRSg49r8Jl9o9dUEPduOgFHfy7bvLoyVsHS3hrC7nidbty6p1MJSfA3LFIapDbPgca3pbddh1Bcx5DRSahiQKiXlTdX8oDOkC0166hAG1wIgE8e/xu39TBFD8urke41e0Ek27FuH5mN8VC/W3xrm94uP60UfjSHAx+ZraL3YTMpTepG7xEsFcg9xkeDXCfHD7QbeyAjJzaftlWwYNkPrSYZ6t0FNmDrx4McgWKNSMyRtFQe7vc5Jd/puV+ac1HC3MLLFDpms1LdABhNW5+7shlGykulIqy8i6KkdIWXXuW/77pJ3DelenUd8vV4kOPFZK3Dp7D7kjL2FzCmJsCx4nFtMmCEc16ZkqAWAE2cKWdLbPDelEjOsCd+GbSHVdi81T/GEXlTkoRSx8+fR0Yv+0bN6MWpSJ+CsyjLakUg9dLRv82W0Xmwm5VwvemHkWuIu8Z7w+vFiy0UlBORxuZhuGYgBnUKYTQSTypus3m1L1O36TFjNYKR2gvHU8swZaoalrlvaOtZur3MIzi1bh05tJ6SGu4XBNmcmK2SwEsAgp04N2J1dHYWEyYDTjgxhPYEYk2QUSHn1vSTynAxBx5pnGHfLydY11fqwQLYsF8sCGI+sfJ0FwcbQccifVBgZaFtG5VbE0sURXcw4dzEyi8z39pWlEjG4TooudRbOLuOmO0aSD9DlqKl5kCf0IuSPnqMIcaodIb9frE4jdaY72BfW5/6/YvxyPkMv8kOec+fkR7e5OMs1d+dmPeFcL3JzeKR4PwH7UE8uLWLYn7aClxBg19rS0duIvnmkyUur5rQVjxlyjUkigTANPPVHxgxgx5qhFkaXGmMXqMMdUS/O7cqckxoeKSzLBc6xThYIAwPsopPk2rA7uzqKNmCkox6wsLwsvteG8semdMzcE3lO8tCXMtJdp+gZOD91qXbt/Na9zk7PIytfZ5FScQKeuqQJ89E1qWUkf9BPKpqyhjzqh+0CUptDS52UGeqkAL9LijORVkJkykvO2j1dAH+mD45F91pM8zjP6cXmV+Kz9SI/nxr8cOYEyY/97JxMJBN/irpKvzws3Ue2wbleXK3m28PV7hV+HT7j1G2ar6H14nX5bL0YLqWEoPXiXVovNtB6sWkmovXidTk6ueov8CP+ONm54HXmN/+06gG1TvQij/7On28DfKw3hH7Qsz78+KcMerYa9N2kHvVKnWwKY7hMNrKGyqsnExmK1Iasw/r84xKBTjwwrBL4CP65TPWY5+OkctCTOdZXgNPy4vw4rOF2YZOfKQ+egb50m0nprdvMS+vF6/LIycWFrV5RNOjkIh8kC3c/ARhbvQgYiSdMmUWYxpY01Y4vgdEjU4S5OEEGin1Tc0XtaWQ6kolsi7SLxE4GxVBWNfXUPNU2w01e/Vj5ByF/rRPI76yBwrSZI2EWg+folT1LprM7KN+uzxF96TaT0lu3mZfWi9fl5OTi5kYlSJRNtEKuc6WPEKDHKz/yCKr6SR666AlIB1OBMZaRvh+nVgKpVlJb1SvpggE6IcHbInnUqOsjOjMoGeiunYH4XqPfwGMqNdZLqENLnTUjOtkadpN4LyogqXYHpYnJxr+lL91mUnrrNvPSevG6HJ1cSIQIo1znkUfVmUs9qoJHxVDufogSguShrx6hYzx1LKB7Un2QWgmkWsm4VcTULhgU6UxPisxESBJnqINm3YBIB3IUnQN3hdTj1KGlzpoarLyGLRrvK/Si0HS0Dn3pNpPSW7eZl9aL1+VELypoFC5e51Ue5Y6nVYmDR1WBP31z92NEEyQPziQEAhJP2toER7rhWahtUDyZoJPNdFIwVemUTLAuiKTI5NFOKkkGIEPUWF2lYXEq23HfB2OlYGFlUhijWFitcNF4L9aLfG8HDcPih750m0nprdvMS+vF63JycnFPIyYgyomLPDIlTi77hHnTRwxxzZPkFv0W5mPyEGBf0ENHHzH0+Ahqi5ewZnzLqWwSJwWZIChZtmGZyOrd/H/GuA61YzwaQAbXDeoq1cXJutXHl+CIoofCfDyqELQ/SE21HZQ56snQA6+6dOsu/VYw9+zAL6C+5e8PO4f18cVhZ9tMQevFZl5aL16XPrmaSfm5erFqFISLxkegBv/bQ5Bu9fELeK1efEe22389PPyfIiwXLw7j5PV9seB+nD51m3lpvXhd+uRqJuXn6sXKS/TiT2cuvTj1mvep28xL68Xr0idXMyknWxexgp4QHlEh60P5P4pNDLJGvYhw1APbP99MEmVQ9JBOsAuGv/fSjiFVmBKv0zw85pdh+iH6idYUsCuqbIKaJF22v2bDYxPo2VV4Q5HgI6QMmjKQYXX9XfB4sgLYVkWXmgH0V8/S4w9W71IDwa589fsKGEujTlbPSfIvoE/dZl5aL16XPrmaSTnausq+9eFH0A1VGiodECtVxgkeVUsYclZ1VZuSVlsjoGzUT+iVdJfoRYY2BsigTStg7M4uwgjSisEoGGSwbyA4U47eqjOSbZG7tdUFxGklNVuGgPgx6JU3AgxnwWCrNs7YIdNM8tpd6GUxqUruJv9s+tRt5qX14nXpk6uZlKOtW5VKQDGI4oCYKJgqnui4xm1+J0c8zvXhx1GqHzvSJH5ECbbQEQ/Ztvnx1GJgkUA3DVTjCajqB3tN/YatGAkYJBE1GClZk2HdhiKPaqOXk4J0qdkIW0daIEY/Bo8ZIgmh5gTCVuuNeOhuQgycyQAuVALC3eSfTZ+6zby0XrwufXI1k/K4XkQuKCOieIiJhqjO6CFao2MqaAs71lGq4MAmYWy+1TF6olS2+fUcabIarwzSBuxaQIhzyAl1+qHOSIYij2qr8itdajbChsxCMEWmbxJCzQnbCcbDcHUuZKDJGlyoIQDuJv9s+tRt5qX14nXpk6uZlKOtiz4YFAByQX2AmFDxqLH4xkY96CRGYWGrmmMgmongaKCkAlozlmWQxy6Ax1b6prswdFSOMZAy0goEZDipXYKjQ2oOTnBIUmck2yJ3ayMmztSJx8UEPCkmGFCbWLEMR2tqxp9UIb3IMLSmHhdqO9m7yT+bPnWbeWm9eF1efnJxFg93DGzP9K9kt6RPhUsI1ofmczjZuiw+EkF4VJQAm7AKBZ1VPWDoJJJeOkHNIWqRuqkw8LvD8RtmfgNo0olhd8hY5smI27FqK9Cxqh+oXTIXbA1a4wypEyygzigMRe7WRtNunTWsvhFs8zgLutMLI8nNgN/HbfGAX4Ngu2/jMRyiTjaD+phgY7Q/m9aLzby0XrwurRd3Id577n1wI8L60HwOfek2k9Jbt5mX1ovXpfXiLq0Xvz996TaT0lu3mZfWi9fl5OT685//jOjxT20inrDRUvFoQ/1jHZw86tdZ9WJyxkN8nNX2j6Xyp1SwTUK8HmF0mobRLUlDPxBm63aaBPsIw59eZbgMAXqA8vQQlvzpmyViXoOneQd96TaT0lu3mZfWi9fl5ORC0Ch61DeDEzCq5tNWk0VmAUb0YqQb0N1UeMyvNExkkgcEliIy9Qzsjl4HFQfSJqetZI6Aw0Mv7dQJ1S94bOU7BZN86yRSm29n0XyEvnSbSemt28xL68Xrcq4XV+tAqFXdgwJTbFVxFgWGoVSiiQzBSL4jwohX7SUh1F6OSDZsWyu7o1cnHvNAPI4IcdaSHCsoBGldn988hKULnji3S0QTveJv3kdfus2k9NZt5qX14nX5er2okKpUcRb1VhNqQB0RKMa0YXf0OPlOayaSESFOwlISQ8QW4om016IMn9OLQlNdzOZZ+tJtJqW3bjMvrRevy7leVPSgeKJsqsShNXItUgzNFC0VZ/QirVUzCTFRWlFvUVc02RcPmateHBQY7I6OU4NvZ2QYBmREiDORUKcpVqJNdyNrGK1b562aN7UqdejmWfrSbSalt24zL60Xr8u5XkTf8A1RadgaghgyIKoIKYZI0hkxF70IyQkE69GASCi+0x3DeJKQSrkm6Sg8Jn+668RIR5rSihHRRpMGoxhpU6YJLkVGoUlpCKTSyYhxpm9WIGFW5VipoXmQvnSbSemt28xL68Xrcq4XV2seIg2bX56+dJtJ6a3bzEvrxevSerGZlL50m0nprdvMS+vF69InVzMpvXWbSemt28zLjl5smqZpmqZpmsoqFNf/6d8vXoa8+6aZi966zaT01m3mpfXidemTq5mU3rrNpPTWbeal9eJ16ZOrmZTeus2k9NZt5qX14nXpk6uZlN66zaT01m3mpfXidfmeJ1f9O7TDrvObM2PN8v3/ZqK+dI/gxfH61odp8S/nXx++Hx9Z5N66zby0XrwuJycXB+LtHyF5+6ftXggJz3NeUy/Wfyrmp/PZehEpkH/w5n38lK37Qj6+AkdcUC8yZVgfvoSPLHLrxWZeWi9el6OTi5MaraP98lttkYutF7818+rFT926L6T14jlP6cWvp/Vic01aL16Xo5OLozCXbkD6+GsbOJFBdDQm52k8XAAoRW3gkZj1ofw2iPiEVaeD7paR+JTNfaNnN+3JWc9NYEyu89QfCYWRVHGCHjB/asaTUrE1UqHB9QbajshwGbHqjO00h7Rb8BsAehjFx6weMTgtI05IZApjOJ16kjy9tpXz3n0Ey66epdMfnjp65eVbl/pTfFYYJ8TzSJ3vWIFaXh06vbB1Dhx1pAaMOgrwiD9h2KbFjxMMS6uPQBk6E2P+LSk4c3f1qsdxeaxOSHKr4pHCMIjR0Pb1Ja218a1Rm+6OmEhHrJ5kO4JIFyFdIHWuzwebrfViMy+tF6/Lycnl8V3PTR41OATrsVvJKQ8e7h7WemQ528fj2JtPm4520emZazaMbRmMONST0xzqxWPabXygF/HrwwKPqZZe2uRJhlRIZAYVYlKzhjbf1DAMlJp3R+Q7E8fpjLbT3KYdoIzkETKnCwm1SbudF5Fwi/uxWrtAHZ1WYjDosq28RjJKFjN+vo084uVbl2rThOHsqvOROuu8Hl+BSgLq0HkXJ9SOFh/P7bUtq4F/Wx4x5E9fIwPjWjwBuwUHAlKwkCpdyKzNuJkOHksl0mICTZaUWWjTEbYDgcbjI9oFiMS5TXuCXdaHBR4drmbepfViMy+tF6/L3ZOLE9CjliMbo7JG/Mja9ga96ItRL4PhPOWMNhji8XCHnO86d8sYEkLNCTWDATg1BrbXQI2kyYnUMCr0PtvmzIg0bYfG8IKR5Nwdsc4xkbvTxKhpB5IwpH6gSHJi1LAMTaQDSZzpjmdtW7CMpfdYOV1SJJ61w4IFmCqZt7x866Y2YHSnX52P1OljeHAFAP/ap0i3DE3k0VKcdKTCeCwAf112/Bi1kjih7i49GLXmgTpNqWXf3VrDBOPJLLT9OcIAnbCb5x2beUh7AglJi8Eoa4q3xaEAbBPu0nqxmZfWi9flkZOLk5Gzj0PwkZOUg9IDfYCzlSZP2NuB/XaYkhy0CdBgoCThCLaXzt0yakIhJtdGqGkz1gDFOFyokTRZbQ3LFbXNmRFp2h26Xi3JuTtinWMid6cJNe1AEoanrljHrdTuhA3JId0hldOFjjrxxB7AX1ej8vKtm9qAXk6kOh+pMx0rt/nfW4FUiNP1rEPHOXDeEYOqIDH466CWOlSik28NcGpCMI+ZTqVOU2rZd7fWMMF46JUm7PwcYVCJqXbzvGMzQ017AgF2ZwgNxiXn0niDUcgzTEpaLzbz0nrxuhydXBx2OUxzIB4dfxVOTI/jLbdzemniO8cxhk6GIL9ORjTAs9sbIlfFtgz6ejEEupuhkgyQsQYoph76UGeUpSB51ocA60lryIhpItUwNH5LTc7dEfHEmUgM0DmQtAOUOhRA2kw5CWv3DF0jQ6YP2+SQ7kBOKyeSqemsb3lL1nDg5VuX2lJSOqZgeKTO960AHhfWISy1Dl0XuXLecVtJLY/RidSZ10pHnXxbM54hT2IG8GdGQoZkpou9avdlYW6jpDVkyhjGWEld/1SePHw/OGKNHKgLcgQJSYvBlK0Tz9ArMQOtF5t5+Zl68Z///CdHwN/+9rf1+R5EEv+vf/1rfW4+xsnJxTpLjlqOxdV1+sdSa8QCj5zL68PbrePdBiSMzbGbywYjvXLg4vSq2C2DIvXUJHrAjskAODW2kNNeSe4jeNNAvQkI88LIXCB3iSPyqN95VQ8YU3OuDWVEjNg1cpjmNu0W8qwRb4uwnTJ58t7r0IkEZ53pS01ur6X3YeU21bIdN/NKGQMv37oEgzHpiJGC4ZE6mZEecHa3+d9bgeTJetbIYZErJx3x2ASZdZyMa830SisddWYzkx9s0gNHW4u+BtgFMtx2CFgWZl0ZuhhpK/FOh+/4iWHoeMCYmufxERMJ5NmmpWMmMkBCWjGyLGRzRJr0HPVtvdjMy9N68ffff/fn4bfffltd76X14s+lT65mUl6+daMAfg1QPFWvcGweibzmCJRlhOYL6VO3mZfn9KJiUfvvf//741Jvl2f1YvNa+uRqJqX14l3q78/yS7XmQZDXR78g/CB96jbz8oRePJJ3CEdPJUgr9l/+8hed+U3kv/71r+qpCTGIH5x836Lf4n0kAHs7qMkzKNIWZ/xiJJBw8PxKDG8K27Ud6JOrmZTeus2k9NZt5uUJvVjlWlCaoN6wawAGDAGoNGUcj1BlDcZWL8aQ5DfGnHGqC1WWNOnExjBJnBq/9p9rsw7bpRjok6uZlN66zaT01m3m5aN6UafaS8WmOMNQGsZZW4VUNX6rF1E82PlNIU4eCdAYBtWoSZBKGpXqxF4Sfy6OVcmMPo/IRBZE4bilT65mUnrrNpPSW7eZlyf0ohJEJRd2pRt2VNGg52p3dVvit3oRHBSwcWIQoDEMqrGrF3d1IeUl/pfE2Z3MsU+uZlJ66zaT0lu3mZcn9CL4Cz9tdVsVZFXGYQx6sTrpFTFnE5ltUuKo/xQ6SkYezU8vOw6DAoZdagCGmQNdCMDAPzT9SriS4GS39MnVTEpv3WZSeus28/KcXgQlI+RPOVVsokQDbKWYMo4YbGUc2NdHmxSFEL2IM4rHRwdS/WiLgx7pxQwqeGB9eFO3vyROPK9py8tPrvxtZOvzi/jrwvrwDP/5wF+9K1T+viHeze7/A+bn/X9lfj3ni7/8RXjv/3/a/YxL9+X79uU8vp9fzgff1y8GZ8W7/7/pWy8+xU/feD+9gG/F03qxmYWq1Hd5+cnFZeZfdfsRFnH4h3T7yB3ZevEn0nrx5VxKL/I6Pn6YfBKcFZ+kF/nxr/uQ1/3ugb4JHzzTvn7jDTxVAC/rlznAd2m9+Mvib2dPfoH68kuXHxVOh/XhG9B68SfSevHlXEovfmc+VS/yirPUrRd/+sb76QV8K1ovXpeTk4ubietT9Kio+MnHs/vzbxMQRvfE5JLz4KDVsChLfhr12KX+fCY42e6WAUlIZO5XOurc7WVa7XQHPZS6Pu9JChImeSrHafF6EgBOfFgNVinOW/+9gkkFOr1ItDEMIFIP6Ml7TJJQryWMTD8YYHcDtPPitpOCdCH+ZPEJA+1kTutJ2XKydWtVPDJKppZB+V4jyuphazAXm8B5VY8xd6ldgFF2fygyU0idNLkmelItj+e9Euk0HyS9Uh6p9DgcEJOwOCGRtOohicXr2fa6JdpLRUedtPro4uuElPcIdYnMk0EhMRQA1fkITNBt40yFbLauz+WHonJXL7qB7Utt2Z8Za7sOmWyaTFI9gXXYtuI0v566e62kepYeP6ywHtKShAx4tnlowrM+/Dg06GS+OoOtGsZA1sSxIIsvdVybMmXIjOieVdUJGcgKl/HXApxCdQ4rz2Om8PiI29cRz3ZBfi6tF6/L0cnlttbOD4A72C1eT7EKvQyg1zYDTWSwY372aqTkR5Hv/LQQ/GAZJCRAmwB7pQagS37sQ5wYqYcCtGnaDhSIsa8TtLY4oZZEHu26GhkUp8ZuwdST/BiJ1KgQ7xqShACdA6TNEGTYhtGaIRguNWjovMWVSVUn3c2PUwPqXKyQ77TSpM33tp7KydZNAUJ+R9QGbWGUrF46xsjrIAOV63wQpmCXTLmOVdckMK4vl6a0Erld0sq213YRTqhVCdVaMJBQm3VLTuLphUFTloVInbSme+YOWfyjVLYGmpxXYIjH30KWReiYaTKQtmt7VMAJdeLCo4tPkvM8d/Ui9ZAfeMyUyWl+oCm28OgsBDsBdDdVIFXWnzCrrU6IzRq6ViSpU44fMhwBWXY8xtfISgLq0E5fW2iF9WGBABNupxaGPNgZwiIxKAwjNZgqyUMKSEx1MothIJfiqRHtApkRNbiM343Wi9fl6ORyf4ftD2d+Wgayy+tPXX4e6sER5zZVPPVHMX3vloEnAXWUdTIL+fkMScs3tk4gmG8XpPormTWQ2bDqXMr8o06bIKsB5K/O3YJrnro4BGhYpxjJN3YiB2hiRFprJWF3iLqkDiFOCs+Di7/0vnWvowzTj3/LydZNAUKqeJYx15otBjJ3bL4ZVH/Aeb4BdmFexqcAMmesLA5gOBCwAnoy93SHx3v5OrTPWZbkj/cItW9GrGHU49SIXCtYiDPdiVzbFpzIUaqh4HgIXvs//ArqQkkGElLxXcNotbxHSDYqtDAwFTmxM8Etj+hFDJKQnJwOhKEf8BOmLS5RAuqKwbAUtII2yW2tTqdQwUkkhsXkMVgPzqxhEg7V4lz7vGVLJAyvCWrr2u1tOBd/+9Z21ydJgFZiahhT3q6DxMP3dnZ8U0NW/ijP+YjLnFZ0MhA28UvsN6L14nU5uXTdtZXds2DAnwoMfhi2PxhHPy1DqngIIExn+t4tA08C6ihx7pK0fNcDix/a1Tr+Gc6sgeHsXp1LmWdnB5g5zt2Ca566OBZJ35RXI4HgOpHAEEbC6ipsh4CjF+ek8KTs88Vfet+611EyfTkqGz6oF8msUUd0LIqpNVTIkxW+C/kJFj01c10cDXANMeqaELC7pOe94rwLqWB9WKh964gJo55s8owYancih+RwlGooWA/5s4AJvkvKDkNfc9aw7c45oZatMYzIBBliuzjwoF4kAwnB/BjJxrIQpl0hxnnR92Qut9V/W3+S02twMtBufiAtQ1BAOlZwZtwkrNWSefs2E1mdIa0MpzFMn3hy1l7b9UkSoZWYGkZh23WQePjezk6y8kd5zkdM2gGCE/9NaL14XY5OLra1h8L6vLB7Fgywue1VM/BT4Q8Gj9n9+Wkh7fAjkeR8GwMM7eh3y6hH0jLyLUN17pK0tZ5agPBIqvXhDeLtW2edpYA6evIbzOPg1NgtuM63VmKkCfWQJJFS6wlkwL/bBNshAM92SVN/dRK2jQyZC9+Gwe0dv71cOartaOtux6ovlCYHZURXnsfaGoM82gN0PGoa2FbuC9J5W5pl1hTglK08rRmlzujxXkfrtqWujywvYX0L5HTF+NYAWl29Ghnq0NvksJsqAwXzMKNkYKYG34WOWRaplTCQy0hyDSBgO5cjUjY5XXM8SSWJGXhQL2pnyqkZyAzaA3Rx0bJntpAqrVl2vjWEgJQxQBeatisMdQ2T0EiddMxbwJmpGQl0HxYtrYyb+CSRxISh/rogJLE7hSUPAS5vWkOS1yayDSPS5Mqb5/ERa+SWk6afwuv14u/Lv5uyPjwA8Sd/R2DzeZycXGxxXqJ4BODZngUD/sxoE2x3Iv3B2P1pgUTaWpMTY1OCHykjCQlORyJ1wrZXTTvUA9syKoTVEePMUkAdXQ+tZEtmg+sSbQvmWwPoyBpqE6CRMmg1kmx6MrsBAgheH35kd4j64hjC5KAH6lLsRloY3xpAmE2Jv1v2ydYlrX1BT7JlUM9oYMQsOI8aaQVL2lZ4l6wDZIg4KSOp9AAetwFGVh52l1QP7PZiRJ2PkPypMyuW9c/SAc66z40ERxyGTnKw11GqNehthyQP89KPkeC7EGkvMM92mnUzE5/J3iVlZxTymGo7ysDjetHkDgTkN7MDVehlU6bAGuqBrLbwmCKTCmcNe+RHIHMHx8VTC0hC+9pU8zi1GklM5itpTUl0dG3x64El9g9q/a7nNphdsbsTsjgZBWzKOsc5rHzNQ4BNoOdoxBpp2vXh7dGlXmJ/Mq0Xr8v5ydU8CEdAvSDnIqf2XHzzrct+qOc7O8RLq2l++tZFgqhCmuZZfr5ebH4WrRdfwrx6ERHzTf6z9Vm+/9bNbynA3z00DbRebOblOb3429s/Bph/NcRHyO8Ioxf9J/v8+6KriMy/8ue/17fbBP67f/6jdvH7z/3FL/XfAxT7Nue0XmwmpbduMym9dZt5eUIv+k88138vBI2I2sNQqynmzvWiSdRz9j2PVxcamQDAUCbGyej959pP0SdXMym9dZtJ6a3bzMsTejG/0qu/z0Ou2YqkU66d6z9/U4gR0pQMEFnpoI4Sp0YFp8OBIzZ36ZOrmZTeus2k9NZt5uUJvSjKO2TfT9eLGAZX8AMB63NzTJ9czaT01m0mpbduMy9P6EVEmxINYQcYyDuNqh3xYGNE1dmqUxFpnvM/v1Y7Eolz0IsmtHuwEkh8c06fXM2k9NZtJqW3bjMvT+hFQIqJqi5CECLXov8AzWdr/bWiAeBvAWt8msAhdvVibKnKMo/NXfrkaialt24zKb11m3l5Ti82vxJPnVzbv0n1HaDmV+uUl4zV/ML0pfsOzn+sXvXXQtW/iPjdPHgCvGSsL6a3bjMvrRevS+vFZlIe37rIIPfSS/7aOVKRcH2YjdaL34HWi828tF68Lq0Xm0l5x6X7Er04Na0XvwOtF5t5ab14XY5OLv81M8lxzAnOdTs4gWtGJwF6MCBhnOkJ4NsYPVB/W1NT5bYgic4MStPgaa7GyaWbXcTG45FNgpGtCzyyhep2Yr9prBHln9zN7gV+Lnjc7kNQafHN6O7zOGtkdns8wx7GY9lAE2Ha4NBgx/yQWrzUn6DVde/HKjMlLLOwCRKfSQ2aO3nA7ts6jcyUIQMxqJHOeltqxoWsTN4mrXTXuc0P63Px/HRaLzbz0nrxujxycnGCe0xzNGPH6WnOYV3vG+0aCRzWZvCU1xnIkIsBMDjZCRucQKQ2yb/P6d/8FI62LtsmG0bYNtl+7k8grOqMoYs7UHuQGqSyI0ZiyKBdty5jmTZdIGMd7WFaLbLWII5ochJimyEGzkyw/jA6Yq0NjwbQy/VJSYTpsQs2Rv2J3qXONxlwPrhcsFQ6lhp43KbCc5Kf0UHn96H1YjMvrRevy8nJxcHNmSse/XhygnMKe7LTqgdo1Vkj6VtvmsSTYcl9w2DCHAiSIXcY0OrdQCu94m8uyNHWVWq4D4U9475axMMdvch+W7bkDR6z5UI8NRu4USG7vUauGRd0Hu1hepmBXnUWUItZBl9Hx0kTBgn1QCZFNlsBT36sllpW6s9aHQVqF9BZIX7N8rbsNQMJ8WPUgsGxoObE3pZqBjEteRwIMtZufmur/u9A68VmXlovXpejk4uTOud4bqOc4MAR7JHNcawHaNVZI+lbrwTjPcf1JHj3tvDc10lrvclogvWhuRjnly6bhw3mFsoGXhTFKh1oyl7Czr7VgGzUuuUgnpoN3KiQPVkjk3Zg2cLjHsZjX8sOtZg6eiJ3fxjNphOPa1KdASf111EgXYBWhhjmgsdUGbFmsAtGLRgcCzBW13GpGklLntRQndv82vhT5Heg9WIzL60Xr8uJXvQU5szNUcsZncM9hzhhOabjzFkvyeDBjcFjUuFJL8Bw0MEJdSwxW3NB7l66bBV3C9sm2y97CU82D1tRP992Ye/Z6laM8gA6+qNRMxDvfiYyG3s3csu2iRromDwhCeE2t7efhUwQI066P/hjFejiTAkz4cn0QwLwm9P5moF6jNeJAbvLBanKcS2VAFPRtE2F5yR/oK/ZvgOtF5t5ab14XU5OLg5czl/gOM55zemv02Nd9EDuquF0xk5AznHS6sRIsB5iiIwzlWRQH8ERzW9TcxGOtm62KOjJBlaFgI/ZgXRxayWALQe3zmX3AgH0paNN27GqADqKdNOuD+WnJljG1j8kTEAmCOaE2l0PheHc/lgBI+rRINva8LZWW08gp37KcBkJwEh+wyCRoKcul9haS836kx8MI79OWuPc5k9YRsHOCvwsWi8289J68br0ydVMyq+9dZE1Srfm16NP3WZeWi9elz65mkn5hbfuf7z9GW7zS9KnbjMvO3pRo/nl6XfdTEpv3WZSeus287KjF5umaZqmaZqmsgrF9X/6z6MvQ95908xFb91mUnrrNvPSevG69MnVTEpv3WZSeus289J68br0ydVMSm/dZlJ66zbz0nrxuvTJ1UxKb91mUnrrNvPSevG6XOrk+o+F9eGTWf6S4J//NwPD+azPW8P271X+DBji8b90sC/dZlJ66zbz0nrxupycXPmnER7RE1PwoDb6OMhE/6GLj4ByYvE//pc2Z9aUtK0qree0XmyaV9Fbt5mX1ovX5ejk+s/y7zv/Mn918IPa6ON82UCPcF7MeWtovdg0r6K3bjMvrRevy9HJ9Y/NP9gP3OX+xhEev9fD2rP8W64oFQbaOv+6/GpTTx3UP97lOxK26to1qPz7tqTSY8xNGZV/69YYxxI7qo3if3amGQJ4ZCDL1nYIkies/s5PD9gFQz+99ENmR5FJkiF8hCzLbc6LIowBVGKYldiqB5INQw9hSViLGTyJeZy8X0qie1ZbJ2S+A33pNpPSW7eZl9aL1+Xk5FJSRGEAjxoqKu13EAmlRomzChedEMWgsMDWsDVyZ5AafBM5FFkz0zQIEUqiBgzzp8Kq5x6EXqCdyWo7aJVfjGXlNVKs1nqMoXtsMljbdqaQbCmmGs4UyKYzJFsdNwXzmLGINE/m9Q7IZp1816lpAE6Ngb50m0nprdvMS+vF63L35EIKeIurVCprxMOgS9aeRY1FrOBRfFRnFImgWuyIU0NhAWveN/DUPFI9SVX7OhaerSR6ijpQStVWV2X06qQAPUEPkepCSfyuqGLc20wWHCLFxKglxQlrt7dfExJDpE1ZE5xr0IJOMmBb1VO4+OvD6dtcIwp96TaT0lu3mZfWi9flkZMLsYIgQA0oDt4H3bn4taOWFq2yipWok+qkVyQLpKPBaVVhLCF/UPNI9SQVk9Ko2TLToYAHqQPR3fzaJMTI6NW5nYIeIonXA4lXXek0Ev/JIseoJVWnRqZPDM5b0IFzAP92CucML84ZDc4j+tJtJqW3bjMvrRevy9HJhXSIpOAW1+YWV6m8AzoqOIA8JmSUKIPoFb41JIMqI/iOny7bIgOPGVFq5qoXzY9HJcQQ6UjTkTw6YRgIMEiVueBJteTXuZ2Ci1MnbpKlcVVX2jppTeV4zJZiqpFJEaYzi8mjSeq4FLx1bqklPQhdHJfvZI7zhL50m0nprdvMS+vF63JycnF5i3IHFCvyDhVFl/SNNCF5nIbhBG2og6qrxI7rw5uOEZUNJLmempmmKlOAAqyBVMnAiCnscepAKcz8TiGjQ5x1CrZiLCF/FAkqKqDI2Pg1yGYYhklSTAygr2HE6Mw60zHTp0knYXHWYpgInmTz8SkyLn0Z2hnVpci4A33pNpPSW7eZl9aL1+XnnlyLgFkVTNM8RV+6zaT01m3mpfXidWm92ExKX7rNpPTWbeal9eJ16ZOrmZTeus2k9NZt5qX14nXpk6uZlN66zaT01m3mpfXidemTq5mU3rrNpPTWbeal9eJ16ZOrmZTeus2k9NZt5qX14nXpk6uZlN66zaT01m3mpfXidXnk5Pqv8vcR/lwoI3/jYPM4+RsT1+eP8Xn/X+31r6W8S1+6zaT01m3mpfXidXlKL/q3KO8qtqoh6t/tvMu7hcvP0osU7F+p/TjfStrmrwR/hLzuI+q7fi2tF5sr0Fu3mZfWi9flKb14wlMaYjq9+A6+ValPFdN6sWk+ld66zby0XrwuJydX/hCTWzwCIlIv/+4cYagHbfjPBVqJ0UikHbXBGDKvz28B9PJxq1rwZKwIC/SNHlAVOa6Z8dCFKWCbcAm8kfw3+fOWlo6ZeIYgMnrLJmAUHlVX5gfDHBocIo9wS/FjzXpCLYC0OrcZiMmguwEhTWbL8oJTAGyzZR3A+PVhs1zaqcFgqFMzf6ZTM9gxHsHpmictpMiBvnSbSemt28xL68XrcnRyeeurfri8c6/j5JsrXLUXqoZIK0bue5IkwCQDCaDvkUSgDMIwCBhKAqrVWccF0u6OqDLDMMDJYiRJhsCwNQaYk0eM5LE8qJEhc8SwyxaqAm0yD0uRDIqwkyEqKcZqtV0lbYz0wpOJV+pyGRwDMiP61pqxMx0CCMOgFyPqrGyXhcd0H+hLt5mU3rrNvLRevC5HJ1e9p6uAyDWPUS/yKh0iEXa1AlStgJ9HMQPf2FVzhCrCiOGbsKXrH+g8qg3ML6qTGkDHDE2AhuOCvYLOLE4dt5a6naMeRx+oBUT87WbIesI2oJJihl4Zi156oM4IyGZasGA8DkH3tWEB59AXcK7NC67PkmAsEqIXybN2+HGbVfrSbSalt24zL60Xr8u79SIgNXj04q8KILKp6qeqVJJEWcA3ds0AdKxjSRVhtjLEIFCgjgs1szVrR53UADoSo51Ix4VtSThTQB03pdpLuw4EFJCmUAsggPjdDHU9T4aQFFN7Qcaq8yKyzihN2+Wiu55Q+wqRdURJhoEMQRKNuqQDfek2k9Jbt5mX1ovX5ejkqhKEWzwioAoLiP6osiB3fL3sEwnJ7Cg6GWLQEHgMC9WTjhiKnjCIjEWcrJlpqnNRlNQAOiZbrc1xMewS8CdhHRenec7nWIcTPEni1HYz1PU8HwJwWr+R2mROrxhQsxFDX22cw3LxnVIDYXVGdZSQDAPMyCEY1CR4tkNIX7rNpPTWbeZlPr34l7/8hUvoX//61/r8On7//Xcyrw9fC+Myr/Xhqzg5ubjRKQm4wqto4BuPTVCFCHDNg3d8DKj6BoNIm7R9VEMwlp7Eh+geIECDUYyH7biwiJM/1AlNCR4EkK101yZGI+NmmuCa4Mni1HFJmJjtHGsNS/gf4El8qtpmqOsJ24BKXbftuwNsDbE882sDxu5y2QquW30deghen/d+G11hRIdIkeQHWwe+/6Wb6cwFNdet1byc1ovNvDyhF5FoHOKRNcPjl9F6UT6+Dn1yfTeQRxGszQknWzfqeVeVfhmtF5td+tRt5qX14h/8RL34Dlov/nq0XnyQo63L6uU3vke/m/waWi82u/Sp28zLa/Sitvzzn//E8/e//319/tOf/va3vy09PoRiDn777Te+1UmMpRMY0ch34xAZKFKsDq0HQ7lGU9aBb2Zal2IbLyk7i4lNKm0nWD3Y6W5OBvIRTLI+LCydfliczKXSJ1czKUdbF7kTvRjq/yFB/hR+F1pRmfkNpdq9alDsyFDGMqyOiK2z6kW66Lz7K890Bz0koVf8caZIPdrgELVmp6+dPKktswAfyWxYMpDTAEhHbGuIZ5fad3Uds8a9vab14WCFnak21GotrPbaQkxqq7Yvve4Z3zjTTMLdJSWJHgzAs/tfLH3qNvPyGr3Id7QRqFQUcCobReS7UX2aEAMY3QLqKHiW8HeiLrRUjO3U4lTSGWkZsITcHmPgVCsbj8eVMSGpdGJjqA751qjdMQCjLmzt7rfgtMikOqJPrmZSTrau4kwxITxqcM2fawh1gAIo+mBXLw7CUa2gUMCoefBoAF2UI3ehl1OgL6lIqBMGJ1Behsi4CVA/YdTR6UIrEKZHambik1bqUhBWF3kXuiee4Ni7EHCUMJUwkbsxBAyT2oVUhrkIdMcmg0aFsl23rAxDZElTD2HaNJ3MtE/dZl5eoxfz6y6FS1Vvhql73o3aqNqkVURWPqhKUVck0UbSKbaUeiFOWALHZYHaJXrR+LoarlLkqZlvfQqmxbC1ds86YIPFi70MAAO29MnVTMrdrctFzs7nduem96cgrBF7EF9veoLNECe2ekJREnRGWACiQfmCcw1a0HkErWvcmxrDozSBVFKdQ830siMBGtRmVWveN3DWPFI9SQVrn/JLO2yNE0hFwvXhXhfqISAjAvZtyAXzMLqKLWxjbkWXJEfU2pK2LiYBa963XzriMTMxWdJb6EKWbpj1QJ+6zbx8VC9WIXj7wVp++6USUspsw96B0qfapFUvflAjVpRc2si7SEONyiL/9vViSq0TT3x1ukpbvZhUIa21e9YB21TaNYPxsLtKfXI1k/LI1vV2516PArjLoL34wcFTM2BHLyoOKpERENFQnecwliNi3yTPIk2iQiCVVOdQczoaXFuTPNQ8Uj1JxZQ1hmwaJ2QR5JEuDEQYxUPik8cZ6YTdmKXqW7Xn1NqSNhOkKTON4ObbyDTVGdHFpRtmPdCnbjMvT+hFQPTwE6Jd5U4UFR78ODFe+CfFSkMTYphQMbRVV++GWZBQm5k6qSrLwiL/7uhFa1bbJd5gnXUBMRyu1hDSuu1uYbFdeYupXVy6gT65mkk52roIhSoCtNn/3vd3QQoQbC++lQU61RNIB8CoSiUgFFQMNU+cd7GXNkMrekiS0ZMKZ82ZmQLBmSx+qo14qrZsZ1EzE2w8Hc3Po2sCQ8dd6JV4+rp0d6EAOirO9DCWBQxT2I25Ff3jNHdxFG2SuMJ8m5Amq/WlPLKkNJmwZt7Sp24zL8/pRUD38PMj+a2VMgVURaCCkV2x8iwKKag6SU0mGfrdVK1GNvWWtkOAc8EDtirIohd9FGLUdom3VacTGfSidhhaa/cM5KM2MJDFZHGSeaBPrmZSTrauex6ie1RFci5ZlAvEGKyGAFLpQRwkA7ZOiGjwkSR4qhzRD8m5SwaKECFJnOQxTKc2qGmkKhUrrCMaI3rqLHismWkCjCwgVaUG4++yLf6IbWReBEbmpQesbRuTss9huORkRFeJ74yOkczRi2TGs7ukGbRm3tKnbjMvT+vF5pehT64KJ/5qPUYu6dwlvyq5/5aL+P5N/AV80tatcuGbwMqz/utD87PhdSAf14d30aduMy+tF6/LTzm5OHA/eCUr1Op/4r8Ecq7Wwt1Rvo942qX+UuSDtF78ibRe/FawPfxZeDetF5t5ab14Xfrkqgx68S7nf+r002m92DTfkN66zby0XrwuJydX/i+WQE/+wxrF4J/IKCOMqX9GQ6TOyClsgvWQOcGkWgL/6E5YnNg6QQ+YE2PwD78WIiwef1OoHXaL1AjxEJyqjHc64CgOIUnIpAzj219cpVfi67ph6zzXZLuVpzw1YlIBj7Q69LZa7FuKQlLVl+JYNIEeYyCqdH1+y+n0bRL6xpNU2WnWBoylB7blSV+6zaT01m3mpfXidTk6ubikc3lH3nmvKzVs4u5PGIaSguAICJze93RRHEASEr9VDzVn5ALx0UaSGsJujN3JPAiXoyL1hHiIMQO9Uh6ejEikCV0fbUaBpX31Z46JIZtGzVbLG6hNtXIzkyEj1khaidGG2HTPdIQMWSt6mTa1xRMy4rZpCwHb5MNksVMeyWvZlb50m0nprdvMS+vF63J0cnlPh6qQeFQ6+Bg7UsAuQSmAsUTdwKPCMFuwe80ZJUGrnhAP4y69b6SjkEpFEk0W1g5v3B0lygziTKmZkcRflVBVZrQ6WUgwrbdS3hjmEtbmN4bK6yh19Js0exNzOO0b9Av1rN4F60yRycNAa8TbryFNm1F2oTUTXzLdgvmm426pUFe+0pduMym9dZt5ab14XU70YhVAQTGR6zwyAnAqBQjYXvA4V+tHvViVgdScUTy1u+hRo+ipHYVW1UYkVLhbpMRTVct2xMxI4k/9UMuglRjtBNOa4BPOK6+j1NFvEuxtqV0W7S3Uc/JSkocMu3OnlWKOJkJrJr5k+mMgkjiLwc9A2/lCX7rNpPTWbeblOb3o37OYv3bxBP/a6n+9/Q3SL/krGJ/Cv33w68d9H1b7yMK+kKOTixuaYoZ7Wp1Rm7j7ozwiILj4630vdFmtojCIT/cQaQJRPEkeTGhJ8QwxQOtuPXeLlHjIk9WIs5aK01Lr+qR+/SmVXpFNSYIR5wnnlddRiEx5dKm9Uu0WuiRDSJHJQ4wZaGKgW9AbCd5Sk1NDLQloon7SZjq7xcj3uXRT7Sfx2fkfhPcyvOiLw+bk1bzj7bRebOblOb2ICvTvnb7Lrl6sfyH2Z9N68S4nJ1dOQ1DHYCgRuOa9xfFDjRE9Eo8G1Isn3UGRgUcDCHNERZjYirGE3GL0Y6RjoFSaVG8D9pJ4NEI8ShntOGupqhyxZkj9UJUcvbJcNQkBa4qiOAdRBWvEQjwawyiJIUnNU6tliNX7xslLSZ4kp7sZ0isF4M80Q+aYVPEkGL8e0LPlgnoRI9upwrvI0vlmtXdhtXd/HO5CZl/0F8PssqMe5GtKZQhfB+vJmj++qq0Xvy28R/Cs+ylw9P2Un7KBk5+g5/Ri/u2Qu0Qvrs8LrRe/FR88uSIjvi2U9x1+/N4NN6V3UjNwQb14RNWLd5lOL76Dryn13St5vnVJW984E/myM5ahT8Za/vtu/G/Xn8X7XjELe3KcPvVz9BIGdch24hWsDz+Vk+V9Qi/Wf4wO/MWhRJapCAFlyXd+v0gvFaSYhO/1+S2DQxiZgZ4iOS2gppX3pYXdJBlOD9PP719x+g/x1YXSU516qrqt8VHn2jrrr3idJiQzhp70PeKX14vnJ+A351sd0N+Nk63LS2fd/BHI28dmu8ajDTmgsXP94/ReSZ56euoBU2EkLLcRhh7YXlG1dfeKSoB16qQqK6QYWykAtAE7V45GpmlHPD4akzxgAN/r80akUhLx6bJ695YIj+M6SsrAX6vl0XgCkoSAYQjH1U53MwMd09ewurY01RnVCvXsLr7slhoowCYzYOjHSHIq0TlwVy9SZ0bEphLtnwslpaqfTt0Vr+JbTfDncrK8T+hFdUxVYNpqJjxV9GDojF7EqZTBAINpxVYJEQwYYMyz2F2d5FgpxgLqoM+yTQIZQrnG91YvUpWeGo9hneTEb06+nUIdKPEwJCF/hsBpKgy+cd7lg3qxaX4WJ1uX/e+5r3QYnICR05D7XjsXM72UIzxGT9xukqV7wkIy4zeVGkUFZg3au+y24qQjBpmxdVIVkdujvNZJgMVj0NFSSZIAk2iHBPA9zC44EasiLFNOZjw6+U7NwIiJCZanTYAzIhtOk2SIzLdOPOPWschjeTWykoBa3l1qqZW6kglI/VS4WwPc1Yuug8lJwqNNTBk/EKNnF7tDCnCVqmcXWl0fjHRxOnkEY7Y58esRHoFWquWR6WDbBFm6XTLT7Jx4GLcONDwmfpe8svMJLrG3YB9rDYDHKWOkFzUYn1dTE+YN5tWAj0m+LcDVg+o8wsIgCemYnBg6d2FNDAPXx6FtHXinXlTKVGhV9hkcCWgvBRDiZgjQTuYq+N6BVamWtPk2eQWn8Y+zm4RJYUQOAhPc6kXtkJJqGdh6NJwCYLsaGIM01Fkh0lYw4JzWi82knOvF1TqQCByFOoHz0SOes9sjkrPV4zVHsHgQY/BdiaemyqkNdbiAc8l6wzM6EJxbBwjQwGkknnqa1+FSQwyop3+SAP5l/Btm8D7j24BKTZIR+ba76MwCSh0ReFyjN/OqNWeIjEvOtdtCnBmLeCuvpUItkiY8tGLbesK21EqdVwJi1LkM3NWLFEnNwCOlOimmmUnRVCc4UAuDrCTU5dpCzqyP+cmTGdW+uzmtvHp4pLvOCq3pviXdgTDG2i4mOa1wgOHq3AeyMncnSGtsemlTTC2Djs6CVmxfEx01AqXaq44lWUaMZCabdl09wlLPFprS6ophLFMc57hLWonM0Pbd8iG9GFkjVQJqfx+9iGHM+9hN8qBejDNJttmw9Wg4BcB2NTB29eLuWrm2xp/QerGZlJfrRSDGR7553D2jax6JJ6lyDUgdTkib4zjDBYJTEiR/jSQGv+XV4VJDDCB4dzgyWNhQMDZN26qSJPF8b5cIT3XWEYm3I2znVWvOEBmXnOkb6li00gtjKDU5cTpfoYCEbbkVuim1MqzkYNS5DDyiFzFIRRIqdFK1+JPkQNn2rY8hk9qSIepYmeaw1Gu6BXOmch6N5LGuMI9rh3tlrEELpiI5GABD5tolE99CBlvvTpA8GlB3u+9CElOLGZKIlSdPOM9c0277Vur0wQJ257iFmLXbGzoz9MATerEqlV1hF9GDfRt5oxfVMUvsD9ou/t20j1O7o5awU8xd8XSXbZI6XwfNRGwynm/1ovqSplonjyxCUtnkcul0iTDMVgPwYGMEugAGyeug9Fraf6D1YjMp53rRE9OjME4NoDWnIadwDmIM/GnijK5XlOCpJzskMyey8Rg4PaBrDYECHNTW7VGOkyYMItN9OPRzhWCk5lpDiq+nP04zQ4amNYsgeBImNUkdOqMEaob14cey6WUTHbfzqjVniIyLkS6hjkU8vTCIrHnsTvKsqtThtuyWWqnzSkCMk+QP6kVGp3JwUhgp/rxyIcCYTOQuGaKORRKneVvostTbnDiZPjgukIRU2kCTafNyd8mUByiDDHasmakkdqrdJa13J8hAGpBq+a6FJWYoxiR4NEjugmxnfZ65pt32rRBWu8vuHLcQY3mVOvTAE3oRkCCqHFDNSH6ppoKByJSqF7UhmsZHUBVVIfU+HBc0HCjjipHPspskU3CC1g8sCEsBONMRJ9+WlNUzxsehCUwL2EZWvag/uIaOkkcrXGJHWi82k3KuFzlbl5+AP/QBtoZwGhpQj0WC8dSTN3lAP8fu+vzmwVhif7jFaTIGdk/qtW0pYBuQ7lw5yemhv5vZR5pSQwyopz8JibRJG2j1NtpdFqlJGCi313aJSAu2gmVrYxiJ0xogAbXmDLEtXhxiGWodi3gLAPIkRhvIQ7bUAMbznXHDbqkVnJYNhA1GncvAg3pRm4RZ1awDM3VxzrGY3dnt4vpUAzJNCsiguzkz91DfHRBgKpwn9deZDiQhRgpIYTgzxC6Zy9EEQScBsQnwFTCKhmS+dZpJgicvzlIt7xb0BgFWXteT+MwxaRO5S7pU8GznuAtVJVLq0APP6cUT8dF8T6rEH3hEL7LPspVfTt3T34HhRGi+kvNDbeBcL65W0zwA1+3JZfxyHteLnEVs5pxInJY8wtFdLsaAwgWY3eoq2bbkNK7Hcn4q+TaDTducKQ+skMhaKvWk9XzBayqSwPpQlA2F8egcbQI6npwhmQthNY9OUplN1ow/LmNdPZo0SJVpJklqpokh0qoTeCRb1iHrmeCatkbuQqTdwantznGXlAqOWIceeE4v+qsyfw3WfH98X+vDhu+jFzH8Mbv7g/GpDCfC94HCfuKyfA3nh9pA68XmJXzq+bbLI6fudHCM12XkZ/Dxn+VmIp7Ti82vxPfRi6H14mV5lV5smu/Mr7p1OcyRieJ//De/Hq0Xr8vJyYVs8icfCRW9WH9xrecu+Q18/f22HtJGLyrUMihg468exYT61bMpfQ2I0IznwWOLhMZbhs4cf4+ffcZDRHCm7xqSP9kyVqqFo4481o61CciD01nECYnEGDzJ9ghUlbTYeZWmgrya9fn0j70q6UJOhjAP6IQsyEDrxWZSeus289J68bocnVze4l7eChGdu6LhBHWMdhQPHTVIEkFAmAqjdjFAG7+2tUWOJC2YpNb5CPRyxJrZVEv7zi9BdxnkDt/0Gioh7VCttvDoqm47Zpp8Z+XJoE1HRnR0PKZNF3CsZ1cm1HqwHbTmF2pwoVxJ7XNIa7V1CjiHldzSl24zKb11m3lpvXhdjk4uLu+IkogMb/TwiPJApqzRCzzixIgaYBRVRcQT34bBoEiUEalHyGByMZ6AGnMOkVE2KQPnmnFB5wlUtYa+gWeoH8gfT8aqfY+kWDxZMchS7C7ax1cmMGJ6YVskRtJWv2R2Jzjx9aG836XeP8CzRhT60m0mpbduMy+tF6/Ls3qxCoJHqPIoVAVAQtVP5MWu9JHoiap4yLCrSwhjoKQ6gWzWACmjOh/B4daHN4b6oS5IHUsjkmvbMZ6sGGQpdhft4ysTGDFrniKFsciGc/BndicMi8YQeAbnEX3pNpPSW7eZl9aL1+Xo5PLO5hubi1+tUJ0PgmKIzgioCgUNCkOpgR15wXdkhwHaSUUBNSepqkypDArmCIYGDCdoGXE+DlXZN6TmkGrrWMRkEWzd7QgamVSKJF4DdiMHHlyZUF89HYe+DO1E8jZr/DlZNL7TZbuSW/rSbSalt24zL1+hF/1bG3/77Tf/Jmr/Humn8O+FyV9S/Um8u7xJOTm5UBssBXBzR7t4qUsEyjmErR3e5JFiApAdtEYqRSLY6mPKAFvpPmgp8qwRb7/oWh8e+z+hA4NJy3Apg0f98Ij0ybwgFWb68eQxU+Zb56LE/tCCOu1IYWBT5ptgMhCvvRsJuytDxxR2TuohueNup7bNf5d0IRtpXefdlRx45NLdbpWnoC8FZDE/CKlW6yfxbAF1U30NDOdPRIwPwht85Cf34yw/c4/uk4/oxfxoPPjz1TSv5dP1Yv33SH4xvWg83+vzF/LxfwgHPnJyNb8AXHJfrAlexWfrRe7jyPFHuCtx+GldrZ/EswW0XnycV+lF5eBJzU8N1DQv59P1olLvg6Lqa/Tis7RebOblI3Lqp/PZevFZtdR68eO0XrzLq1amad7Hc3rx97d/Hhp+W/7NaP+5OR79141tEh7VeUJAFVjaoOgZIvHUGP9N5OhFH0UPSXBanh5bIaIqxR/JrJQXNbaE/1FP9dSCXQoMA/iuKpmysfFs09oERkKmDHTBQ3ymFqe2kBbPdk1qhcYMtF5sJuVk63Khuue5XKMX65+V6zkhGUDBkT/Zzy8d0Qfkx8MQGkI8TevD2/9ZBWBr7FaS/KTSQ1o9NYMDPaIYdrtrnJO5YIDOzKhOX48xR1OmVQ9og62pMKNg2DcGbFf+HNY/8QwRvagTHvyT3OGNpFowAGoMK4Bndx0Gzk9dOsZINmtmFB8phsfMFDIWTYbRl4A8Ql0ZgyFTsP6mOecJvaiUwVCIKFyUKdpVlOBE6GAYrB4yA98qJ/UfYTymb43HUKupsYzHoz6D3QAgYBhdwzqPGMpzFJ101GlhkngfscGJ1FkMetG0Oi0Sj85apDOKYSrCnK+p7A67a8K3xhGtF5tJOdq6XoqqBG7K3Kwa8OAfNKtvtDFi01fbu1wn4NzqA8bKuAbvVkKq5Bf8kTXEOx0yPHipH3XXcwJTSHkYVlWXggKs4SjbMOUUTBIerQSoME3Ea2cNqwG3oLLy55DNvnVEnBn6kXWgnqOx8Fst374+qDOVug4DT+lFDCaSgRjd2QEBvmWmFptBU7l+k+CsMRo1W90zTXPEC/RilAogUGiSQbFhm4FvDTOEW583CKgdtZWDGNFJg6hSq6mlKnSMM5pyi1XxXdVYLePWv4yeeB+xo89qr0Ev2t2+OLFdtERW6FKnRqSrXVNBtY2Pob1L68VmUo62br1cuS+9s5UO4egir9Al9y7xURvcqebnGvYmlnr1wjpSGQub791Ktlf12vyGrRi23sVe4fHuzCKTygrwbR7RSc3YS+CKrTBMWep6wm4T365hjN2VP0GFtD68dddZwbNGHLB9I9Szdn5TYMRYJCx7YV23Neh4mz2uFzWoNqmyMsNq7K5Y7Uiriww1eKl0JdNpmiOe0ItqFIk6qXpRuaOySUxVThFYGqoliRJKfO2ordTDONJGDm2du7rQsKi6Aaviu6qxWgY4R0tNvE3YL9GLziLUqT2lF8EwcKCB1ovNpDyrF+9KjYF6v9Y7OPd0lQiQOxgIsKle2PwM8r1bCZ5BnRCcEYMZHuHd3ZlFJpUVqM4BcjqdkylLXU/YbeLbNYyxu/InEFwz231wPsLwRszANzbTdKbEWOTg1CA46zDwrfTisPGa5pwn9CJCJNIw4Ikzcke1pIKpyikCS6eSjm+6RAmZxHgMFZgayPhEAk5HMUBRBUtRP5RKQnNmFnZZGlcIwMN3VWOpHyMF27FODbCtFsxgPMNhE1zTOhZObHphY5jQXqFObXfusOu3GAdNkZXWi82kHG1d7kh2u1cm96L3ZXU+yHC/xo4gWBTCzRAC8hglgScXNgXwvVtJzS8ZpWKGR3h3d8pOwRhWVZ0DTMSmkylLXU+oFRJvXwK2BtyCDia1Jdn4zlLH+SB1XPCtaZPKMvimJJ206txdh4GX6EUgQLVneZmphv50pFdmlCS3SZZpNs1dntCLSpygBEGmRKnA2rb8Bm7QW9hm0FZ1QQ0DOvJd48HgCCmdkKGrqAJFUtBvZohKq5VDyrP7tn6FXR7BnCqzGGJJoEGemtaxUgn20umPZQGz1anhGaYMPmpDAhwCalWVl+tFh3vqaB7IWTYF9UT+MriTHvmtQL0hpqBedXc52bpc1dmH9b7UCY8sy7B65Bn6MgpoA2/EAKYQmzeVAnjU2K1km99HiUfjEewo8WicQ832qiuAoRPwM8f14e2H/XzKMKwnGA9ZRgLMFgO2K3NOKiGeYtxRteCUd84wLt8+kjMFJ4Zqde6uw8Cr9GLGAmydRDplqB3r+tckmQLYESOtTTPwhF5EiER5VOEyKfxgDL/Juxqv1Yv1SKqn6lPUs+z7U0/kx2GOWah3wNrmejihvo4pqFfdXV67dZvmy+it28zLE3oxv68Sf+M1Kcxldr37cV57ciEQ36cRK0icX14vfpDWi9CXbjMpvXWbeXlCLza/GCcnF1Jj/c+C8v/FqZPv+kchihKU4vq8/DEKzsg+uutXTWpDVVqJqR0ZUSeGHjJYg32RFwaAUqN6lh4jBsRODSkgUsxH2IpgKrSJYpKhromekMXJWplTSefQfCeDraAztnOMXsz6gE3g+gAG6CShTtBDBro7tH21YfviUsPAbnkpILPYvsdAlzQlA+iEo6H70m0mpbduMy+tF6/L0cnFJc3lrZ1bnBt9e98Dl7oBNxH0JhEQDcoOjDgHyJYYwFA9DE4gUptUBOiE2HS0YMIid3ZxiNj2okvGEvzJk5LEDHxj08sMSQVKMW2pNcOyTqtepElJRHfDaoU4t4KM5IOKIpv1kzBlYGydRGqTIUNDzelA9BrWZAuRQy/IWEKS5Ml7DAS7ti4F3XVqQJZioC/dZlJ66zbz0nrxujyiF3OLDzKFR5rEgEUFjXqx3v1CzNrtTYcRk8y7HWllOIw6BM41yxs4lR1m2IWcRmo7TZ2RMvFLHRRIbjGQSMcNtTu4VutDSUivDJqJQ+aOkZWJMy+iroB5+E6pSV4zA8F8Z0nFJIHWYU122S0PA3RC/DAM6hDrw1ukzgqeNaLQl24zKb11m3lpvXhdTk6u9a7+8U8VIw5w5uKPILiJoLfgaJQqF4AM5NSuMcm82zE6ow6BkxjtAZIwyq7OwJkCsGsGxqWJ78FfBwUCMvdEVucRJB9mQa8IskwcMneMrEycJNFJQo3k4TulVmcyg9PPkgpOkw/Q0TVZn39ktzzAoJejV/8wqGHrw1vk4DyiL91mUnrrNvPSevG6HJ1ckRqVyBRAlBiAJ1JjUUGjXqRXnEA8skA7QoRgs6kVBickyTLCH9kITkkDtdqB9CJ/ipHkxx+RNIxikU45GarzCFoNzih1nTEyImGmysRpSv5MrXrMQ1hmhLF1ko1gDDJoSAbacqv1oCm9anmS/NRgGbAdhcKcdc0Q5wl96TaT0lu3mZd36kX/mkD/+sBPhVHqX0Ooc2D7l/tY3lf+f3D71zR+wYK8kKOTi2ubuQQvby77KpvWtuV3Zl7zi65Y1QASIVf+Gvf2q0rifcQYYhAKxMTJo/4IjmWEPwQH9RgAZMNTkxuzFR9kMAaD1uoBY+oKDN0h8TSZAbB1QgqGbSq6AwaPiawrRk6XNBOkNU6m5otIGXiSJyswJNeZaqPnggHCY5KDASRJQtmWV9+IRQJNeobuUDNQjxOsK5aCB77Ppcs6HxX5lSx76gctXsmeaX46rRebefkF9aLS7VVikeRH4w5Qg38X9ywcnVxc3rl7uA4HYTEXvDtVSPNB2AZRtD+dxy9dxJxlnyuqB9mqQzbYav1Uzmc3l15khX/hn9nWi828TKMXfxaP60XE4lx/p+PRyVV/wQPznt0I3+8jcaaGZdz+dvAn8o5L91xRzc757Fovfh9aLzbz8pxezL9BhzDiW73o7/Mk/1Ce+Fd8pxcqU/kF+f1fWkEPTT46inrRMHuli8NVSVezWd62BiN3cUSog4odh6Erauiv/EPwD9InVzMpJ1sXteFPqApJqYSW0gk8In/zW/NIYYw1ovy/eRG8upb/cOKxdlwb3v6bim9GJ1t1Bprool1/hQ/bjhoZC9JK5OpaZqezJkwkhh4XQdsm2OpL4jOpDI0T4qkLkpyUlBV2jk7BVmenXbsPHmP4ro/VQxl6pqZP3WZentCL6kJlU/Si2k7xtBVM0WrYqjo8dtFplyX2j39vMPrP7lW60VenWnCIrwUMSRzOJBi70AUwrNCZJg9sh67U1inok6uZlKOti1gZVEWkEoImComw6KFtl6p1MHjUBlJV2aRTjYVhRwUTYw1pq2dIa0fLIwbbmpFKKb4KOO3qTHe+NYBIiyEsCfVASg3EV5Vma3Vap5W7AtoZPctiJIa2GWIAkRaf2gIxpgVaMx38seelT91mXp7Qi1WNaaONFEmVKphs5Ru7ajUM9ZZqLCAZbVXeaRsZvbjVfJF0GGaAqLdaQ53CFpoq1pDksB26khHX529Pn1zNpBxtXWUKEmd9flIvokjoLjxG04R4ajZQ4sBWDwVrw6ijS+1Y68FQtBEfUZVgnLZC6sFp/RIn3esokC4hwwFNllGdtTZIVQykBxjCseLMuHRfilrRyUDYmR3gp4s2TRowjD4pfeo28/IavXgkkqpWq2ILQxVYFV6gVa2mbaTdP1svZtyQ5LAdupIR1+dvT59czaScb111iSonmmZRR2d6ke/IEbrzTceESTw1GyhxIoxg2xfwOJy1hdox9UAi6RhFlWCz6Uw91RnsXkeBdAm1MJosozoxUhukKpdLGMKx4sy4dKeLzgH8iSeYLto18zD6pPSp28zLE3oRJcRPL5ILG1mGjQfthbGVWVK1WhVbGKrA6E79EolmdyPtznC1i+MmvspBnGrHWkMNwBjKTp5KLftkaKjJp6BPrmZS7m7diKFomgggwMOPqjbqJMLILugSWxU90S5ARxVPzUC8eijCCBJZUTClY6gdqyrC4BGDwpINpwHVSU6Lr86Ax0VgFBMCXXQG0qaMROJMl7ogdQUy+uA0f9LW7luIsQkjhVG5mSElTU2fus28PKEXQfEEVTkpyGT4ZWHValV4YagCQcklpMWjBgWaBKfdowUNMLOPGLUJDK41RNIBhsNVbt3ecHZ8+1jHGh5vPZcKt78r/c70ydUErmov9V24p9UoLyQi5h0cbV20hT+eoCejKFbAR/w+0sWpJYB1yFIwcZ1AAH3paNN2rLqGNbJC8HYla8e61BhRSCm4pqWXTsKiqxIJmeywCJDMgeHAVow4ayS2AUA2ndjp6ECQ9cHYXU+HyBQyoh3TxVaoE0zwdPSp28zLc3rxl0ERqaB8FST0l46zMNHJxTXz1A3BpcXrWB+aB6iSZcuz6/8IETHvYN5Ll0V+96w/G15xlYaP0z9rj9N6sZmXi+rF33//ffvLxY+gAPVXkrPwC+vF5llaL34BLOPJIv90Wi9+Aa0Xm3m5qF5s4OTk4gLg8uDb+0NbpwFc9jRtnUbqSUDuSH/tVz35Qyv66qFvnEMewE4SyND1D9oIqOqnxkegYGeUOGvk4Hn2mqewlJ2pYegB/yyP/DhJrmcb8Dj0zYwwKEA7eersMuX6EndXTA9hLnWGAJy2YjtcPI9AwZbh9MWmFHC07H3pNpPSW7eZl9aL1+VcL6IMtDFiK4MwuOxBJ8Fe/NWJJ3bUBh4jJX7IKHiiEsis3KmRlQTQpWbGaRKMxKhCtDEcjszWmS6Q4oeCH6fOAsNFCwztdCxpO0QCHodSHdGcdk+e3XWozhTM43YdtutPU8JI4mI+xXZtGcI8d5e9L91mUnrrNvPSevG6nOvF1Voubx7D9kbfvebxrB0WaIqzdrRVVCR8R10l4aBXakmL7Bn/LDWebUcT0lFPjTSh6BwKfpw6C5JYA3lMDvG4MrINeJxMDeiukfy764Azo5+vQ+2+NpRf/mFrPEUKriO6ke4ue1+6zaT01m3mpfXidXlcL3Kjrw9v5LIHlITXfHVGJG0hzPzpWMGZ4aqkSDa64NdGstzU4ov0YtIOpODHqbPIUkQDpSoe66DbgMfJ1CDVJv/uOtQpn69DutPkK6tr/uziiDWQh+584yGzyYWAo8x96TaT0lu3mZfWi9flQb3IFb4VEHjiJFilgieSBeNERiA1kAiokGiOgC7Br52EVcRQT8RWpEZqkKiZKkdqSTF2I7dY8PrwAFSYqWE4o+RnLplC5gXbgMfJWkFml/x1dlmH6kzB1RmqXnQuvIVMMMM9hQU7nB4SVr0IeIZKpC/dZlJ66zbz0nrxujyoF4GrHY8oSvAgIPTkjlcBaAN+A8AYrn8fI4aSBBQieDSgJqwx2kCAekINJKqQqBm6rA1FBmFrHEVa4bbgByEehr5ZEFcPD6Vi2wrbgMcZ1kqj5t9dh4xI68k64EnB+kmbeB41niIFkzk5j/bJQF+6zaT01m3mpfXidfnIyVXVSbMFoYPGWh+aV9OXbjMpvXWbeWm9eF1aL34erRc/lb50m0nprdvMS+vF69InVzMpvXWbSemt28xL68Xr0idXMym9dZtJ6a3bzEvrxevSJ1czKb11m0nprdvMS+vF69InVzMpvXWbSemt28xL68Xr0idXMym9dZtJ6a3bzEvrxevSJ1czKb11m0nprdvMS+vF69InVzMpvXWbSemt28xL68Xr8vjJ9ee3f9HuPxZ0vhtS5Z8GaZp30JduMym9dZt5ab14Xd5xcr1ELzbNB+lLt5mU3rrNvLRevC4nJ1f+AV//ERf/NReUok7g8R//+Ad+47H9p34x1ojy70oTvLqWf7mYx9pxbXj7R439B53zbwrnXzpOZH43GU+yNRehL91mUnrrNvPSevG6HJ1cEX8h//rf8uvFVQUSttWLAZ2HktPGiOyD6EV1pE7FH4YdecRmLNMOElMnwrGmba5DX7rNpPTWbeal9eJ1OTq5VGxV/z2lF/O7SeCxSj2Jp2YD9R/kN4g1cs24oJMRsYlfYpsL0ZduMym9dZt5ab14Xc5PLn/h5+/50GcP6kW+NYDufL9KLybtAMGJby5CX7rNpPTWbeal9eJ1uXtyRc9VvRjdhkdFCCg2/XzbRbmJgf4bfgsYFVgzEK/s29WLNXLLSVPzS9KXbjMpvXWbeWm9eF2OTi4EHwpM9EQvKv7AR/w+Rkcm4PZLvzfZp3YUAqICYTvWrl6EGqkkXR/eHqNQm1+evnSbSemt28xL68Xr0idXMym9dZtJ6a3bzEvrxevSJ1czKb11m0nprdvMy45ebJqmaZqmaZrKKhTX/+nfL16GvPummYveus2k9NZt5qX14nXpk6uZlN66zaT01m3mpfXidemTq5mU3rrNpPTWbeal9eJ16ZOrmZTeus2k9NZt5qX14nXpk6uZlN66zaT01m3mpfXidemTq5mU3rrNpPTWbeal9eJ16ZOrmZTeus2k9NZt5qX14nXpk6uZlN66zaT01m3mpfXidemTq5mU3rrNpPTWbeal9eJ16ZOrmZTeus2k9NZt5qX14nXpk6uZlN66zaT01m3mpfXidemTq5mU3rrNpPTWbeal9eJ16ZOrmZTeus2k9NZt5qX14nXpk6uZlN66zaT01m3mpfXidemTq5mU3rrNpPTWbeal9eJ16ZOrmZTeus2k9NZt5qX14nX5ZU6uf/zjH3/961/Xh1P+9Kc/rVYzM711m0lpvdjMS+vF63Jycv35z3/+z//8z/XhS+DW5O6MfXSJ/sd//Me///u/rw9v9KV7BMsF68MvxLfdurv7U3abeuse8fjKzEXrxWZeWi9el2976T5LX7pHLHKx9eLn0lv3M2i92DTfjdaL1+XxSxfNwXUlz16N//Vf/7X2/NOf6u9XGEInybkYtIH4ReTcVI6PiaekeoukF4ZOWvWAGYBeeozX+TjUbPdMPJU/uxRA3xSZCnFamx6+DchyxeM0wfjqIThhQx5w6daHMvTj1PfoSyEng4JOwx6H7kw8NnkwyJzVgLz9ga/ZurD2/NOfUipg6yR5SgWqZQjfiI+Jd/3zstILQ+fu26GXHuN1Po69IAnzst6xAeibIq1Zp6MMs8hyxeP7hbyReOgb55AHsOvjOyqHtfPygxBPBq0b5hF4s/SKncnivJuz9WIzL60Xr8vjl27AmcPxHSStN4ROwcOtoE2TrV5RGBmXx9woqQRDZ6gHes5ucsb5IHTMrSY8mg0YN5rgQVKqFdq91p8JQtZhKDt+INglojBLrXOvkaEGPE660N2VZx1wuhqUsR3oHDqaR7sW74xImKUY+PqtS3lWtZ1pXgHk9SU+46YJI5VgDHOsbyfLy4hxPkheU6h1Ut7uKp1AF9BOYdWJJ3YmSw1UohPiByblSuJJqWQ2vkaGujiPU2tIdwxHZ6CU/SC1DOxa/N2crRebeWm9eF2eunQ5CiWH4+Nw7q+d366ZeoILMRyy2ss98sOxWz3eInzrqU4g8zrScqAzXC1Y51PQpR79S+I/GFbpLnXipHXK1VnXCpwXkdgGgI/BdcCZYpJwWbZ1lWBYnMch89rtDZ1ZmfoKHqS+mqSqt2/NP/BlW5fVWzu/qViSnGzdrAOGxecVpIlvPdUJZF5HetHWpXvNgG1ySc0PUjdYplCdeNbUC06fSOzz7c13iknCujJQi19dj8HQa7c3LAYjAXWVHsGcsdP9kZytF5t5ab14XR6/dDnEvR7ecbZy7qdLLgM8pNIp9c5gLIcDz/fE5xbhOzHVqQGe3QxXC86B/hQkoaPDWY/+d1Anzmo45eqk/sxrgKG9g9OxkrWFJLyt41u27eI8zrCMgtN6IK/gcWrOpKLsrXPL12xd8mShmN32ZUmaoK6DWyXxaeI7L6U6NcBB6/rAs69MGJqOZh5W5lnqBiOhU6hOPJnCAEM7l3Ss4MwCJmFdSYzYz66DK7A+FOL0HWk/SM1Zuz+Ss/ViMy+tF6/LU5euBzpn/bNnKx3pjuEha1o8w7XBfRAPRmz8BJsBcotgpBIMnUlCa87uDEpTnM+ScbeVP0VKdTX41qkBdV4DuYQoIAsS8OSVJSGRDge7i/M4WcbA4/a9PE5dAfKYKnOEmn/ga7YuedKFUs1DwmEDZGGhrgPGbVY/e+tmGRnCsd5HnUsKw5PVxjgp0qY690BV+LWTEE+GI2C7OI/DiMkfkqduucfJClBbuj+Ss/ViMy+tF6/L+aXL2Scctd4EwAn+jrM12ertoge8CTIERy0enfHnuMfInUc2u8RJXz2MmDpp1UnOOB8kfYHkOtfnBT2PQwGUat9MCmeSQwKAmEwK0iVzB5e0rm0Spi9NsWkFIx8nLwgYS48GUFjey+NkprwaU1Fkaqv5B75s69Ir3bP4esBdmiEovq6D/vSqTUkb5+7boVXnO7ZuqgJsnSRZXWU/Pwg11/cVZ5IDfgPAmPWhdEkScHHwZJVqwsR8cOumO6Q7tgat78iZmWI8lbP1YjMvrRevS59cXw+3yLP3dLOlt+7XM0jD5n301m3mpfXidemT6+tpvfgSeut+Pa0XX0Jv3WZeWi9elz65mknprdtMSm/dZl5aL16XPrmaSemt20xKb91mXlovXpc+uZpJ6a3bTEpv3WZeWi9elz65mknprdtMSm/dZl5aL16XPrmaSemt20xKb91mXlovXpdHTq73/eVkzQdhzf2r3dbn5kd6635b/n35qyXzN002A60Xm3lpvXhdZrx0r/CXejBBprk+fA4o0S8Qowxx+xuNFyIg6l/XDDqhBt/dcr11vydfsOb5G84/lfxN6ZAfxrpFgcnq57WuroX4d2m92MxL68Xr0pfu9+QLbsSbWvwSvZiJsIv8NzzwZGgM7tfYj8+6t+735Av+U+fL9GImguGOrVtUQak0ZNaP77TWi828tF68Licnl6chcD7mKKz/GZ2bL5HAYz1SsQHDI548xPCdPLaKrUCwHgN0OhwHt49gTHq99gqpM/VKSCWQGOpJSTo/Tl1Ph84QGMZQDPPF46vhO+XRfSipJnTB61xcWLOBCV+FdWpjOHoModpUleC79NY9os70aOuqpBlXp2EfZ7vIGYLhjHE9dfLo2/cRYyiJbx/BzV9fmau9nd1LILkjgoVVQ7B9ZLKZ4F1aLzbz0nrxuhydXB7THtkciB6F1enFgK3z1ueNeqRiA4anvFeI1yRG7cvRbCsQQBMGremes7tGYhsA9Ir9cRjaGoQCch8wiraLYDFM+YWjM1zWECM289VmrCwdUI/r4zpbCZFDSXXBaUorRpaXXrE/DplTPENTHsZQWGIwiJH0OqK37hEMbQ1CAS4CMEpdEF8Hzrur/ThMMPMlc2yG0HY9UyFOS/K9WMluSYS5emRI6+7sXgKZUzxpSY4xFJYYi5e7NbRebOal9eJ1OTq56lnJye4JWI9pIIBTcnBCPVKxAaOGYfCoTebcrxUvBowl6o8awHG1EwDbSt4N+TN9qTWD49awF44ONVuWCDJiFlYSUxdqSHJb1gU9NUNd0prh4zDEOuqbfgKqig3Y1hnjEXrr7pIdEmrN4Li1qm2Xj1Cz1fmevwvtrElNQjB+MfLojQAxq/VhSOugkOHqDgFirJPCsp53ab3YzEvrxevyrS5djQpOjXq97V4wsK3k3dTrSmrN4Lg17IWjQ82WJYKMmIWVxNSFShK+ky0rVjPUJa0ZPg5DZOiAJ0MDo/u4G3xEb91d6p6UWjM4bq1q2+Uj1Gx1vufvQjtrkiQEb1evZtid3UsgbSYS6g4BbB8pLHXepfViMy+tF6/L0cnF4c7J6y3IgehRWJ2cjx7NMUI94ml68NLlaDaykszE1Gsj3WsvAuL/IHWmUifFiF4kudWgTvDj1GwYsTNfvjUky1gXKkn4NhhPlhRP0mJnIrfBXjeROkrAk+Ixdku6S2/dXepMpU6KEX3Rtaq6jT9OzZbhgKVzGet6AgF00c6iJQnBGs7LyDi1t7N7CXWUwBApnoAsNYWljLu0XmzmpfXidTk5uTgZOQ2hnsgekZI7KZGgh3gfaQI8dMw5i8GjNpHJYxeJR6Neb6nBR21woFexnSll+5hK6tVYJ/hxhmxZzzizsJJlHBbKeJx2pymtcXoHMxEfX3jjAkVulwWPY0HqgW0wU6gBld66R2xnmgVPJbWquo0/zpBtu6/qegJ+dyAQplGT5I0MkeC72M7uJZA8NQTelGPJ6t3Ti6wwAdkhldaLzby0XrwufXI13xmu56otKr11m+/MVkGG3rrNvLRevC59cjXflvo7sC29dZvvDFt395eL0Fu3mZfWi9elT65mUnrrNpPSW7eZl9aL16VPrmZSeus2k9Jbt5mX1ovXpU+uZlJ66zaT0lu3mZfWi9elT65mUnrrNpPSW7eZl9aL16VPrmZSeus2k9Jbt5mXX00v/v7777/99tv6sPC3v/3tT3/607/+9a/1+WuhmKGez4M5MtO//OUv6/M9+uRqJqW3bjMpvXW/AP+mzNf+lZyvov5NotPxhF5UjgR02Nrwafzzn/98dqBBL5rhZ4lFmF0vnv+1JsPfvnvC45HfAUr1bwN+H7yFwTjng8PNS/2bmZ+it244+atb7pL1P1+rykeG++Z8zUV+vnVZ3npoUNJ3OxmmOKy+8y79uXrxwSvpiKf1onLEX9r9/e9/t+mTeIde/G5cUC/y33ZbEfA1l+6rRjk/E++emPmZjHHO3YTfHzbJO6bw3fTijFv3/Go8v5x+Sb3ISj44l4HztXoVd/UiZbAPfcR+x4/VpzLFYfXgwftT+JptdsQHV+adejFKLk4faVJKCq14kJXr85/+dEu0F0MGdNXvv/+uk/xmDsasD0WqJpWjm8GmGk9CPJYdP4aRL8f8UPXidtavJe8Ce3etBj7p0t3l3dfhU7xqlPMz8e6JyZoPxjl3E/6qfDe9uMurNtU57x7lXMCdX06/pF58N19zkd/Vi+wEzg0XmZJyMrA9bqf5vT9mpYth6Uj84NklHaNW6egf7IJ9UwNQIc547KINWcmkBewacz4RMqxxb6uRYiAx5MwQOrXBiVDk+vyWh2+GthcZCEtmnInPchGvB8ywS8qA8zAXJ+8FbMqUT1aGBU+FpNK5HZqYtGJ7tqwRbx3fUcA79aLSp6o6Y5SGiqH80TDfVZntxqhvVDZ48GNElWKDXcBgDAPsZZfoRSvMKDXeyBrwWiyPzA7nBHdn/VpIzhAudeaVtdpycnJlR7LPsnWymUCPGzHbrjq1MWzC0JnM4M8zkCE/sQRk99sK9edZD9ni3GbGrp6j3T+QiZDQDJBirJYmH4GfzNQA6YK9NaRWsh2uJvdMOYHuGZGOlndCVgM8U/gmiRNkOB5tFeJrl+QnPrOuziGDb2p3RulOq2F1a+E0LK1bLr51s87kJMC3CZmOSVIMDI92YVmsikcH2n0Ru8NlLDAsmGR9WDZ/KgzpnlEwAI8laYu1HdUf/y1LmVTNgDOzAANED0PgJAzP0DFhrmolkXU/6NkGy129yIikBR4pyTzkT8001formXvIpIDk2xch5EzB6UK8ZfCIvTT+EInBTJOz5sfPNwGpR0+FpqTaUjMDkamB1dCmMMKslsLyFjKWAdpWi+FOyND+MDoWRjJnuGQgJs4TSOi67VLfiKTybdMWglMDxrCAGRp/Vh479WQulccLeFovBlVa1SigOqngVK5FIe3G6Bzk1KAXlVwBz1bzRRpWTWZHstWEcRrzQhiX0WNbxu6sX0t9F9u12nJ0cvnj5M9Pdmf9UWFLuRf9CUwk6IxRd7bO4CjatNaE7l3iNep2x5PWJE8NNTJFQvUfQYAxFkYXnRqQn6XqDDTVegYjkCSZAaMOF3hM8UewDmaArMARlJdiSK49DJ3a+E5mMVKbMGsbnC6O8Ji0wqO9aiW3RJtp0no+F7j41qU7fgwHNQNd8goI2DoDZZgzAxGckkIy7w4XSOW8KnRxXLpkLgFPuhC5XRb6xsYYRqz1U48DpYxMSmqqgMdeqaSmCrvFh+2iEZwM27LlEb2I4TqT0JWvmbfjVuhYa+axMkwwkHCNWHDQOgWcGqyzrYDhiwAi7RvwZAFtNZIFNwCSaoA66yygjgv05buG1WJsBcby/YozgrqANaauc4a4FVqwdUuNTCVbMgQFr9Fv5wbf2Clgl7oOxDvQdmhizlcG3lHA03pRORJ29aJ2RaEGxO/G6FT57epFB9JOhun0os5PIu9id622HJ1cdavlR6vuLYgzG5FNNjj5dhdWJxC2Znnbu3gYCKP+JNc8a/RCnAQsgT/8BGYUt37IjI5g3PycJHktFXTWoWFtK78Kwh6MWkwyb4dj+mvQAwUbjEHfu8EUAOvD24JDagaSWAaRWca6Anqy2mCewVm707p2fptRbaVLKsdY4zaKZMuVt65Luj6UAgwOpk1+wFjb3irBY/JaPJ41aHkRgGETZDgKNgayViFvmWyZbKDLav24VomksNRDsCOe1A/JU51AsN2BALsDYUMrvXQ6ZamptlBk6oS1zxtmG3hQL7KADA2uCUayUV4ddAuRjO5LwcgET8i4FZzpSx6N+pqy5uCiaYe6kvayNltrqgHCmPL6sDAEm6SG1WIyBIvgOogzgrqANaauc4Y4X+1AvH1rJVscwpXhG08tAAhI/VvqOtDLgbZDY5yvzPsKeLFeVITx7aMontRqfO/GKGtUfpF6VfdUm1ZsjJrKGqIXq5RMwq/Ri5mLwzn07qxfi0vE6LtrteXZSzfOUDdifq7i5Du7sDo1gMI0/DHGyHCwmyfgJECbwrY/qHSJ/QiMaxJI8uoMw9DWVivPvDTIEM9u5urUoGm72luIIb7WcwRFWqcwEAXXmoEA6hQ9ZAbtOLPaYJ7q5DGRsJ0RoyRndWpAcp5w5a27XWELwKlRSX4gYBgr65/ity8CtsPp5BsPXcDWYABG7Ruqs65VlgWIkSTHPqr/yIkn3QnIC8qykNNZVCdhVlJTHeFMHbpmO+JBvahNQithFnVSDndCVoNe27ezZTen71qbSjQIq0tae2XdApHD6MyOMO3MbourWheTyHQkp6tRX1AtJtUSEDsZSJtUUIskW9Y/HTHiPCEFk2S7mMEhnKAeikkBgqfOvULmFI/hAm6HrhMnrK6Mke8r4MV6EVRLol/plsfdGD1kw46808bvY3pVDRSn8ih6MbaY+Wv0Iixj3uqkvMwlpQK2zhdS30XGqms1cHRyuZPcLtmd1RnYrDXSTZmf2/x8QrYs325N+y6Nf+xOvtNlN0+gCb92fsjxYOusPzCPQEKHc6Ymj7OCp54vRuJJkRlXg0pq05C5DkeYE6EpEznB+Wa4E+pq0Mt66moDtm8hUMb2ZWW1IV3izBQkj5lRrQSPTkZxNWwdythy8a1LTjPwnVnQPdsy4MxYNdLyGMhBU/zui9gOB6mQ1u24QOYMNIA/XZK8LgvGtuNJ/ZAuceJJK+TR4gnDxmMlzlcnJWmQsGY4IiMm2wmP60UKpiS+fSQ5j3BSkl3EtYL1eUHPLgy9BpX3XpNouFDGMFx9TS6s0BdPgsWp1Ylkdlu2c2EsH00OWXmoxRCjAbwRe4EesiUDEJC3Rrasf+LrLE4WPwMRU5dlIENkOngsIK/gpDtN6Ziw3aGxddIap31piu3jgwU8oRebX4yTkyv7jx/C/GjVH2D3E55E1rDstmzZOHOmEJ8uGJ4I9Se55sGwF+DXowGMUn/IE5PawJ+Hc4ykAIKTnEf9YJE5PniMTQ2pnMfByDpgJLOeOhzfOgkDw84hOKt0Tl0NPXW1oS6yfgLymEgKy2rjdE10ZjXA+N0ZZSBa49QDeMxJwWkduPjWzTqTKssFOkUP2fKYnHSxPPK4wrV4YyCZd4fLvPBsKwSHzuwG7AvpW5eFIdbmhWFNtvUDMYOTb+PBDMzRR5osLAOZU6eV6wQ8QN+UJwQbBnaE9XlBz8C5XvzFYPWyaLw+X1DzEeqPydfTevG6XOrk+lXhGstd9RG8ONeH16X9CJyMu0IEeut+f9g/0aDPUl89t2NE20+Enw6F8ge51NatkhpWb/MBWi82P4e+dGeHg+PdV/IWTqL1XH/4d5afB3fziUrorfv94fUdyf27DL9ffIlQ+whM5FWXdG/dZl5aL16XPrmaSemt20xKb91mXlovXpc+uZpJ6a3bTEpv3WZeWi9elz65mknprdtMSm/dZl5aL16XPrmaSemt20xKb91mXj5XL/o3L/p3H275rfw7KAEnrA/HbP/ex+ZZ+uRqJqW3bjMpD27d//rx77o64d/LX8nUNJ/K6/ViFXytF78zJycXa7taX8g/yt9aNws/9283uCxfoBf/Y2F9OCZ/Y8hL/n94v/JH4LPHah2zS+vFZl4+Vy++gwe7t178OC/Xi/4tGO++OFsvfnPQT7zfejnpkeHdcds9eOG9g++jF5/dACzUau3RevFnQbXDq9Ej9RV7yr176VovNvPynF70h0dW16Lw9KDh6j/B9/e//93fL/7zn//EHxXoP1VnxziXHjfi9N/uk/waMk5i+G69+BFerhc/yFdelq/iWbkwNVxgzLe+IxRVHmnNUnCBcY3h+aSb7PvoxWdv6/OfrK/8EfjssSbSMYozCq4/y3kc/jPYPf/uE/J86zIimYEh1IuOLpRkGOixbNcZQydYbe27dGqaD/GEXqx/rMz+U6tF/NGqJ4IPohdj4EzfRJqEDMpBnRlOJ+oTO11MaJ7mfZzrRY5FvsHD6PzYAs9WDP013sOLPHTMoWYYePgCBujM6KDnQRw3tmcuYJgtd5iP8IgsGEg2Cs4dk6k9m5B4sC9JVm9JGCdhjIjHefGdjpQxrG3uHiBMZ2JS9oP4+urygvVoY2QUl6W2PoUVQl7WwMnWHdYEz9GWILlhoAeyPsN04tQjCcbg0YEky8twdk9VYDxN63N5ZRliO2jN78psp2CG6pGjSG2hqpSN7RApe1tYVrKSpmSA/39755ogN26DwUPlSjnG3mJPlJNtqlWab2FS6umeh6dpoX4oEAjiQdEgM4nHqTT+BQPMwNFde/THX0v9sA7kUBOLbMS6UMzSA6EHTWA6YFCHkJMtcWst+K+jlbNKw52ta9o8kSkKV+pD0iA6CSPwypTkJgz5sXiepdE0H+CJ+yLUHx/mzjf8fxBzpYNcE7n8IfB6ePnjGSdRwi3MG0yJE4aU+774Gd69LyIMPVRq2xr6ERMHgfZn46utzRaPwPS0RQTbXFViFvkR7LmRnYtDPQf0yRz7oYr74EpvxnIumjhhWYYOfh9qTM4kliUyCuBQuVoCxn4dQqN3SbFUCFkTPM9f80Hitn50NEkyS6FM0MR9CopiovLZ9Ee2rvsNoaaB7JaIAFkWJmZ94oenAlBsahTs862ZomxEZaJkiSCZVLK2ONf4MCiuEgsOS8CSEAyplzPLmhigT3Wpa0iYrJwOTI8svJo2c7MCcQWkUXOrZnURki0a5WoJGJuYS20aTBzyAaY7awhdiQ2uYoMrV8PQ6pHN5zDWnUrDna1bfTLXQGCxcpinSvMUvywOka2iaT7PE/dFL3/+2A/hqfsiMmbo/VGio7HkOd8XtUfIFbPvi1/L/UNX4d225VBQUzuXqEw3pIXZ0XjmXKzK2uOc/iAkHPskr1LnVS8kkBwegbmWD0kV5a3ON57q0TWB6pA8VWbpqiXEplaUZYSalRqEfIWnYKKx8B8PJLP5vpHEqgHCU0tBiN3dG1mEyiNbFyifpdOnmiwUWW3ud1TWbLeVvlWEcjfaSJnCqJuhbm84/I6Ah136NQfdovHbzUGTeTgsIR4qD1rW8lOXmaiE6GFOCcsUG8st5r9kOtRFSz5ZOmEKz2oJ1SYrXPPBwHBgRDVJLzBaZ+X7Wrgk52qAfvCmccisyrP3RZRJry5pQlelQlZSzgpvmmf5yH3RC5x3NW51yBpE4z0P6n1RGXLJ226GN0svkfGsMn6ceOd/j8505OZxnrovnrUtNUENozEOKNMN09Fq/61KZJUwR7kDCc/JCz4Z4jnoSSA5PAJzLR+SalU+S02gOkyLz9JVS4hNrYjpWUYFqGuIN16rn3dx6SrGxUlCBFLdjTby0R8Bt0zZX875kvvinBgaFx+2lb4tUVXOMOp3zzcSlsVZ9TtCzQTZocRiius5B03mAYMaUeKh8qBlDYpsXUKqeqj6OaVUBLGsyoG6aMknSyeu2NnyQlY4+TCUxGrCgD5DgitChDqxpiG70Rt+tYDmrNJwZ+syNx7IykzIwcIdtRY0huY1ysxl1JUMwyI0zcd44r4I7Ejh0pZr3656u7FxsfOVy1+9L/oTwbxCLn/gkG5VendUydP7YpSa9X3xMzx7X5zbFkNDS83E2ARe9QDMsqMhpEEjzEraYmY9SEKn54bbsbz12Zr5nOp9cGueLoV+ovwAyQpwMjtkBTSolkAVnhD5TMB0J/LUGE2+i8TmQeJKaj6zH2KZFbhEeX2E+mnOuL91zY1vmqoRhi1xmBgTs9nipypnGMrmSZTqPN9IotdGJTbGync5DBr/UqOEwy/7oCWvaly6IZbrVhOLfWDIQqqHKGcwiLfkg2AsSLhqCVhippwVTpIMaWzhtRBAs0sbTKkGNe2EEPRJDGqewpSzSsOdrQtMJwGozhFU4t/crEsNS6Eyc1WiQYgms2qxTfMUz90Xmz+Jp+6LcKdtgb0VYbPdDwyxW6FRAIxz0qSpVSWCyqEjP0L6JoLTowFt5syfwok4x3OmZ30A/yofASegTOGzwyxLtQQMDFQ/U5YxNTLkKENq4KkMB3v86JBkkpswlK8svNac3yVpg1Fm7m/dbJ4cjSSgBiE+62qkCkbVMJq0s0VhOG4Ziqbu+ShxWJfO3Fyi5JklImgymYPO/ucSqofKI5ZZeUIDIeq3wF6zJIagJlQPOM8iqBQ1gkGc1HwQNM7HqpaAQfLJCvOMfb4js0zDV6i7kaFMETwDAhMTQtDXuYC31CiGkF31K/fvi03zyvR98bp052oW5f59cZea5vXortusS98Xr0t3rmZR+r7YLEp33WZd+r54XbpzNYvSW7dZlN66zbr0ffG6dOdqFqW3brMovXWbden74nXpztUsSm/dZlF66zbr0vfF69Kdq1mU3rrNovTWbdal74vXpTtXsyi9dZtF6a3brEvfF6/LWp3rr/Ib1+6QX8b2tRD9P0e/cO4PoP7Wupdi+JV7lbW27nf/lW3+XBDiu6P8OH9v7C8vz9nn6Ptisy59X7wuZ53LX7p759b14NXta/nZ++LvOYxJ/vcv7J90X3zNrfvdmye/kvpbYelgf/kJ+r7YND9L3xevy4c7148cug8G/Y774sveqL6EP+m++C4/snW/+774HXv+Ben7YtP8LH1fvC53OleaHQI9mif4MwxOXF/BU4pD3dd080wRNU70aqIeclPBILPqLQEDlfWkT8T5PpGzUwNICKarGWbxam48eaVMzYBXvO0vb/8kWlZAexg8JNC71SGrdCKvLnKqhs3w36ziU5hSl8XpiaXbvEKMkyQ2+qyVJsnBVTDuMDSnjQ2j0cwGoUb3C1JL0hh4ta1bDWYY4nm4vFnDs0oH5/MqZUkx4zUOz9KbPbjOoHKbdMNZYG74gaoHFxb29zefAwaNnNySvH7yChpAEiOuCfBUA9Sr2eBqBoMsjn7AV0hKDNXlchRicEiiJx9khYG+Lzbr0vfF6/L4oYtAH/TYAPpp2mKVMaBZ17NBDYItXmUFA6dXA5qvs3AOCPrUMkpgemRh7nBiJcQ8JBiAcj3MyEF9VZInKBNaz9VDZgGjpndYHcoheSY6FDAw3Dwk6M1BWZvDpQZGLcT1dDUIkepCkjxzRSxQxuYsbXJLoEoMQgJltfGZEAMvu3UPmUezvAjz4lQG55GzShAndcXIjQIR3vXALJTmUz9cXAl6h0Js5qGBurCJmwxnkgbPpIGHIQo5v+sqYKmNybhi4d2vGYMZhlw9yLc4dAJ9X2zWpe+L1+XBQ1chXR5ou2mdKLEJ6G3HGbWT0oVrr7cpS9p0DOI/0wdlej2jOU4ko3MIPCBnbqjtHkunCN5Q1tox3sc2zLl6qHHB9G61TdXVWRJNTcOJPJEHe2CK3pQ1QMBYpWyeblgIU7BxqFbnEsmZK0ksYJZJzmmjYXSzujEbCK527Rsqk+TAy27dQ7BUmJdXzbwnQ3V+uEpAqnrAch/YcPXe9VDXOd+rLpTEj6skTtRtoszUhUX2c6g0nBDx5nRDb/hPGlv8PcRuVP6EIldXM1kliFsc6geiSRSYDWb24Tf8sgiODvR9sVmXvi9el686dO2PFZS3xlk6eO3Cni7KcVUNoqzOqzJ9n9EcdeLoYQjBAPaXDTwkCpaDQ6i11wMsVA9UkarDYXV1lqghHMlbY50IGKQuqfkMDrFEg8BTJymkllmVtcxDV6EaUBH+D9PGZ1bj0EBwNXwUQDkEDS+7dQ9xyp3lRZ+hger8cJUAZVY1aYd3PaDMOud71YWS+MGDQ3UiMEqlta7gp49cc8AVQzy1SSHGwn/SqEqFM1f7+69klUC3pJqsDr/mocFM0q5k4kDfF5t16fvidfnMoZuWigzKMpwiMnThuML/3KZxqDLOiR7LKCEnR/BUOAwRUpTgBHtlAw3dv9ZOuLm66gFh8A9bcafVBf2YgxriZqJY4P5SnBg3aUDSxm0WWY0h9MN0ldhYmqOHrgKWGoPGzlKDsWnj0/Tg0CAMEYHXhBh42a17iJncWV5ItgOD83kikBI+ERia/bzrgddUne/FlGEp4odwesBysEHjmswkLjZZQ9Hz4fbgmRCMqkSTlT90tb/8CpaWZiCe5JPpaOaveWgwQz5z0NQy0PfFZl36vnhdPnzo0kbRg6cUel9Bzf6yYSfdmvC/LZUO62ht/TGop45mhGA0ykT0AKgwZA5zCF8hgQQDTzLBeLd7819rh3gGJw4e8L8PH5VfqxsKiR9e1aNx4lnJ5KYeS6dHAwZC6SsGKQS3KrGJMlHOXAUMkmQtTQ2jKplVE54NQpIERtUozLzs1j0EY4VheR2SMw+D83mVALcmDxjvwyf531/n+r1QVrP4wSZ6h/JZs84zzNUGQbNoQJvD7ZFFI67KlIDZmasZLOPfDwd4UINw+DVng0O0kWgUBvq+2KxL3xevyzd1Lrptjhw6+50jpFkXjk8+7v7y2+mt2zwLXzO36h+k74vNuvR98bp8X+fyv2fLD94qmu/jj7wvwr5rN3rr/kn0fbFpPknfF69Ld65mUXrrNovSW7dZl74vXpfuXM2i9NZtFqW3brMufV+8Lt25mkXprdssSm/dZl36vnhdunM1i9Jbt1mU3rrNuvR98bp052oWpbdusyi9dZt16fvidXmqc/11/pt4H+c/578d7QM8+BcevzbounzJF3yK7/sbqb11L8Vlt27TvBR9X7wuL3Xo4v+/b780+EF+26H7v+33Ayt/yUFCpfV3Av8ePvAFP1nsixy6vXWVe+s+zots3aZ5Kfq+eF1e6tD9AL/t0K1830Hy3fR98TP01v1B+r7YNK9A3xevy1nnolFyUEl+cELL/vvtH92qP02hsarEQA0CxMyfcGjAUxs1wHQ19Z/W0BKiCckN57Wnq4T5dyyj5HlYVCoaAiVn02OuQor1FT85xpANjaANJL1UZGhe68Q6BGSVxKKEWDI6aIbTVP8OxUOCZhaYoQUmSZVDseArWGlWCZirDXPVEIWJgysYzEDNU/TWTUVDoORsesxVSLG+4qe3rjBXG+aqIQoTB1cwmIGap+j7YrMufV+8Lo90LtqlHZaumuaLkPadAwClcrUEuqoePEhUBjzoilEbNwJsg78cTpLQPPGWnq4Ac4hZg70pzUNCVhoIzlNRjZXklesUSEXYMKpSUheCNoCNMhOTWFJlaIgFg9uAcU04seJBkqFHoKNRQi22yoeL7GjC8Ywy4NmPOyfzFL115yFxb+wvvXUn+XCRHU04nlEGPPtx52Seou+Lzbr0ffG63Olc9EQ6psxNP32ZUTXAqMpqydx0f4i954poHJ8cJPvAhj1aPBv2l7djQGUFzW6xgUYB/xqARRnL0YrpaQM4TBX17GF6KvUgROC5RbgxL4hEU70x0UOU6Km6Wu5ON1QiOGWgRsTVkMacYS0waUDS47lPeEM9lvv7ptFsm3oj04mrDViamiT5LL11jeVoxfS0ARyminwOYHoqRdae5xbhxrwgEk31xkScIBA9VVfL3emGSgSnDNSIuBrSmDOsBSYNSHo89wlvqMdyf3+Zrds0L07fF6/LWeeiFaYF5yw57OP0TTXA6NDcgblxBdrb9NXEOD6JmOkDhz19UM44is+5KMEgx0zFEwWBEJlrUOWaanwyRYGheUEkmuqNWabBUoDKallzDiiJGHupERka0pgzrAUmDUh6PF2KCp4Hy8GsKnmiuRVWUiV6hp6it65gkE9QQelcQmSuQZVrqvHJFAWG5gWRaKo3ZpnG9nl7696j74vNuvR98brcOXRtprZLGzT9MX0ZwfaNWXpolGnuEg9Y2pF5jSs0GjPqAYCQVj6TKDzTr6M8xKAYzEUJmuQzgJ7RaoCQuSRszmjiM1kR7qwi9Ca8ObjZQBaTpwIcWg5gMAzxWhOOB4U5w1ogVSTbWmz8BJJ0uuXrM2Y8VQLCbcI2mtKEWAnxOL11BU3yGUDPaDVAyFwSNmc08ZmsCHdWEXoT3hzcbCCLyVMBDi0HMBiGeK0Jx4PCnGEtkCqSbS02fgJJOt3y9RkznioB4TZhG01pQqyEeJy+Lzbr0vfF63Knc9EcaZSQnkh7pV2qtNWKGpjPCbH5aoBblbhViaBxOngdhaEj298BY8xs9LZ1SYiAUmEoqs6qCUMsTQnLuHURfI0HHOozBirnihB4rUs0xAI8gPKhJRA6Cwu8aiPMAocQosxSO5QMa4FUYZKg5VAsxHh/31yZw+EHSjJoLA0hmswaqrhDb11foSYMsTQlLOPWRfA1HnCozxionCtC4LUu0RAL8ADKh5ZA6Cws8KqNMAscQogyS+1QMqwFUoVJgpZDsRDj/X1zZQ6HHyjJoLE0hGgya6jiDn1fbNal74vX5aU6F704x0PzSXK+/qn01v1T6a3bNC9L3xevy+t0Ln/84A85ms/Th+5vo7fu19Jbt2lelr4vXpfuXM2i9NZtFqW3brMufV+8Lt25mkXprdssSm/dZl36vnhdunM1i9Jbt1mU3rrNuvR98bp052oWpbdusyi9dZt16fvidenO1SxKb91mUXrrNuvS98Xr0p2rWZTeus2i9NZt1qXvi9elO1ezKL11m0XprdusS98Xr0t3rmZReus2i9Jbt1mXvi9el+5czaL01m0Wpbdusy59X7wu3bmaRemt2yxKb91mXfq+eF26czWL0lu3WZTeus269H3xunTnahalt26zKL11m3U5uC82TdM0TdM0TWW/KPofTdM0TdM0TXPAP//8HykJN6W7HSSfAAAAAElFTkSuQmCC)"
      ]
    }
  ],
  "metadata": {
    "colab": {
      "collapsed_sections": [],
      "provenance": [],
      "toc_visible": true
    },
    "kernelspec": {
      "display_name": "Python 3.10.5 64-bit",
      "language": "python",
      "name": "python3"
    },
    "language_info": {
      "codemirror_mode": {
        "name": "ipython",
        "version": 3
      },
      "file_extension": ".py",
      "mimetype": "text/x-python",
      "name": "python",
      "nbconvert_exporter": "python",
      "pygments_lexer": "ipython3",
      "version": "3.10.5"
    },
    "vscode": {
      "interpreter": {
        "hash": "07435c5db8cdf0eda12355611327544e1e2ed2c68f64c0e507cf2d1a5a42fd93"
      }
    }
  },
  "nbformat": 4,
  "nbformat_minor": 0
}
